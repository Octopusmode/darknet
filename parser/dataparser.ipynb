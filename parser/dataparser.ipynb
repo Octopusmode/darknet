{
 "cells": [
  {
   "cell_type": "code",
   "execution_count": 8,
   "metadata": {
    "collapsed": true
   },
   "outputs": [],
   "source": [
    "import fiftyone as fo\n",
    "import fiftyone.zoo as foz\n",
    "import os\n",
    "import logging\n",
    "from pathlib import Path\n",
    "\n",
    "logging.basicConfig(level=logging.DEBUG)\n",
    "\n",
    "COCO_CLASSES = ['person', 'bicycle', 'car', 'motorcycle', 'airplane', 'bus', 'train', 'truck', 'boat', 'traffic light',\n",
    "        'fire hydrant', 'stop sign', 'parking meter', 'bench', 'bird', 'cat', 'dog', 'horse', 'sheep', 'cow',\n",
    "        'elephant', 'bear', 'zebra', 'giraffe', 'backpack', 'umbrella', 'handbag', 'tie', 'suitcase', 'frisbee',\n",
    "        'skis', 'snowboard', 'sports ball', 'kite', 'baseball bat', 'baseball glove', 'skateboard', 'surfboard',\n",
    "        'tennis racket', 'bottle', 'wine glass', 'cup', 'fork', 'knife', 'spoon', 'bowl', 'banana', 'apple',\n",
    "        'sandwich', 'orange', 'broccoli', 'carrot', 'hot dog', 'pizza', 'donut', 'cake', 'chair', 'couch',\n",
    "        'potted plant', 'bed', 'dining table', 'toilet', 'tv', 'laptop', 'mouse', 'remote', 'keyboard', 'cell phone',\n",
    "        'microwave', 'oven', 'toaster', 'sink', 'refrigerator', 'book', 'clock', 'vase', 'scissors', 'teddy bear',\n",
    "        'hair drier', 'toothbrush']"
   ]
  },
  {
   "cell_type": "code",
   "execution_count": null,
   "metadata": {},
   "outputs": [],
   "source": [
    "logging.getLogger(\"urllib3\").setLevel(logging.WARNING)"
   ]
  },
  {
   "cell_type": "code",
   "execution_count": 31,
   "metadata": {
    "collapsed": false
   },
   "outputs": [],
   "source": [
    "safety_trigger = False"
   ]
  },
  {
   "cell_type": "code",
   "execution_count": 28,
   "metadata": {
    "collapsed": false
   },
   "outputs": [],
   "source": [
    "PROJECT_NAME = 'person'\n",
    "ROOT_DIR = str(Path('D:/temp/COCO217'))\n",
    "\n",
    "\n",
    "\n",
    "coco_dataset_dir = os.path.join(ROOT_DIR, 'coco2017_all_classes')\n",
    "dataset_name = f'coco_{PROJECT_NAME}'\n",
    "\n",
    "# Настройки экспорта\n",
    "TARGET_CLASSES = ['person'] # Список нужных классов\n",
    "yolov4_export_dir = os.path.join(ROOT_DIR, f'coco2017_yolov4_{PROJECT_NAME}') # Целевая папка\n",
    "label_field = \"ground_truth\""
   ]
  },
  {
   "cell_type": "markdown",
   "metadata": {
    "collapsed": false
   },
   "source": [
    "# ПАРСИНГ ДАТАСЕТА COCO-2017 ДЛЯ YOLOV4"
   ]
  },
  {
   "cell_type": "markdown",
   "metadata": {
    "collapsed": false
   },
   "source": [
    "## СКАЧИВАЕМ ПОЛНЫЙ ДАТАСЕТ COCO-2017"
   ]
  },
  {
   "cell_type": "code",
   "execution_count": 32,
   "metadata": {
    "collapsed": false
   },
   "outputs": [
    {
     "name": "stdout",
     "output_type": "stream",
     "text": [
      "  17% |██|-----------| 15503/93578 [41.2m elapsed, 4.6h remaining, 2.1 images/s]  "
     ]
    },
    {
     "name": "stderr",
     "output_type": "stream",
     "text": [
      "DEBUG:urllib3.connectionpool:Starting new HTTP connection (1): images.cocodataset.org:80\n"
     ]
    },
    {
     "name": "stdout",
     "output_type": "stream",
     "text": [
      "  17% |██/-----------| 15504/93578 [41.2m elapsed, 4.5h remaining, 2.3 images/s]  "
     ]
    },
    {
     "name": "stderr",
     "output_type": "stream",
     "text": [
      "DEBUG:urllib3.connectionpool:Starting new HTTP connection (1): images.cocodataset.org:80\n",
      "DEBUG:urllib3.connectionpool:http://images.cocodataset.org:80 \"GET /train2017/000000190115.jpg HTTP/1.1\" 200 213151\n",
      "DEBUG:urllib3.connectionpool:http://images.cocodataset.org:80 \"GET /train2017/000000190117.jpg HTTP/1.1\" 200 158185\n"
     ]
    },
    {
     "name": "stdout",
     "output_type": "stream",
     "text": [
      "                                                                                  \r"
     ]
    },
    {
     "name": "stderr",
     "output_type": "stream",
     "text": [
      "DEBUG:urllib3.connectionpool:Starting new HTTP connection (1): images.cocodataset.org:80\n"
     ]
    },
    {
     "name": "stdout",
     "output_type": "stream",
     "text": [
      "  17% |██------------| 15505/93578 [41.2m elapsed, 4.6h remaining, 2.1 images/s]  "
     ]
    },
    {
     "name": "stderr",
     "output_type": "stream",
     "text": [
      "DEBUG:urllib3.connectionpool:Starting new HTTP connection (1): images.cocodataset.org:80\n",
      "DEBUG:urllib3.connectionpool:http://images.cocodataset.org:80 \"GET /train2017/000000190125.jpg HTTP/1.1\" 200 149841\n",
      "DEBUG:urllib3.connectionpool:http://images.cocodataset.org:80 \"GET /train2017/000000190133.jpg HTTP/1.1\" 200 159347\n",
      "DEBUG:urllib3.connectionpool:Starting new HTTP connection (1): images.cocodataset.org:80\n"
     ]
    },
    {
     "name": "stdout",
     "output_type": "stream",
     "text": [
      "  17% |██\\-----------| 15507/93578 [41.2m elapsed, 4.5h remaining, 2.2 images/s]  "
     ]
    },
    {
     "name": "stderr",
     "output_type": "stream",
     "text": [
      "DEBUG:urllib3.connectionpool:Starting new HTTP connection (1): images.cocodataset.org:80\n",
      "DEBUG:urllib3.connectionpool:http://images.cocodataset.org:80 \"GET /train2017/000000190135.jpg HTTP/1.1\" 200 78139\n",
      "DEBUG:urllib3.connectionpool:http://images.cocodataset.org:80 \"GET /train2017/000000190136.jpg HTTP/1.1\" 200 226884\n"
     ]
    },
    {
     "name": "stdout",
     "output_type": "stream",
     "text": [
      "  17% |██|-----------| 15509/93578 [41.2m elapsed, 4.5h remaining, 2.2 images/s]  "
     ]
    },
    {
     "name": "stderr",
     "output_type": "stream",
     "text": [
      "DEBUG:urllib3.connectionpool:Starting new HTTP connection (1): images.cocodataset.org:80\n"
     ]
    },
    {
     "name": "stdout",
     "output_type": "stream",
     "text": [
      "                                                                                  \r"
     ]
    },
    {
     "name": "stderr",
     "output_type": "stream",
     "text": [
      "DEBUG:urllib3.connectionpool:Starting new HTTP connection (1): images.cocodataset.org:80\n"
     ]
    },
    {
     "name": "stdout",
     "output_type": "stream",
     "text": [
      "  17% |██/-----------| 15510/93578 [41.2m elapsed, 4.4h remaining, 2.4 images/s]  "
     ]
    },
    {
     "name": "stderr",
     "output_type": "stream",
     "text": [
      "DEBUG:urllib3.connectionpool:http://images.cocodataset.org:80 \"GET /train2017/000000190141.jpg HTTP/1.1\" 200 189844\n",
      "DEBUG:urllib3.connectionpool:http://images.cocodataset.org:80 \"GET /train2017/000000190150.jpg HTTP/1.1\" 200 144309\n"
     ]
    },
    {
     "name": "stdout",
     "output_type": "stream",
     "text": [
      "  17% |██------------| 15511/93578 [41.2m elapsed, 4.5h remaining, 2.3 images/s]  "
     ]
    },
    {
     "name": "stderr",
     "output_type": "stream",
     "text": [
      "DEBUG:urllib3.connectionpool:Starting new HTTP connection (1): images.cocodataset.org:80\n"
     ]
    },
    {
     "name": "stdout",
     "output_type": "stream",
     "text": [
      "                                                                                  \r"
     ]
    },
    {
     "name": "stderr",
     "output_type": "stream",
     "text": [
      "DEBUG:urllib3.connectionpool:Starting new HTTP connection (1): images.cocodataset.org:80\n"
     ]
    },
    {
     "name": "stdout",
     "output_type": "stream",
     "text": [
      "  17% |██\\-----------| 15512/93578 [41.2m elapsed, 4.4h remaining, 2.4 images/s]  "
     ]
    },
    {
     "name": "stderr",
     "output_type": "stream",
     "text": [
      "DEBUG:urllib3.connectionpool:http://images.cocodataset.org:80 \"GET /train2017/000000190156.jpg HTTP/1.1\" 200 81745\n"
     ]
    },
    {
     "name": "stdout",
     "output_type": "stream",
     "text": [
      "                                                                                  \r"
     ]
    },
    {
     "name": "stderr",
     "output_type": "stream",
     "text": [
      "DEBUG:urllib3.connectionpool:Starting new HTTP connection (1): images.cocodataset.org:80\n"
     ]
    },
    {
     "name": "stdout",
     "output_type": "stream",
     "text": [
      "  17% |██|-----------| 15513/93578 [41.2m elapsed, 4.3h remaining, 2.5 images/s]  "
     ]
    },
    {
     "name": "stderr",
     "output_type": "stream",
     "text": [
      "DEBUG:urllib3.connectionpool:http://images.cocodataset.org:80 \"GET /train2017/000000190157.jpg HTTP/1.1\" 200 130446\n",
      "DEBUG:urllib3.connectionpool:http://images.cocodataset.org:80 \"GET /train2017/000000190160.jpg HTTP/1.1\" 200 129332\n",
      "DEBUG:urllib3.connectionpool:Starting new HTTP connection (1): images.cocodataset.org:80\n"
     ]
    },
    {
     "name": "stdout",
     "output_type": "stream",
     "text": [
      "  17% |██/-----------| 15514/93578 [41.3m elapsed, 4.3h remaining, 2.5 images/s]  "
     ]
    },
    {
     "name": "stderr",
     "output_type": "stream",
     "text": [
      "DEBUG:urllib3.connectionpool:Starting new HTTP connection (1): images.cocodataset.org:80\n"
     ]
    },
    {
     "name": "stdout",
     "output_type": "stream",
     "text": [
      "  17% |██------------| 15515/93578 [41.3m elapsed, 4.4h remaining, 2.4 images/s]  "
     ]
    },
    {
     "name": "stderr",
     "output_type": "stream",
     "text": [
      "DEBUG:urllib3.connectionpool:http://images.cocodataset.org:80 \"GET /train2017/000000190167.jpg HTTP/1.1\" 200 104940\n",
      "DEBUG:urllib3.connectionpool:http://images.cocodataset.org:80 \"GET /train2017/000000190172.jpg HTTP/1.1\" 200 126633\n"
     ]
    },
    {
     "name": "stdout",
     "output_type": "stream",
     "text": [
      "                                                                                  \r"
     ]
    },
    {
     "name": "stderr",
     "output_type": "stream",
     "text": [
      "DEBUG:urllib3.connectionpool:Starting new HTTP connection (1): images.cocodataset.org:80\n"
     ]
    },
    {
     "name": "stdout",
     "output_type": "stream",
     "text": [
      "                                                                                  \r"
     ]
    },
    {
     "name": "stderr",
     "output_type": "stream",
     "text": [
      "DEBUG:urllib3.connectionpool:Starting new HTTP connection (1): images.cocodataset.org:80\n"
     ]
    },
    {
     "name": "stdout",
     "output_type": "stream",
     "text": [
      "  17% |██|-----------| 15517/93578 [41.3m elapsed, 4.2h remaining, 2.7 images/s]  "
     ]
    },
    {
     "name": "stderr",
     "output_type": "stream",
     "text": [
      "DEBUG:urllib3.connectionpool:http://images.cocodataset.org:80 \"GET /train2017/000000190177.jpg HTTP/1.1\" 200 85148\n",
      "DEBUG:urllib3.connectionpool:Starting new HTTP connection (1): images.cocodataset.org:80\n"
     ]
    },
    {
     "name": "stdout",
     "output_type": "stream",
     "text": [
      "  17% |██/-----------| 15518/93578 [41.3m elapsed, 4.3h remaining, 2.6 images/s]  "
     ]
    },
    {
     "name": "stderr",
     "output_type": "stream",
     "text": [
      "DEBUG:urllib3.connectionpool:http://images.cocodataset.org:80 \"GET /train2017/000000190185.jpg HTTP/1.1\" 200 113091\n",
      "DEBUG:urllib3.connectionpool:http://images.cocodataset.org:80 \"GET /train2017/000000190187.jpg HTTP/1.1\" 200 120313\n",
      "DEBUG:urllib3.connectionpool:Starting new HTTP connection (1): images.cocodataset.org:80\n"
     ]
    },
    {
     "name": "stdout",
     "output_type": "stream",
     "text": [
      "  17% |██------------| 15519/93578 [41.3m elapsed, 4.3h remaining, 2.5 images/s]  "
     ]
    },
    {
     "name": "stderr",
     "output_type": "stream",
     "text": [
      "DEBUG:urllib3.connectionpool:http://images.cocodataset.org:80 \"GET /train2017/000000190199.jpg HTTP/1.1\" 200 93037\n"
     ]
    },
    {
     "name": "stdout",
     "output_type": "stream",
     "text": [
      "                                                                                  \r"
     ]
    },
    {
     "name": "stderr",
     "output_type": "stream",
     "text": [
      "DEBUG:urllib3.connectionpool:Starting new HTTP connection (1): images.cocodataset.org:80\n"
     ]
    },
    {
     "name": "stdout",
     "output_type": "stream",
     "text": [
      "  17% |██\\-----------| 15520/93578 [41.3m elapsed, 4.2h remaining, 2.6 images/s]  "
     ]
    },
    {
     "name": "stderr",
     "output_type": "stream",
     "text": [
      "DEBUG:urllib3.connectionpool:Starting new HTTP connection (1): images.cocodataset.org:80\n"
     ]
    },
    {
     "name": "stdout",
     "output_type": "stream",
     "text": [
      "  17% |██|-----------| 15521/93578 [41.3m elapsed, 4.3h remaining, 2.6 images/s]  "
     ]
    },
    {
     "name": "stderr",
     "output_type": "stream",
     "text": [
      "DEBUG:urllib3.connectionpool:http://images.cocodataset.org:80 \"GET /train2017/000000190204.jpg HTTP/1.1\" 200 234928\n",
      "DEBUG:urllib3.connectionpool:http://images.cocodataset.org:80 \"GET /train2017/000000190211.jpg HTTP/1.1\" 200 372171\n"
     ]
    },
    {
     "name": "stdout",
     "output_type": "stream",
     "text": [
      "                                                                                  \r"
     ]
    },
    {
     "name": "stderr",
     "output_type": "stream",
     "text": [
      "DEBUG:urllib3.connectionpool:Starting new HTTP connection (1): images.cocodataset.org:80\n"
     ]
    },
    {
     "name": "stdout",
     "output_type": "stream",
     "text": [
      "  17% |██/-----------| 15522/93578 [41.3m elapsed, 4.4h remaining, 2.4 images/s]  "
     ]
    },
    {
     "name": "stderr",
     "output_type": "stream",
     "text": [
      "DEBUG:urllib3.connectionpool:http://images.cocodataset.org:80 \"GET /train2017/000000190216.jpg HTTP/1.1\" 200 102610\n",
      "DEBUG:urllib3.connectionpool:Starting new HTTP connection (1): images.cocodataset.org:80\n"
     ]
    },
    {
     "name": "stdout",
     "output_type": "stream",
     "text": [
      "  17% |██------------| 15523/93578 [41.3m elapsed, 4.3h remaining, 2.5 images/s]  "
     ]
    },
    {
     "name": "stderr",
     "output_type": "stream",
     "text": [
      "DEBUG:urllib3.connectionpool:http://images.cocodataset.org:80 \"GET /train2017/000000190218.jpg HTTP/1.1\" 200 182088\n",
      "DEBUG:urllib3.connectionpool:Starting new HTTP connection (1): images.cocodataset.org:80\n"
     ]
    },
    {
     "name": "stdout",
     "output_type": "stream",
     "text": [
      "  17% |██\\-----------| 15524/93578 [41.3m elapsed, 4.4h remaining, 2.4 images/s]  "
     ]
    },
    {
     "name": "stderr",
     "output_type": "stream",
     "text": [
      "DEBUG:urllib3.connectionpool:http://images.cocodataset.org:80 \"GET /train2017/000000190219.jpg HTTP/1.1\" 200 185921\n",
      "DEBUG:urllib3.connectionpool:Starting new HTTP connection (1): images.cocodataset.org:80\n"
     ]
    },
    {
     "name": "stdout",
     "output_type": "stream",
     "text": [
      "  17% |██|-----------| 15525/93578 [41.3m elapsed, 4.3h remaining, 2.5 images/s]  "
     ]
    },
    {
     "name": "stderr",
     "output_type": "stream",
     "text": [
      "DEBUG:urllib3.connectionpool:http://images.cocodataset.org:80 \"GET /train2017/000000190227.jpg HTTP/1.1\" 200 101771\n",
      "DEBUG:urllib3.connectionpool:Starting new HTTP connection (1): images.cocodataset.org:80\n"
     ]
    },
    {
     "name": "stdout",
     "output_type": "stream",
     "text": [
      "  17% |██/-----------| 15526/93578 [41.3m elapsed, 4.4h remaining, 2.4 images/s]  "
     ]
    },
    {
     "name": "stderr",
     "output_type": "stream",
     "text": [
      "DEBUG:urllib3.connectionpool:http://images.cocodataset.org:80 \"GET /train2017/000000190229.jpg HTTP/1.1\" 200 178396\n",
      "DEBUG:urllib3.connectionpool:Starting new HTTP connection (1): images.cocodataset.org:80\n"
     ]
    },
    {
     "name": "stdout",
     "output_type": "stream",
     "text": [
      "  17% |██------------| 15527/93578 [41.3m elapsed, 4.4h remaining, 2.4 images/s]  "
     ]
    },
    {
     "name": "stderr",
     "output_type": "stream",
     "text": [
      "DEBUG:urllib3.connectionpool:http://images.cocodataset.org:80 \"GET /train2017/000000190232.jpg HTTP/1.1\" 200 233018\n",
      "DEBUG:urllib3.connectionpool:Starting new HTTP connection (1): images.cocodataset.org:80\n"
     ]
    },
    {
     "name": "stdout",
     "output_type": "stream",
     "text": [
      "  17% |██\\-----------| 15528/93578 [41.4m elapsed, 4.4h remaining, 2.4 images/s]  "
     ]
    },
    {
     "name": "stderr",
     "output_type": "stream",
     "text": [
      "DEBUG:urllib3.connectionpool:http://images.cocodataset.org:80 \"GET /train2017/000000190234.jpg HTTP/1.1\" 200 122377\n",
      "DEBUG:urllib3.connectionpool:Starting new HTTP connection (1): images.cocodataset.org:80\n"
     ]
    },
    {
     "name": "stdout",
     "output_type": "stream",
     "text": [
      "  17% |██|-----------| 15529/93578 [41.4m elapsed, 4.5h remaining, 2.3 images/s]  "
     ]
    },
    {
     "name": "stderr",
     "output_type": "stream",
     "text": [
      "DEBUG:urllib3.connectionpool:Starting new HTTP connection (1): images.cocodataset.org:80\n"
     ]
    },
    {
     "name": "stdout",
     "output_type": "stream",
     "text": [
      "  17% |██/-----------| 15530/93578 [41.4m elapsed, 4.4h remaining, 2.3 images/s]  "
     ]
    },
    {
     "name": "stderr",
     "output_type": "stream",
     "text": [
      "DEBUG:urllib3.connectionpool:http://images.cocodataset.org:80 \"GET /train2017/000000190241.jpg HTTP/1.1\" 200 255145\n",
      "DEBUG:urllib3.connectionpool:http://images.cocodataset.org:80 \"GET /train2017/000000190255.jpg HTTP/1.1\" 200 108155\n"
     ]
    },
    {
     "name": "stdout",
     "output_type": "stream",
     "text": [
      "  17% |██------------| 15531/93578 [41.4m elapsed, 4.5h remaining, 2.3 images/s]  "
     ]
    },
    {
     "name": "stderr",
     "output_type": "stream",
     "text": [
      "DEBUG:urllib3.connectionpool:Starting new HTTP connection (1): images.cocodataset.org:80\n"
     ]
    },
    {
     "name": "stdout",
     "output_type": "stream",
     "text": [
      "  17% |██\\-----------| 15532/93578 [41.4m elapsed, 4.4h remaining, 2.4 images/s]  "
     ]
    },
    {
     "name": "stderr",
     "output_type": "stream",
     "text": [
      "DEBUG:urllib3.connectionpool:Starting new HTTP connection (1): images.cocodataset.org:80\n",
      "DEBUG:urllib3.connectionpool:http://images.cocodataset.org:80 \"GET /train2017/000000190272.jpg HTTP/1.1\" 200 262924\n",
      "DEBUG:urllib3.connectionpool:http://images.cocodataset.org:80 \"GET /train2017/000000190277.jpg HTTP/1.1\" 200 81902\n",
      "DEBUG:urllib3.connectionpool:Starting new HTTP connection (1): images.cocodataset.org:80\n"
     ]
    },
    {
     "name": "stdout",
     "output_type": "stream",
     "text": [
      "  17% |██|-----------| 15533/93578 [41.4m elapsed, 4.5h remaining, 2.3 images/s]  "
     ]
    },
    {
     "name": "stderr",
     "output_type": "stream",
     "text": [
      "DEBUG:urllib3.connectionpool:Starting new HTTP connection (1): images.cocodataset.org:80\n"
     ]
    },
    {
     "name": "stdout",
     "output_type": "stream",
     "text": [
      "  17% |██/-----------| 15534/93578 [41.4m elapsed, 4.4h remaining, 2.4 images/s]  "
     ]
    },
    {
     "name": "stderr",
     "output_type": "stream",
     "text": [
      "DEBUG:urllib3.connectionpool:http://images.cocodataset.org:80 \"GET /train2017/000000190291.jpg HTTP/1.1\" 200 243231\n",
      "DEBUG:urllib3.connectionpool:http://images.cocodataset.org:80 \"GET /train2017/000000190292.jpg HTTP/1.1\" 200 142663\n",
      "DEBUG:urllib3.connectionpool:Starting new HTTP connection (1): images.cocodataset.org:80\n"
     ]
    },
    {
     "name": "stdout",
     "output_type": "stream",
     "text": [
      "  17% |██------------| 15535/93578 [41.4m elapsed, 4.5h remaining, 2.2 images/s]  "
     ]
    },
    {
     "name": "stderr",
     "output_type": "stream",
     "text": [
      "DEBUG:urllib3.connectionpool:Starting new HTTP connection (1): images.cocodataset.org:80\n"
     ]
    },
    {
     "name": "stdout",
     "output_type": "stream",
     "text": [
      "  17% |██\\-----------| 15536/93578 [41.4m elapsed, 4.5h remaining, 2.2 images/s]  "
     ]
    },
    {
     "name": "stderr",
     "output_type": "stream",
     "text": [
      "DEBUG:urllib3.connectionpool:http://images.cocodataset.org:80 \"GET /train2017/000000190293.jpg HTTP/1.1\" 200 194577\n",
      "DEBUG:urllib3.connectionpool:http://images.cocodataset.org:80 \"GET /train2017/000000190297.jpg HTTP/1.1\" 200 114597\n",
      "DEBUG:urllib3.connectionpool:Starting new HTTP connection (1): images.cocodataset.org:80\n"
     ]
    },
    {
     "name": "stdout",
     "output_type": "stream",
     "text": [
      "  17% |██|-----------| 15537/93578 [41.4m elapsed, 4.6h remaining, 2.1 images/s]  "
     ]
    },
    {
     "name": "stderr",
     "output_type": "stream",
     "text": [
      "DEBUG:urllib3.connectionpool:http://images.cocodataset.org:80 \"GET /train2017/000000190306.jpg HTTP/1.1\" 200 224419\n",
      "DEBUG:urllib3.connectionpool:Starting new HTTP connection (1): images.cocodataset.org:80\n"
     ]
    },
    {
     "name": "stdout",
     "output_type": "stream",
     "text": [
      "  17% |██/-----------| 15538/93578 [41.4m elapsed, 4.7h remaining, 2.0 images/s]  "
     ]
    },
    {
     "name": "stderr",
     "output_type": "stream",
     "text": [
      "DEBUG:urllib3.connectionpool:Starting new HTTP connection (1): images.cocodataset.org:80\n"
     ]
    },
    {
     "name": "stdout",
     "output_type": "stream",
     "text": [
      "  17% |██------------| 15539/93578 [41.4m elapsed, 4.7h remaining, 2.0 images/s]  "
     ]
    },
    {
     "name": "stderr",
     "output_type": "stream",
     "text": [
      "DEBUG:urllib3.connectionpool:http://images.cocodataset.org:80 \"GET /train2017/000000190313.jpg HTTP/1.1\" 200 205969\n",
      "DEBUG:urllib3.connectionpool:http://images.cocodataset.org:80 \"GET /train2017/000000190322.jpg HTTP/1.1\" 200 127655\n",
      "DEBUG:urllib3.connectionpool:Starting new HTTP connection (1): images.cocodataset.org:80\n"
     ]
    },
    {
     "name": "stdout",
     "output_type": "stream",
     "text": [
      "  17% |██\\-----------| 15540/93578 [41.4m elapsed, 4.6h remaining, 2.1 images/s]  "
     ]
    },
    {
     "name": "stderr",
     "output_type": "stream",
     "text": [
      "DEBUG:urllib3.connectionpool:http://images.cocodataset.org:80 \"GET /train2017/000000190323.jpg HTTP/1.1\" 200 105138\n"
     ]
    },
    {
     "name": "stdout",
     "output_type": "stream",
     "text": [
      "                                                                                  \r"
     ]
    },
    {
     "name": "stderr",
     "output_type": "stream",
     "text": [
      "DEBUG:urllib3.connectionpool:Starting new HTTP connection (1): images.cocodataset.org:80\n"
     ]
    },
    {
     "name": "stdout",
     "output_type": "stream",
     "text": [
      "  17% |██|-----------| 15541/93578 [41.5m elapsed, 4.9h remaining, 1.8 images/s]  "
     ]
    },
    {
     "name": "stderr",
     "output_type": "stream",
     "text": [
      "DEBUG:urllib3.connectionpool:Starting new HTTP connection (1): images.cocodataset.org:80\n"
     ]
    },
    {
     "name": "stdout",
     "output_type": "stream",
     "text": [
      "  17% |██/-----------| 15542/93578 [41.5m elapsed, 4.7h remaining, 2.0 images/s]  "
     ]
    },
    {
     "name": "stderr",
     "output_type": "stream",
     "text": [
      "DEBUG:urllib3.connectionpool:http://images.cocodataset.org:80 \"GET /train2017/000000190326.jpg HTTP/1.1\" 200 138009\n",
      "DEBUG:urllib3.connectionpool:http://images.cocodataset.org:80 \"GET /train2017/000000190330.jpg HTTP/1.1\" 200 83166\n"
     ]
    },
    {
     "name": "stdout",
     "output_type": "stream",
     "text": [
      "  17% |██------------| 15543/93578 [41.5m elapsed, 4.8h remaining, 1.8 images/s]  "
     ]
    },
    {
     "name": "stderr",
     "output_type": "stream",
     "text": [
      "DEBUG:urllib3.connectionpool:Starting new HTTP connection (1): images.cocodataset.org:80\n"
     ]
    },
    {
     "name": "stdout",
     "output_type": "stream",
     "text": [
      "                                                                                  \r"
     ]
    },
    {
     "name": "stderr",
     "output_type": "stream",
     "text": [
      "DEBUG:urllib3.connectionpool:Starting new HTTP connection (1): images.cocodataset.org:80\n"
     ]
    },
    {
     "name": "stdout",
     "output_type": "stream",
     "text": [
      "  17% |██\\-----------| 15544/93578 [41.5m elapsed, 4.6h remaining, 2.1 images/s]  "
     ]
    },
    {
     "name": "stderr",
     "output_type": "stream",
     "text": [
      "DEBUG:urllib3.connectionpool:http://images.cocodataset.org:80 \"GET /train2017/000000190334.jpg HTTP/1.1\" 200 179631\n",
      "DEBUG:urllib3.connectionpool:http://images.cocodataset.org:80 \"GET /train2017/000000190338.jpg HTTP/1.1\" 200 121548\n",
      "DEBUG:urllib3.connectionpool:Starting new HTTP connection (1): images.cocodataset.org:80\n"
     ]
    },
    {
     "name": "stdout",
     "output_type": "stream",
     "text": [
      "  17% |██|-----------| 15545/93578 [41.5m elapsed, 4.7h remaining, 2.0 images/s]  "
     ]
    },
    {
     "name": "stderr",
     "output_type": "stream",
     "text": [
      "DEBUG:urllib3.connectionpool:Starting new HTTP connection (1): images.cocodataset.org:80\n",
      "DEBUG:urllib3.connectionpool:http://images.cocodataset.org:80 \"GET /train2017/000000190353.jpg HTTP/1.1\" 200 248417\n",
      "DEBUG:urllib3.connectionpool:http://images.cocodataset.org:80 \"GET /train2017/000000190360.jpg HTTP/1.1\" 200 160721\n",
      "DEBUG:urllib3.connectionpool:Starting new HTTP connection (1): images.cocodataset.org:80\n"
     ]
    },
    {
     "name": "stdout",
     "output_type": "stream",
     "text": [
      "  17% |██/-----------| 15547/93578 [41.5m elapsed, 4.6h remaining, 2.1 images/s]  "
     ]
    },
    {
     "name": "stderr",
     "output_type": "stream",
     "text": [
      "DEBUG:urllib3.connectionpool:http://images.cocodataset.org:80 \"GET /train2017/000000190362.jpg HTTP/1.1\" 200 154668\n",
      "DEBUG:urllib3.connectionpool:Starting new HTTP connection (1): images.cocodataset.org:80\n"
     ]
    },
    {
     "name": "stdout",
     "output_type": "stream",
     "text": [
      "  17% |██------------| 15548/93578 [41.5m elapsed, 4.6h remaining, 2.1 images/s]  "
     ]
    },
    {
     "name": "stderr",
     "output_type": "stream",
     "text": [
      "DEBUG:urllib3.connectionpool:http://images.cocodataset.org:80 \"GET /train2017/000000190363.jpg HTTP/1.1\" 200 50532\n",
      "DEBUG:urllib3.connectionpool:Starting new HTTP connection (1): images.cocodataset.org:80\n"
     ]
    },
    {
     "name": "stdout",
     "output_type": "stream",
     "text": [
      "                                                                                  \r"
     ]
    },
    {
     "name": "stderr",
     "output_type": "stream",
     "text": [
      "DEBUG:urllib3.connectionpool:Starting new HTTP connection (1): images.cocodataset.org:80\n"
     ]
    },
    {
     "name": "stdout",
     "output_type": "stream",
     "text": [
      "  17% |██|-----------| 15550/93578 [41.5m elapsed, 4.5h remaining, 2.2 images/s]  "
     ]
    },
    {
     "name": "stderr",
     "output_type": "stream",
     "text": [
      "DEBUG:urllib3.connectionpool:http://images.cocodataset.org:80 \"GET /train2017/000000190372.jpg HTTP/1.1\" 200 184961\n",
      "DEBUG:urllib3.connectionpool:http://images.cocodataset.org:80 \"GET /train2017/000000190378.jpg HTTP/1.1\" 200 207379\n",
      "DEBUG:urllib3.connectionpool:Starting new HTTP connection (1): images.cocodataset.org:80\n"
     ]
    },
    {
     "name": "stdout",
     "output_type": "stream",
     "text": [
      "  17% |██/-----------| 15551/93578 [41.5m elapsed, 4.4h remaining, 2.3 images/s]  "
     ]
    },
    {
     "name": "stderr",
     "output_type": "stream",
     "text": [
      "DEBUG:urllib3.connectionpool:Starting new HTTP connection (1): images.cocodataset.org:80\n"
     ]
    },
    {
     "name": "stdout",
     "output_type": "stream",
     "text": [
      "  17% |██------------| 15552/93578 [41.5m elapsed, 4.5h remaining, 2.3 images/s]  "
     ]
    },
    {
     "name": "stderr",
     "output_type": "stream",
     "text": [
      "DEBUG:urllib3.connectionpool:http://images.cocodataset.org:80 \"GET /train2017/000000190381.jpg HTTP/1.1\" 200 342402\n",
      "DEBUG:urllib3.connectionpool:http://images.cocodataset.org:80 \"GET /train2017/000000190382.jpg HTTP/1.1\" 200 190884\n",
      "DEBUG:urllib3.connectionpool:Starting new HTTP connection (1): images.cocodataset.org:80\n"
     ]
    },
    {
     "name": "stdout",
     "output_type": "stream",
     "text": [
      "  17% |██\\-----------| 15553/93578 [41.5m elapsed, 4.5h remaining, 2.3 images/s]  "
     ]
    },
    {
     "name": "stderr",
     "output_type": "stream",
     "text": [
      "DEBUG:urllib3.connectionpool:Starting new HTTP connection (1): images.cocodataset.org:80\n"
     ]
    },
    {
     "name": "stdout",
     "output_type": "stream",
     "text": [
      "  17% |██|-----------| 15554/93578 [41.6m elapsed, 4.5h remaining, 2.2 images/s]  "
     ]
    },
    {
     "name": "stderr",
     "output_type": "stream",
     "text": [
      "DEBUG:urllib3.connectionpool:http://images.cocodataset.org:80 \"GET /train2017/000000190387.jpg HTTP/1.1\" 200 181585\n",
      "DEBUG:urllib3.connectionpool:http://images.cocodataset.org:80 \"GET /train2017/000000190391.jpg HTTP/1.1\" 200 67011\n",
      "DEBUG:urllib3.connectionpool:Starting new HTTP connection (1): images.cocodataset.org:80\n"
     ]
    },
    {
     "name": "stdout",
     "output_type": "stream",
     "text": [
      "  17% |██/-----------| 15555/93578 [41.6m elapsed, 4.5h remaining, 2.3 images/s]  "
     ]
    },
    {
     "name": "stderr",
     "output_type": "stream",
     "text": [
      "DEBUG:urllib3.connectionpool:Starting new HTTP connection (1): images.cocodataset.org:80\n"
     ]
    },
    {
     "name": "stdout",
     "output_type": "stream",
     "text": [
      "  17% |██------------| 15556/93578 [41.6m elapsed, 4.4h remaining, 2.4 images/s]  "
     ]
    },
    {
     "name": "stderr",
     "output_type": "stream",
     "text": [
      "DEBUG:urllib3.connectionpool:http://images.cocodataset.org:80 \"GET /train2017/000000190393.jpg HTTP/1.1\" 200 214323\n",
      "DEBUG:urllib3.connectionpool:http://images.cocodataset.org:80 \"GET /train2017/000000190395.jpg HTTP/1.1\" 200 148796\n"
     ]
    },
    {
     "name": "stdout",
     "output_type": "stream",
     "text": [
      "                                                                                  \r"
     ]
    },
    {
     "name": "stderr",
     "output_type": "stream",
     "text": [
      "DEBUG:urllib3.connectionpool:Starting new HTTP connection (1): images.cocodataset.org:80\n"
     ]
    },
    {
     "name": "stdout",
     "output_type": "stream",
     "text": [
      "  17% |██\\-----------| 15557/93578 [41.6m elapsed, 4.5h remaining, 2.2 images/s]  "
     ]
    },
    {
     "name": "stderr",
     "output_type": "stream",
     "text": [
      "DEBUG:urllib3.connectionpool:Starting new HTTP connection (1): images.cocodataset.org:80\n",
      "DEBUG:urllib3.connectionpool:http://images.cocodataset.org:80 \"GET /train2017/000000190406.jpg HTTP/1.1\" 200 157325\n",
      "DEBUG:urllib3.connectionpool:http://images.cocodataset.org:80 \"GET /train2017/000000190407.jpg HTTP/1.1\" 200 225831\n",
      "DEBUG:urllib3.connectionpool:Starting new HTTP connection (1): images.cocodataset.org:80\n"
     ]
    },
    {
     "name": "stdout",
     "output_type": "stream",
     "text": [
      "  17% |██|-----------| 15559/93578 [41.6m elapsed, 4.5h remaining, 2.2 images/s]  "
     ]
    },
    {
     "name": "stderr",
     "output_type": "stream",
     "text": [
      "DEBUG:urllib3.connectionpool:Starting new HTTP connection (1): images.cocodataset.org:80\n"
     ]
    },
    {
     "name": "stdout",
     "output_type": "stream",
     "text": [
      "  17% |██/-----------| 15560/93578 [41.6m elapsed, 4.5h remaining, 2.3 images/s]  "
     ]
    },
    {
     "name": "stderr",
     "output_type": "stream",
     "text": [
      "DEBUG:urllib3.connectionpool:http://images.cocodataset.org:80 \"GET /train2017/000000190413.jpg HTTP/1.1\" 200 88675\n",
      "DEBUG:urllib3.connectionpool:http://images.cocodataset.org:80 \"GET /train2017/000000190415.jpg HTTP/1.1\" 200 90971\n",
      "DEBUG:urllib3.connectionpool:Starting new HTTP connection (1): images.cocodataset.org:80\n"
     ]
    },
    {
     "name": "stdout",
     "output_type": "stream",
     "text": [
      "  17% |██------------| 15561/93578 [41.6m elapsed, 4.5h remaining, 2.3 images/s]  "
     ]
    },
    {
     "name": "stderr",
     "output_type": "stream",
     "text": [
      "DEBUG:urllib3.connectionpool:http://images.cocodataset.org:80 \"GET /train2017/000000190423.jpg HTTP/1.1\" 200 144336\n",
      "DEBUG:urllib3.connectionpool:Starting new HTTP connection (1): images.cocodataset.org:80\n"
     ]
    },
    {
     "name": "stdout",
     "output_type": "stream",
     "text": [
      "  17% |██\\-----------| 15562/93578 [41.6m elapsed, 4.6h remaining, 2.1 images/s]  "
     ]
    },
    {
     "name": "stderr",
     "output_type": "stream",
     "text": [
      "DEBUG:urllib3.connectionpool:Starting new HTTP connection (1): images.cocodataset.org:80\n"
     ]
    },
    {
     "name": "stdout",
     "output_type": "stream",
     "text": [
      "  17% |██|-----------| 15563/93578 [41.6m elapsed, 4.4h remaining, 2.4 images/s]  "
     ]
    },
    {
     "name": "stderr",
     "output_type": "stream",
     "text": [
      "DEBUG:urllib3.connectionpool:http://images.cocodataset.org:80 \"GET /train2017/000000190426.jpg HTTP/1.1\" 200 151798\n",
      "DEBUG:urllib3.connectionpool:http://images.cocodataset.org:80 \"GET /train2017/000000190432.jpg HTTP/1.1\" 200 197452\n",
      "DEBUG:urllib3.connectionpool:Starting new HTTP connection (1): images.cocodataset.org:80\n"
     ]
    },
    {
     "name": "stdout",
     "output_type": "stream",
     "text": [
      "  17% |██/-----------| 15564/93578 [41.6m elapsed, 4.6h remaining, 2.1 images/s]  "
     ]
    },
    {
     "name": "stderr",
     "output_type": "stream",
     "text": [
      "DEBUG:urllib3.connectionpool:Starting new HTTP connection (1): images.cocodataset.org:80\n",
      "DEBUG:urllib3.connectionpool:http://images.cocodataset.org:80 \"GET /train2017/000000190440.jpg HTTP/1.1\" 200 34043\n",
      "DEBUG:urllib3.connectionpool:http://images.cocodataset.org:80 \"GET /train2017/000000190441.jpg HTTP/1.1\" 200 176973\n"
     ]
    },
    {
     "name": "stdout",
     "output_type": "stream",
     "text": [
      "                                                                                  \r"
     ]
    },
    {
     "name": "stderr",
     "output_type": "stream",
     "text": [
      "DEBUG:urllib3.connectionpool:Starting new HTTP connection (1): images.cocodataset.org:80\n"
     ]
    },
    {
     "name": "stdout",
     "output_type": "stream",
     "text": [
      "  17% |██------------| 15566/93578 [41.6m elapsed, 4.4h remaining, 2.4 images/s]  "
     ]
    },
    {
     "name": "stderr",
     "output_type": "stream",
     "text": [
      "DEBUG:urllib3.connectionpool:http://images.cocodataset.org:80 \"GET /train2017/000000190447.jpg HTTP/1.1\" 200 265160\n"
     ]
    },
    {
     "name": "stdout",
     "output_type": "stream",
     "text": [
      "                                                                                  \r"
     ]
    },
    {
     "name": "stderr",
     "output_type": "stream",
     "text": [
      "DEBUG:urllib3.connectionpool:Starting new HTTP connection (1): images.cocodataset.org:80\n"
     ]
    },
    {
     "name": "stdout",
     "output_type": "stream",
     "text": [
      "  17% |██\\-----------| 15567/93578 [41.6m elapsed, 4.4h remaining, 2.3 images/s]  "
     ]
    },
    {
     "name": "stderr",
     "output_type": "stream",
     "text": [
      "DEBUG:urllib3.connectionpool:http://images.cocodataset.org:80 \"GET /train2017/000000190455.jpg HTTP/1.1\" 200 146903\n"
     ]
    },
    {
     "name": "stdout",
     "output_type": "stream",
     "text": [
      "  17% |██|-----------| 15568/93578 [41.7m elapsed, 4.3h remaining, 2.5 images/s]  "
     ]
    },
    {
     "name": "stderr",
     "output_type": "stream",
     "text": [
      "DEBUG:urllib3.connectionpool:Starting new HTTP connection (1): images.cocodataset.org:80\n"
     ]
    },
    {
     "name": "stdout",
     "output_type": "stream",
     "text": [
      "                                                                                  \r"
     ]
    },
    {
     "name": "stderr",
     "output_type": "stream",
     "text": [
      "DEBUG:urllib3.connectionpool:Starting new HTTP connection (1): images.cocodataset.org:80\n"
     ]
    },
    {
     "name": "stdout",
     "output_type": "stream",
     "text": [
      "  17% |██/-----------| 15569/93578 [41.7m elapsed, 4.3h remaining, 2.6 images/s]  "
     ]
    },
    {
     "name": "stderr",
     "output_type": "stream",
     "text": [
      "DEBUG:urllib3.connectionpool:http://images.cocodataset.org:80 \"GET /train2017/000000190463.jpg HTTP/1.1\" 200 93610\n"
     ]
    },
    {
     "name": "stdout",
     "output_type": "stream",
     "text": [
      "                                                                                  \r"
     ]
    },
    {
     "name": "stderr",
     "output_type": "stream",
     "text": [
      "DEBUG:urllib3.connectionpool:Starting new HTTP connection (1): images.cocodataset.org:80\n"
     ]
    },
    {
     "name": "stdout",
     "output_type": "stream",
     "text": [
      "  17% |██------------| 15570/93578 [41.7m elapsed, 4.4h remaining, 2.5 images/s]  "
     ]
    },
    {
     "name": "stderr",
     "output_type": "stream",
     "text": [
      "DEBUG:urllib3.connectionpool:http://images.cocodataset.org:80 \"GET /train2017/000000190466.jpg HTTP/1.1\" 200 84738\n",
      "DEBUG:urllib3.connectionpool:http://images.cocodataset.org:80 \"GET /train2017/000000190469.jpg HTTP/1.1\" 200 135473\n",
      "DEBUG:urllib3.connectionpool:Starting new HTTP connection (1): images.cocodataset.org:80\n"
     ]
    },
    {
     "name": "stdout",
     "output_type": "stream",
     "text": [
      "  17% |██\\-----------| 15571/93578 [41.7m elapsed, 4.3h remaining, 2.5 images/s]  "
     ]
    },
    {
     "name": "stderr",
     "output_type": "stream",
     "text": [
      "DEBUG:urllib3.connectionpool:http://images.cocodataset.org:80 \"GET /train2017/000000190475.jpg HTTP/1.1\" 200 153076\n"
     ]
    },
    {
     "name": "stdout",
     "output_type": "stream",
     "text": [
      "                                                                                  \r"
     ]
    },
    {
     "name": "stderr",
     "output_type": "stream",
     "text": [
      "DEBUG:urllib3.connectionpool:Starting new HTTP connection (1): images.cocodataset.org:80\n"
     ]
    },
    {
     "name": "stdout",
     "output_type": "stream",
     "text": [
      "  17% |██|-----------| 15572/93578 [41.7m elapsed, 4.3h remaining, 2.7 images/s]  "
     ]
    },
    {
     "name": "stderr",
     "output_type": "stream",
     "text": [
      "DEBUG:urllib3.connectionpool:http://images.cocodataset.org:80 \"GET /train2017/000000190486.jpg HTTP/1.1\" 200 128032\n",
      "DEBUG:urllib3.connectionpool:Starting new HTTP connection (1): images.cocodataset.org:80\n"
     ]
    },
    {
     "name": "stdout",
     "output_type": "stream",
     "text": [
      "  17% |██/-----------| 15573/93578 [41.7m elapsed, 4.4h remaining, 2.5 images/s]  "
     ]
    },
    {
     "name": "stderr",
     "output_type": "stream",
     "text": [
      "DEBUG:urllib3.connectionpool:http://images.cocodataset.org:80 \"GET /train2017/000000190487.jpg HTTP/1.1\" 200 195295\n",
      "DEBUG:urllib3.connectionpool:Starting new HTTP connection (1): images.cocodataset.org:80\n"
     ]
    },
    {
     "name": "stdout",
     "output_type": "stream",
     "text": [
      "  17% |██------------| 15574/93578 [41.7m elapsed, 4.3h remaining, 2.6 images/s]  "
     ]
    },
    {
     "name": "stderr",
     "output_type": "stream",
     "text": [
      "DEBUG:urllib3.connectionpool:Starting new HTTP connection (1): images.cocodataset.org:80\n"
     ]
    },
    {
     "name": "stdout",
     "output_type": "stream",
     "text": [
      "  17% |██\\-----------| 15575/93578 [41.7m elapsed, 4.4h remaining, 2.5 images/s]  "
     ]
    },
    {
     "name": "stderr",
     "output_type": "stream",
     "text": [
      "DEBUG:urllib3.connectionpool:http://images.cocodataset.org:80 \"GET /train2017/000000190494.jpg HTTP/1.1\" 200 177583\n",
      "DEBUG:urllib3.connectionpool:http://images.cocodataset.org:80 \"GET /train2017/000000190495.jpg HTTP/1.1\" 200 37148\n",
      "DEBUG:urllib3.connectionpool:Starting new HTTP connection (1): images.cocodataset.org:80\n"
     ]
    },
    {
     "name": "stdout",
     "output_type": "stream",
     "text": [
      "  17% |██|-----------| 15576/93578 [41.7m elapsed, 4.4h remaining, 2.4 images/s]  "
     ]
    },
    {
     "name": "stderr",
     "output_type": "stream",
     "text": [
      "DEBUG:urllib3.connectionpool:http://images.cocodataset.org:80 \"GET /train2017/000000190497.jpg HTTP/1.1\" 200 195774\n"
     ]
    },
    {
     "name": "stdout",
     "output_type": "stream",
     "text": [
      "                                                                                  \r"
     ]
    },
    {
     "name": "stderr",
     "output_type": "stream",
     "text": [
      "DEBUG:urllib3.connectionpool:Starting new HTTP connection (1): images.cocodataset.org:80\n"
     ]
    },
    {
     "name": "stdout",
     "output_type": "stream",
     "text": [
      "                                                                                  \r"
     ]
    },
    {
     "name": "stderr",
     "output_type": "stream",
     "text": [
      "DEBUG:urllib3.connectionpool:Starting new HTTP connection (1): images.cocodataset.org:80\n"
     ]
    },
    {
     "name": "stdout",
     "output_type": "stream",
     "text": [
      "  17% |██------------| 15578/93578 [41.7m elapsed, 4.4h remaining, 2.4 images/s]  "
     ]
    },
    {
     "name": "stderr",
     "output_type": "stream",
     "text": [
      "DEBUG:urllib3.connectionpool:http://images.cocodataset.org:80 \"GET /train2017/000000190499.jpg HTTP/1.1\" 200 127426\n",
      "DEBUG:urllib3.connectionpool:http://images.cocodataset.org:80 \"GET /train2017/000000190509.jpg HTTP/1.1\" 200 196412\n"
     ]
    },
    {
     "name": "stdout",
     "output_type": "stream",
     "text": [
      "                                                                                  \r"
     ]
    },
    {
     "name": "stderr",
     "output_type": "stream",
     "text": [
      "DEBUG:urllib3.connectionpool:Starting new HTTP connection (1): images.cocodataset.org:80\n"
     ]
    },
    {
     "name": "stdout",
     "output_type": "stream",
     "text": [
      "  17% |██\\-----------| 15579/93578 [41.7m elapsed, 4.5h remaining, 2.3 images/s]  "
     ]
    },
    {
     "name": "stderr",
     "output_type": "stream",
     "text": [
      "DEBUG:urllib3.connectionpool:http://images.cocodataset.org:80 \"GET /train2017/000000190513.jpg HTTP/1.1\" 200 243890\n"
     ]
    },
    {
     "name": "stdout",
     "output_type": "stream",
     "text": [
      "                                                                                  \r"
     ]
    },
    {
     "name": "stderr",
     "output_type": "stream",
     "text": [
      "DEBUG:urllib3.connectionpool:Starting new HTTP connection (1): images.cocodataset.org:80\n"
     ]
    },
    {
     "name": "stdout",
     "output_type": "stream",
     "text": [
      "  17% |██|-----------| 15580/93578 [41.7m elapsed, 4.6h remaining, 2.2 images/s]  "
     ]
    },
    {
     "name": "stderr",
     "output_type": "stream",
     "text": [
      "DEBUG:urllib3.connectionpool:http://images.cocodataset.org:80 \"GET /train2017/000000190515.jpg HTTP/1.1\" 200 325049\n",
      "DEBUG:urllib3.connectionpool:Starting new HTTP connection (1): images.cocodataset.org:80\n"
     ]
    },
    {
     "name": "stdout",
     "output_type": "stream",
     "text": [
      "                                                                                  \r"
     ]
    },
    {
     "name": "stderr",
     "output_type": "stream",
     "text": [
      "DEBUG:urllib3.connectionpool:Starting new HTTP connection (1): images.cocodataset.org:80\n"
     ]
    },
    {
     "name": "stdout",
     "output_type": "stream",
     "text": [
      "  17% |██------------| 15582/93578 [41.8m elapsed, 4.9h remaining, 1.8 images/s]  "
     ]
    },
    {
     "name": "stderr",
     "output_type": "stream",
     "text": [
      "DEBUG:urllib3.connectionpool:http://images.cocodataset.org:80 \"GET /train2017/000000190521.jpg HTTP/1.1\" 200 180680\n",
      "DEBUG:urllib3.connectionpool:http://images.cocodataset.org:80 \"GET /train2017/000000190530.jpg HTTP/1.1\" 200 185170\n"
     ]
    },
    {
     "name": "stdout",
     "output_type": "stream",
     "text": [
      "                                                                                  \r"
     ]
    },
    {
     "name": "stderr",
     "output_type": "stream",
     "text": [
      "DEBUG:urllib3.connectionpool:Starting new HTTP connection (1): images.cocodataset.org:80\n"
     ]
    },
    {
     "name": "stdout",
     "output_type": "stream",
     "text": [
      "  17% |██\\-----------| 15583/93578 [41.8m elapsed, 4.9h remaining, 1.8 images/s]  "
     ]
    },
    {
     "name": "stderr",
     "output_type": "stream",
     "text": [
      "DEBUG:urllib3.connectionpool:http://images.cocodataset.org:80 \"GET /train2017/000000190537.jpg HTTP/1.1\" 200 235881\n",
      "DEBUG:urllib3.connectionpool:Starting new HTTP connection (1): images.cocodataset.org:80\n"
     ]
    },
    {
     "name": "stdout",
     "output_type": "stream",
     "text": [
      "  17% |██|-----------| 15584/93578 [41.8m elapsed, 5.3h remaining, 1.5 images/s]  "
     ]
    },
    {
     "name": "stderr",
     "output_type": "stream",
     "text": [
      "DEBUG:urllib3.connectionpool:Starting new HTTP connection (1): images.cocodataset.org:80\n"
     ]
    },
    {
     "name": "stdout",
     "output_type": "stream",
     "text": [
      "  17% |██/-----------| 15585/93578 [41.8m elapsed, 5.2h remaining, 1.6 images/s]  "
     ]
    },
    {
     "name": "stderr",
     "output_type": "stream",
     "text": [
      "DEBUG:urllib3.connectionpool:http://images.cocodataset.org:80 \"GET /train2017/000000190546.jpg HTTP/1.1\" 200 194435\n",
      "DEBUG:urllib3.connectionpool:http://images.cocodataset.org:80 \"GET /train2017/000000190547.jpg HTTP/1.1\" 200 128950\n",
      "DEBUG:urllib3.connectionpool:Starting new HTTP connection (1): images.cocodataset.org:80\n"
     ]
    },
    {
     "name": "stdout",
     "output_type": "stream",
     "text": [
      "  17% |██------------| 15586/93578 [41.8m elapsed, 5.3h remaining, 1.5 images/s]  "
     ]
    },
    {
     "name": "stderr",
     "output_type": "stream",
     "text": [
      "DEBUG:urllib3.connectionpool:Starting new HTTP connection (1): images.cocodataset.org:80\n",
      "DEBUG:urllib3.connectionpool:http://images.cocodataset.org:80 \"GET /train2017/000000190550.jpg HTTP/1.1\" 200 242844\n",
      "DEBUG:urllib3.connectionpool:http://images.cocodataset.org:80 \"GET /train2017/000000190551.jpg HTTP/1.1\" 200 239129\n",
      "DEBUG:urllib3.connectionpool:Starting new HTTP connection (1): images.cocodataset.org:80\n"
     ]
    },
    {
     "name": "stdout",
     "output_type": "stream",
     "text": [
      "  17% |██\\-----------| 15588/93578 [41.8m elapsed, 5.3h remaining, 1.5 images/s]  "
     ]
    },
    {
     "name": "stderr",
     "output_type": "stream",
     "text": [
      "DEBUG:urllib3.connectionpool:Starting new HTTP connection (1): images.cocodataset.org:80\n",
      "DEBUG:urllib3.connectionpool:http://images.cocodataset.org:80 \"GET /train2017/000000190554.jpg HTTP/1.1\" 200 168322\n",
      "DEBUG:urllib3.connectionpool:http://images.cocodataset.org:80 \"GET /train2017/000000190566.jpg HTTP/1.1\" 200 237695\n",
      "DEBUG:urllib3.connectionpool:Starting new HTTP connection (1): images.cocodataset.org:80\n"
     ]
    },
    {
     "name": "stdout",
     "output_type": "stream",
     "text": [
      "  17% |██/-----------| 15591/93578 [41.8m elapsed, 5.0h remaining, 1.7 images/s]  "
     ]
    },
    {
     "name": "stderr",
     "output_type": "stream",
     "text": [
      "DEBUG:urllib3.connectionpool:Starting new HTTP connection (1): images.cocodataset.org:80\n",
      "DEBUG:urllib3.connectionpool:http://images.cocodataset.org:80 \"GET /train2017/000000190572.jpg HTTP/1.1\" 200 225671\n",
      "DEBUG:urllib3.connectionpool:http://images.cocodataset.org:80 \"GET /train2017/000000190573.jpg HTTP/1.1\" 200 60050\n",
      "DEBUG:urllib3.connectionpool:Starting new HTTP connection (1): images.cocodataset.org:80\n"
     ]
    },
    {
     "name": "stdout",
     "output_type": "stream",
     "text": [
      "                                                                                  \r"
     ]
    },
    {
     "name": "stderr",
     "output_type": "stream",
     "text": [
      "DEBUG:urllib3.connectionpool:Starting new HTTP connection (1): images.cocodataset.org:80\n"
     ]
    },
    {
     "name": "stdout",
     "output_type": "stream",
     "text": [
      "  17% |██\\-----------| 15593/93578 [41.9m elapsed, 4.8h remaining, 1.9 images/s]  "
     ]
    },
    {
     "name": "stderr",
     "output_type": "stream",
     "text": [
      "DEBUG:urllib3.connectionpool:http://images.cocodataset.org:80 \"GET /train2017/000000190575.jpg HTTP/1.1\" 200 77836\n",
      "DEBUG:urllib3.connectionpool:http://images.cocodataset.org:80 \"GET /train2017/000000190579.jpg HTTP/1.1\" 200 172090\n",
      "DEBUG:urllib3.connectionpool:Starting new HTTP connection (1): images.cocodataset.org:80\n"
     ]
    },
    {
     "name": "stdout",
     "output_type": "stream",
     "text": [
      "  17% |██|-----------| 15594/93578 [41.9m elapsed, 4.7h remaining, 2.0 images/s]  "
     ]
    },
    {
     "name": "stderr",
     "output_type": "stream",
     "text": [
      "DEBUG:urllib3.connectionpool:http://images.cocodataset.org:80 \"GET /train2017/000000190580.jpg HTTP/1.1\" 200 102905\n"
     ]
    },
    {
     "name": "stdout",
     "output_type": "stream",
     "text": [
      "                                                                                  \r"
     ]
    },
    {
     "name": "stderr",
     "output_type": "stream",
     "text": [
      "DEBUG:urllib3.connectionpool:Starting new HTTP connection (1): images.cocodataset.org:80\n"
     ]
    },
    {
     "name": "stdout",
     "output_type": "stream",
     "text": [
      "                                                                                  \r"
     ]
    },
    {
     "name": "stderr",
     "output_type": "stream",
     "text": [
      "DEBUG:urllib3.connectionpool:Starting new HTTP connection (1): images.cocodataset.org:80\n"
     ]
    },
    {
     "name": "stdout",
     "output_type": "stream",
     "text": [
      "  17% |██------------| 15596/93578 [41.9m elapsed, 4.5h remaining, 2.3 images/s]  "
     ]
    },
    {
     "name": "stderr",
     "output_type": "stream",
     "text": [
      "DEBUG:urllib3.connectionpool:http://images.cocodataset.org:80 \"GET /train2017/000000190581.jpg HTTP/1.1\" 200 155380\n",
      "DEBUG:urllib3.connectionpool:http://images.cocodataset.org:80 \"GET /train2017/000000190585.jpg HTTP/1.1\" 200 169034\n"
     ]
    },
    {
     "name": "stdout",
     "output_type": "stream",
     "text": [
      "                                                                                  \r"
     ]
    },
    {
     "name": "stderr",
     "output_type": "stream",
     "text": [
      "DEBUG:urllib3.connectionpool:Starting new HTTP connection (1): images.cocodataset.org:80\n"
     ]
    },
    {
     "name": "stdout",
     "output_type": "stream",
     "text": [
      "  17% |██\\-----------| 15597/93578 [41.9m elapsed, 4.4h remaining, 2.4 images/s]  "
     ]
    },
    {
     "name": "stderr",
     "output_type": "stream",
     "text": [
      "DEBUG:urllib3.connectionpool:http://images.cocodataset.org:80 \"GET /train2017/000000190595.jpg HTTP/1.1\" 200 70504\n"
     ]
    },
    {
     "name": "stdout",
     "output_type": "stream",
     "text": [
      "                                                                                  \r"
     ]
    },
    {
     "name": "stderr",
     "output_type": "stream",
     "text": [
      "DEBUG:urllib3.connectionpool:Starting new HTTP connection (1): images.cocodataset.org:80\n"
     ]
    },
    {
     "name": "stdout",
     "output_type": "stream",
     "text": [
      "                                                                                  \r"
     ]
    },
    {
     "name": "stderr",
     "output_type": "stream",
     "text": [
      "DEBUG:urllib3.connectionpool:Starting new HTTP connection (1): images.cocodataset.org:80\n"
     ]
    },
    {
     "name": "stdout",
     "output_type": "stream",
     "text": [
      "  17% |██/-----------| 15599/93578 [41.9m elapsed, 4.2h remaining, 2.8 images/s]  "
     ]
    },
    {
     "name": "stderr",
     "output_type": "stream",
     "text": [
      "DEBUG:urllib3.connectionpool:http://images.cocodataset.org:80 \"GET /train2017/000000190601.jpg HTTP/1.1\" 200 59280\n",
      "DEBUG:urllib3.connectionpool:Starting new HTTP connection (1): images.cocodataset.org:80\n"
     ]
    },
    {
     "name": "stdout",
     "output_type": "stream",
     "text": [
      "  17% |██------------| 15600/93578 [41.9m elapsed, 4.3h remaining, 2.6 images/s]  "
     ]
    },
    {
     "name": "stderr",
     "output_type": "stream",
     "text": [
      "DEBUG:urllib3.connectionpool:http://images.cocodataset.org:80 \"GET /train2017/000000190603.jpg HTTP/1.1\" 200 242731\n",
      "DEBUG:urllib3.connectionpool:http://images.cocodataset.org:80 \"GET /train2017/000000190612.jpg HTTP/1.1\" 200 130295\n"
     ]
    },
    {
     "name": "stdout",
     "output_type": "stream",
     "text": [
      "                                                                                  \r"
     ]
    },
    {
     "name": "stderr",
     "output_type": "stream",
     "text": [
      "DEBUG:urllib3.connectionpool:Starting new HTTP connection (1): images.cocodataset.org:80\n"
     ]
    },
    {
     "name": "stdout",
     "output_type": "stream",
     "text": [
      "  17% |██\\-----------| 15601/93578 [41.9m elapsed, 4.3h remaining, 2.5 images/s]  "
     ]
    },
    {
     "name": "stderr",
     "output_type": "stream",
     "text": [
      "DEBUG:urllib3.connectionpool:Starting new HTTP connection (1): images.cocodataset.org:80\n"
     ]
    },
    {
     "name": "stdout",
     "output_type": "stream",
     "text": [
      "  17% |██|-----------| 15602/93578 [41.9m elapsed, 4.3h remaining, 2.6 images/s]  "
     ]
    },
    {
     "name": "stderr",
     "output_type": "stream",
     "text": [
      "DEBUG:urllib3.connectionpool:http://images.cocodataset.org:80 \"GET /train2017/000000190617.jpg HTTP/1.1\" 200 265714\n",
      "DEBUG:urllib3.connectionpool:Starting new HTTP connection (1): images.cocodataset.org:80\n"
     ]
    },
    {
     "name": "stdout",
     "output_type": "stream",
     "text": [
      "  17% |██/-----------| 15603/93578 [41.9m elapsed, 4.5h remaining, 2.2 images/s]  "
     ]
    },
    {
     "name": "stderr",
     "output_type": "stream",
     "text": [
      "DEBUG:urllib3.connectionpool:http://images.cocodataset.org:80 \"GET /train2017/000000190645.jpg HTTP/1.1\" 200 122449\n",
      "DEBUG:urllib3.connectionpool:http://images.cocodataset.org:80 \"GET /train2017/000000190646.jpg HTTP/1.1\" 200 119011\n"
     ]
    },
    {
     "name": "stdout",
     "output_type": "stream",
     "text": [
      "                                                                                  \r"
     ]
    },
    {
     "name": "stderr",
     "output_type": "stream",
     "text": [
      "DEBUG:urllib3.connectionpool:Starting new HTTP connection (1): images.cocodataset.org:80\n"
     ]
    },
    {
     "name": "stdout",
     "output_type": "stream",
     "text": [
      "  17% |██------------| 15604/93578 [42.0m elapsed, 4.7h remaining, 2.0 images/s]  "
     ]
    },
    {
     "name": "stderr",
     "output_type": "stream",
     "text": [
      "DEBUG:urllib3.connectionpool:Starting new HTTP connection (1): images.cocodataset.org:80\n",
      "DEBUG:urllib3.connectionpool:http://images.cocodataset.org:80 \"GET /train2017/000000190656.jpg HTTP/1.1\" 200 125127\n",
      "DEBUG:urllib3.connectionpool:http://images.cocodataset.org:80 \"GET /train2017/000000190659.jpg HTTP/1.1\" 200 147219\n",
      "DEBUG:urllib3.connectionpool:Starting new HTTP connection (1): images.cocodataset.org:80\n"
     ]
    },
    {
     "name": "stdout",
     "output_type": "stream",
     "text": [
      "  17% |██\\-----------| 15606/93578 [42.0m elapsed, 4.7h remaining, 2.0 images/s]  "
     ]
    },
    {
     "name": "stderr",
     "output_type": "stream",
     "text": [
      "DEBUG:urllib3.connectionpool:Starting new HTTP connection (1): images.cocodataset.org:80\n",
      "DEBUG:urllib3.connectionpool:http://images.cocodataset.org:80 \"GET /train2017/000000190664.jpg HTTP/1.1\" 200 119511\n",
      "DEBUG:urllib3.connectionpool:http://images.cocodataset.org:80 \"GET /train2017/000000190667.jpg HTTP/1.1\" 200 48942\n"
     ]
    },
    {
     "name": "stdout",
     "output_type": "stream",
     "text": [
      "                                                                                  \r"
     ]
    },
    {
     "name": "stderr",
     "output_type": "stream",
     "text": [
      "DEBUG:urllib3.connectionpool:Starting new HTTP connection (1): images.cocodataset.org:80\n"
     ]
    },
    {
     "name": "stdout",
     "output_type": "stream",
     "text": [
      "  17% |██|-----------| 15608/93578 [42.0m elapsed, 4.6h remaining, 2.2 images/s]  "
     ]
    },
    {
     "name": "stderr",
     "output_type": "stream",
     "text": [
      "DEBUG:urllib3.connectionpool:Starting new HTTP connection (1): images.cocodataset.org:80\n"
     ]
    },
    {
     "name": "stdout",
     "output_type": "stream",
     "text": [
      "  17% |██/-----------| 15609/93578 [42.0m elapsed, 4.5h remaining, 2.2 images/s]  "
     ]
    },
    {
     "name": "stderr",
     "output_type": "stream",
     "text": [
      "DEBUG:urllib3.connectionpool:http://images.cocodataset.org:80 \"GET /train2017/000000190670.jpg HTTP/1.1\" 200 194988\n",
      "DEBUG:urllib3.connectionpool:http://images.cocodataset.org:80 \"GET /train2017/000000190680.jpg HTTP/1.1\" 200 223510\n"
     ]
    },
    {
     "name": "stdout",
     "output_type": "stream",
     "text": [
      "  17% |██------------| 15610/93578 [42.0m elapsed, 4.6h remaining, 2.1 images/s]  "
     ]
    },
    {
     "name": "stderr",
     "output_type": "stream",
     "text": [
      "DEBUG:urllib3.connectionpool:Starting new HTTP connection (1): images.cocodataset.org:80\n"
     ]
    },
    {
     "name": "stdout",
     "output_type": "stream",
     "text": [
      "                                                                                  \r"
     ]
    },
    {
     "name": "stderr",
     "output_type": "stream",
     "text": [
      "DEBUG:urllib3.connectionpool:Starting new HTTP connection (1): images.cocodataset.org:80\n"
     ]
    },
    {
     "name": "stdout",
     "output_type": "stream",
     "text": [
      "  17% |██\\-----------| 15611/93578 [42.0m elapsed, 4.6h remaining, 2.1 images/s]  "
     ]
    },
    {
     "name": "stderr",
     "output_type": "stream",
     "text": [
      "DEBUG:urllib3.connectionpool:http://images.cocodataset.org:80 \"GET /train2017/000000190684.jpg HTTP/1.1\" 200 167259\n",
      "DEBUG:urllib3.connectionpool:http://images.cocodataset.org:80 \"GET /train2017/000000190689.jpg HTTP/1.1\" 200 67051\n",
      "DEBUG:urllib3.connectionpool:Starting new HTTP connection (1): images.cocodataset.org:80\n"
     ]
    },
    {
     "name": "stdout",
     "output_type": "stream",
     "text": [
      "  17% |██|-----------| 15612/93578 [42.0m elapsed, 4.6h remaining, 2.2 images/s]  "
     ]
    },
    {
     "name": "stderr",
     "output_type": "stream",
     "text": [
      "DEBUG:urllib3.connectionpool:Starting new HTTP connection (1): images.cocodataset.org:80\n"
     ]
    },
    {
     "name": "stdout",
     "output_type": "stream",
     "text": [
      "  17% |██/-----------| 15613/93578 [42.0m elapsed, 4.6h remaining, 2.2 images/s]  "
     ]
    },
    {
     "name": "stderr",
     "output_type": "stream",
     "text": [
      "DEBUG:urllib3.connectionpool:http://images.cocodataset.org:80 \"GET /train2017/000000190690.jpg HTTP/1.1\" 200 110321\n",
      "DEBUG:urllib3.connectionpool:http://images.cocodataset.org:80 \"GET /train2017/000000190700.jpg HTTP/1.1\" 200 166874\n",
      "DEBUG:urllib3.connectionpool:Starting new HTTP connection (1): images.cocodataset.org:80\n"
     ]
    },
    {
     "name": "stdout",
     "output_type": "stream",
     "text": [
      "  17% |██------------| 15614/93578 [42.0m elapsed, 4.4h remaining, 2.4 images/s]  "
     ]
    },
    {
     "name": "stderr",
     "output_type": "stream",
     "text": [
      "DEBUG:urllib3.connectionpool:Starting new HTTP connection (1): images.cocodataset.org:80\n"
     ]
    },
    {
     "name": "stdout",
     "output_type": "stream",
     "text": [
      "  17% |██\\-----------| 15615/93578 [42.0m elapsed, 4.3h remaining, 2.7 images/s]  "
     ]
    },
    {
     "name": "stderr",
     "output_type": "stream",
     "text": [
      "DEBUG:urllib3.connectionpool:http://images.cocodataset.org:80 \"GET /train2017/000000190705.jpg HTTP/1.1\" 200 139492\n",
      "DEBUG:urllib3.connectionpool:http://images.cocodataset.org:80 \"GET /train2017/000000190718.jpg HTTP/1.1\" 200 137349\n",
      "DEBUG:urllib3.connectionpool:Starting new HTTP connection (1): images.cocodataset.org:80\n"
     ]
    },
    {
     "name": "stdout",
     "output_type": "stream",
     "text": [
      "  17% |██|-----------| 15616/93578 [42.0m elapsed, 4.3h remaining, 2.6 images/s]  "
     ]
    },
    {
     "name": "stderr",
     "output_type": "stream",
     "text": [
      "DEBUG:urllib3.connectionpool:http://images.cocodataset.org:80 \"GET /train2017/000000190722.jpg HTTP/1.1\" 200 112180\n",
      "DEBUG:urllib3.connectionpool:Starting new HTTP connection (1): images.cocodataset.org:80\n"
     ]
    },
    {
     "name": "stdout",
     "output_type": "stream",
     "text": [
      "  17% |██/-----------| 15617/93578 [42.0m elapsed, 4.4h remaining, 2.5 images/s]  "
     ]
    },
    {
     "name": "stderr",
     "output_type": "stream",
     "text": [
      "DEBUG:urllib3.connectionpool:http://images.cocodataset.org:80 \"GET /train2017/000000190723.jpg HTTP/1.1\" 200 204964\n"
     ]
    },
    {
     "name": "stdout",
     "output_type": "stream",
     "text": [
      "                                                                                  \r"
     ]
    },
    {
     "name": "stderr",
     "output_type": "stream",
     "text": [
      "DEBUG:urllib3.connectionpool:Starting new HTTP connection (1): images.cocodataset.org:80\n"
     ]
    },
    {
     "name": "stdout",
     "output_type": "stream",
     "text": [
      "  17% |██------------| 15618/93578 [42.0m elapsed, 4.4h remaining, 2.4 images/s]  "
     ]
    },
    {
     "name": "stderr",
     "output_type": "stream",
     "text": [
      "DEBUG:urllib3.connectionpool:http://images.cocodataset.org:80 \"GET /train2017/000000190732.jpg HTTP/1.1\" 200 93728\n"
     ]
    },
    {
     "name": "stdout",
     "output_type": "stream",
     "text": [
      "                                                                                  \r"
     ]
    },
    {
     "name": "stderr",
     "output_type": "stream",
     "text": [
      "DEBUG:urllib3.connectionpool:Starting new HTTP connection (1): images.cocodataset.org:80\n"
     ]
    },
    {
     "name": "stdout",
     "output_type": "stream",
     "text": [
      "                                                                                  \r"
     ]
    },
    {
     "name": "stderr",
     "output_type": "stream",
     "text": [
      "DEBUG:urllib3.connectionpool:Starting new HTTP connection (1): images.cocodataset.org:80\n"
     ]
    },
    {
     "name": "stdout",
     "output_type": "stream",
     "text": [
      "  17% |██|-----------| 15620/93578 [42.1m elapsed, 4.3h remaining, 2.5 images/s]  "
     ]
    },
    {
     "name": "stderr",
     "output_type": "stream",
     "text": [
      "DEBUG:urllib3.connectionpool:http://images.cocodataset.org:80 \"GET /train2017/000000190734.jpg HTTP/1.1\" 200 144640\n",
      "DEBUG:urllib3.connectionpool:http://images.cocodataset.org:80 \"GET /train2017/000000190738.jpg HTTP/1.1\" 200 121958\n",
      "DEBUG:urllib3.connectionpool:Starting new HTTP connection (1): images.cocodataset.org:80\n"
     ]
    },
    {
     "name": "stdout",
     "output_type": "stream",
     "text": [
      "  17% |██/-----------| 15621/93578 [42.1m elapsed, 4.4h remaining, 2.5 images/s]  "
     ]
    },
    {
     "name": "stderr",
     "output_type": "stream",
     "text": [
      "DEBUG:urllib3.connectionpool:Starting new HTTP connection (1): images.cocodataset.org:80\n"
     ]
    },
    {
     "name": "stdout",
     "output_type": "stream",
     "text": [
      "  17% |██------------| 15622/93578 [42.1m elapsed, 4.4h remaining, 2.4 images/s]  "
     ]
    },
    {
     "name": "stderr",
     "output_type": "stream",
     "text": [
      "DEBUG:urllib3.connectionpool:http://images.cocodataset.org:80 \"GET /train2017/000000190751.jpg HTTP/1.1\" 200 115605\n",
      "DEBUG:urllib3.connectionpool:http://images.cocodataset.org:80 \"GET /train2017/000000190754.jpg HTTP/1.1\" 200 123487\n"
     ]
    },
    {
     "name": "stdout",
     "output_type": "stream",
     "text": [
      "  17% |██\\-----------| 15623/93578 [42.1m elapsed, 4.4h remaining, 2.5 images/s]  "
     ]
    },
    {
     "name": "stderr",
     "output_type": "stream",
     "text": [
      "DEBUG:urllib3.connectionpool:Starting new HTTP connection (1): images.cocodataset.org:80\n"
     ]
    },
    {
     "name": "stdout",
     "output_type": "stream",
     "text": [
      "                                                                                  \r"
     ]
    },
    {
     "name": "stderr",
     "output_type": "stream",
     "text": [
      "DEBUG:urllib3.connectionpool:Starting new HTTP connection (1): images.cocodataset.org:80\n"
     ]
    },
    {
     "name": "stdout",
     "output_type": "stream",
     "text": [
      "  17% |██|-----------| 15624/93578 [42.1m elapsed, 4.4h remaining, 2.4 images/s]  "
     ]
    },
    {
     "name": "stderr",
     "output_type": "stream",
     "text": [
      "DEBUG:urllib3.connectionpool:http://images.cocodataset.org:80 \"GET /train2017/000000190764.jpg HTTP/1.1\" 200 127442\n",
      "DEBUG:urllib3.connectionpool:http://images.cocodataset.org:80 \"GET /train2017/000000190767.jpg HTTP/1.1\" 200 72408\n",
      "DEBUG:urllib3.connectionpool:Starting new HTTP connection (1): images.cocodataset.org:80\n"
     ]
    },
    {
     "name": "stdout",
     "output_type": "stream",
     "text": [
      "                                                                                  \r"
     ]
    },
    {
     "name": "stderr",
     "output_type": "stream",
     "text": [
      "DEBUG:urllib3.connectionpool:Starting new HTTP connection (1): images.cocodataset.org:80\n"
     ]
    },
    {
     "name": "stdout",
     "output_type": "stream",
     "text": [
      "  17% |██------------| 15626/93578 [42.1m elapsed, 4.3h remaining, 2.7 images/s]  "
     ]
    },
    {
     "name": "stderr",
     "output_type": "stream",
     "text": [
      "DEBUG:urllib3.connectionpool:http://images.cocodataset.org:80 \"GET /train2017/000000190776.jpg HTTP/1.1\" 200 204695\n",
      "DEBUG:urllib3.connectionpool:http://images.cocodataset.org:80 \"GET /train2017/000000190783.jpg HTTP/1.1\" 200 130046\n",
      "DEBUG:urllib3.connectionpool:Starting new HTTP connection (1): images.cocodataset.org:80\n"
     ]
    },
    {
     "name": "stdout",
     "output_type": "stream",
     "text": [
      "  17% |██\\-----------| 15627/93578 [42.1m elapsed, 4.4h remaining, 2.4 images/s]  "
     ]
    },
    {
     "name": "stderr",
     "output_type": "stream",
     "text": [
      "DEBUG:urllib3.connectionpool:Starting new HTTP connection (1): images.cocodataset.org:80\n",
      "DEBUG:urllib3.connectionpool:http://images.cocodataset.org:80 \"GET /train2017/000000190788.jpg HTTP/1.1\" 200 250091\n",
      "DEBUG:urllib3.connectionpool:http://images.cocodataset.org:80 \"GET /train2017/000000190792.jpg HTTP/1.1\" 200 179200\n",
      "DEBUG:urllib3.connectionpool:Starting new HTTP connection (1): images.cocodataset.org:80\n"
     ]
    },
    {
     "name": "stdout",
     "output_type": "stream",
     "text": [
      "  17% |██|-----------| 15629/93578 [42.1m elapsed, 4.5h remaining, 2.3 images/s]  "
     ]
    },
    {
     "name": "stderr",
     "output_type": "stream",
     "text": [
      "DEBUG:urllib3.connectionpool:Starting new HTTP connection (1): images.cocodataset.org:80\n",
      "DEBUG:urllib3.connectionpool:http://images.cocodataset.org:80 \"GET /train2017/000000190796.jpg HTTP/1.1\" 200 47979\n",
      "DEBUG:urllib3.connectionpool:http://images.cocodataset.org:80 \"GET /train2017/000000190794.jpg HTTP/1.1\" 200 232242\n",
      "DEBUG:urllib3.connectionpool:Starting new HTTP connection (1): images.cocodataset.org:80\n"
     ]
    },
    {
     "name": "stdout",
     "output_type": "stream",
     "text": [
      "  17% |██/-----------| 15631/93578 [42.1m elapsed, 4.4h remaining, 2.4 images/s]  "
     ]
    },
    {
     "name": "stderr",
     "output_type": "stream",
     "text": [
      "DEBUG:urllib3.connectionpool:Starting new HTTP connection (1): images.cocodataset.org:80\n"
     ]
    },
    {
     "name": "stdout",
     "output_type": "stream",
     "text": [
      "  17% |██------------| 15632/93578 [42.1m elapsed, 4.4h remaining, 2.5 images/s]  "
     ]
    },
    {
     "name": "stderr",
     "output_type": "stream",
     "text": [
      "DEBUG:urllib3.connectionpool:http://images.cocodataset.org:80 \"GET /train2017/000000190798.jpg HTTP/1.1\" 200 69459\n"
     ]
    },
    {
     "name": "stdout",
     "output_type": "stream",
     "text": [
      "                                                                                  \r"
     ]
    },
    {
     "name": "stderr",
     "output_type": "stream",
     "text": [
      "DEBUG:urllib3.connectionpool:Starting new HTTP connection (1): images.cocodataset.org:80\n"
     ]
    },
    {
     "name": "stdout",
     "output_type": "stream",
     "text": [
      "  17% |██\\-----------| 15633/93578 [42.1m elapsed, 4.4h remaining, 2.5 images/s]  "
     ]
    },
    {
     "name": "stderr",
     "output_type": "stream",
     "text": [
      "DEBUG:urllib3.connectionpool:http://images.cocodataset.org:80 \"GET /train2017/000000190805.jpg HTTP/1.1\" 200 211570\n",
      "DEBUG:urllib3.connectionpool:http://images.cocodataset.org:80 \"GET /train2017/000000190806.jpg HTTP/1.1\" 200 269324\n",
      "DEBUG:urllib3.connectionpool:Starting new HTTP connection (1): images.cocodataset.org:80\n"
     ]
    },
    {
     "name": "stdout",
     "output_type": "stream",
     "text": [
      "  17% |██|-----------| 15634/93578 [42.1m elapsed, 4.4h remaining, 2.4 images/s]  "
     ]
    },
    {
     "name": "stderr",
     "output_type": "stream",
     "text": [
      "DEBUG:urllib3.connectionpool:http://images.cocodataset.org:80 \"GET /train2017/000000190826.jpg HTTP/1.1\" 200 249241\n"
     ]
    },
    {
     "name": "stdout",
     "output_type": "stream",
     "text": [
      "                                                                                  \r"
     ]
    },
    {
     "name": "stderr",
     "output_type": "stream",
     "text": [
      "DEBUG:urllib3.connectionpool:Starting new HTTP connection (1): images.cocodataset.org:80\n"
     ]
    },
    {
     "name": "stdout",
     "output_type": "stream",
     "text": [
      "  17% |██/-----------| 15635/93578 [42.2m elapsed, 4.4h remaining, 2.4 images/s]  "
     ]
    },
    {
     "name": "stderr",
     "output_type": "stream",
     "text": [
      "DEBUG:urllib3.connectionpool:http://images.cocodataset.org:80 \"GET /train2017/000000190828.jpg HTTP/1.1\" 200 240573\n"
     ]
    },
    {
     "name": "stdout",
     "output_type": "stream",
     "text": [
      "                                                                                  \r"
     ]
    },
    {
     "name": "stderr",
     "output_type": "stream",
     "text": [
      "DEBUG:urllib3.connectionpool:Starting new HTTP connection (1): images.cocodataset.org:80\n"
     ]
    },
    {
     "name": "stdout",
     "output_type": "stream",
     "text": [
      "                                                                                  \r"
     ]
    },
    {
     "name": "stderr",
     "output_type": "stream",
     "text": [
      "DEBUG:urllib3.connectionpool:Starting new HTTP connection (1): images.cocodataset.org:80\n"
     ]
    },
    {
     "name": "stdout",
     "output_type": "stream",
     "text": [
      "  17% |██\\-----------| 15637/93578 [42.2m elapsed, 4.5h remaining, 2.2 images/s]  "
     ]
    },
    {
     "name": "stderr",
     "output_type": "stream",
     "text": [
      "DEBUG:urllib3.connectionpool:http://images.cocodataset.org:80 \"GET /train2017/000000190829.jpg HTTP/1.1\" 200 172093\n",
      "DEBUG:urllib3.connectionpool:http://images.cocodataset.org:80 \"GET /train2017/000000190831.jpg HTTP/1.1\" 200 129657\n",
      "DEBUG:urllib3.connectionpool:Starting new HTTP connection (1): images.cocodataset.org:80\n"
     ]
    },
    {
     "name": "stdout",
     "output_type": "stream",
     "text": [
      "  17% |██|-----------| 15638/93578 [42.2m elapsed, 4.4h remaining, 2.4 images/s]  "
     ]
    },
    {
     "name": "stderr",
     "output_type": "stream",
     "text": [
      "DEBUG:urllib3.connectionpool:http://images.cocodataset.org:80 \"GET /train2017/000000190839.jpg HTTP/1.1\" 200 40274\n"
     ]
    },
    {
     "name": "stdout",
     "output_type": "stream",
     "text": [
      "                                                                                  \r"
     ]
    },
    {
     "name": "stderr",
     "output_type": "stream",
     "text": [
      "DEBUG:urllib3.connectionpool:Starting new HTTP connection (1): images.cocodataset.org:80\n"
     ]
    },
    {
     "name": "stdout",
     "output_type": "stream",
     "text": [
      "                                                                                  \r"
     ]
    },
    {
     "name": "stderr",
     "output_type": "stream",
     "text": [
      "DEBUG:urllib3.connectionpool:Starting new HTTP connection (1): images.cocodataset.org:80\n"
     ]
    },
    {
     "name": "stdout",
     "output_type": "stream",
     "text": [
      "  17% |██------------| 15640/93578 [42.2m elapsed, 4.3h remaining, 2.6 images/s]  "
     ]
    },
    {
     "name": "stderr",
     "output_type": "stream",
     "text": [
      "DEBUG:urllib3.connectionpool:http://images.cocodataset.org:80 \"GET /train2017/000000190845.jpg HTTP/1.1\" 200 291668\n",
      "DEBUG:urllib3.connectionpool:http://images.cocodataset.org:80 \"GET /train2017/000000190849.jpg HTTP/1.1\" 200 161346\n"
     ]
    },
    {
     "name": "stdout",
     "output_type": "stream",
     "text": [
      "                                                                                  \r"
     ]
    },
    {
     "name": "stderr",
     "output_type": "stream",
     "text": [
      "DEBUG:urllib3.connectionpool:Starting new HTTP connection (1): images.cocodataset.org:80\n"
     ]
    },
    {
     "name": "stdout",
     "output_type": "stream",
     "text": [
      "                                                                                  \r"
     ]
    },
    {
     "name": "stderr",
     "output_type": "stream",
     "text": [
      "DEBUG:urllib3.connectionpool:Starting new HTTP connection (1): images.cocodataset.org:80\n"
     ]
    },
    {
     "name": "stdout",
     "output_type": "stream",
     "text": [
      "  17% |██|-----------| 15642/93578 [42.2m elapsed, 4.5h remaining, 2.3 images/s]  "
     ]
    },
    {
     "name": "stderr",
     "output_type": "stream",
     "text": [
      "DEBUG:urllib3.connectionpool:http://images.cocodataset.org:80 \"GET /train2017/000000190859.jpg HTTP/1.1\" 200 87677\n",
      "DEBUG:urllib3.connectionpool:http://images.cocodataset.org:80 \"GET /train2017/000000190861.jpg HTTP/1.1\" 200 110110\n"
     ]
    },
    {
     "name": "stdout",
     "output_type": "stream",
     "text": [
      "                                                                                  \r"
     ]
    },
    {
     "name": "stderr",
     "output_type": "stream",
     "text": [
      "DEBUG:urllib3.connectionpool:Starting new HTTP connection (1): images.cocodataset.org:80\n"
     ]
    },
    {
     "name": "stdout",
     "output_type": "stream",
     "text": [
      "  17% |██/-----------| 15643/93578 [42.2m elapsed, 4.4h remaining, 2.4 images/s]  "
     ]
    },
    {
     "name": "stderr",
     "output_type": "stream",
     "text": [
      "DEBUG:urllib3.connectionpool:Starting new HTTP connection (1): images.cocodataset.org:80\n"
     ]
    },
    {
     "name": "stdout",
     "output_type": "stream",
     "text": [
      "  17% |██------------| 15644/93578 [42.2m elapsed, 4.4h remaining, 2.5 images/s]  "
     ]
    },
    {
     "name": "stderr",
     "output_type": "stream",
     "text": [
      "DEBUG:urllib3.connectionpool:http://images.cocodataset.org:80 \"GET /train2017/000000190863.jpg HTTP/1.1\" 200 120531\n",
      "DEBUG:urllib3.connectionpool:http://images.cocodataset.org:80 \"GET /train2017/000000190868.jpg HTTP/1.1\" 200 149639\n",
      "DEBUG:urllib3.connectionpool:Starting new HTTP connection (1): images.cocodataset.org:80\n"
     ]
    },
    {
     "name": "stdout",
     "output_type": "stream",
     "text": [
      "  17% |██\\-----------| 15645/93578 [42.2m elapsed, 4.4h remaining, 2.4 images/s]  "
     ]
    },
    {
     "name": "stderr",
     "output_type": "stream",
     "text": [
      "DEBUG:urllib3.connectionpool:Starting new HTTP connection (1): images.cocodataset.org:80\n"
     ]
    },
    {
     "name": "stdout",
     "output_type": "stream",
     "text": [
      "  17% |██|-----------| 15646/93578 [42.2m elapsed, 4.3h remaining, 2.6 images/s]  "
     ]
    },
    {
     "name": "stderr",
     "output_type": "stream",
     "text": [
      "DEBUG:urllib3.connectionpool:http://images.cocodataset.org:80 \"GET /train2017/000000190872.jpg HTTP/1.1\" 200 144738\n",
      "DEBUG:urllib3.connectionpool:http://images.cocodataset.org:80 \"GET /train2017/000000190881.jpg HTTP/1.1\" 200 165453\n",
      "DEBUG:urllib3.connectionpool:Starting new HTTP connection (1): images.cocodataset.org:80\n"
     ]
    },
    {
     "name": "stdout",
     "output_type": "stream",
     "text": [
      "  17% |██/-----------| 15647/93578 [42.2m elapsed, 4.4h remaining, 2.4 images/s]  "
     ]
    },
    {
     "name": "stderr",
     "output_type": "stream",
     "text": [
      "DEBUG:urllib3.connectionpool:Starting new HTTP connection (1): images.cocodataset.org:80\n"
     ]
    },
    {
     "name": "stdout",
     "output_type": "stream",
     "text": [
      "  17% |██------------| 15648/93578 [42.2m elapsed, 4.3h remaining, 2.6 images/s]  "
     ]
    },
    {
     "name": "stderr",
     "output_type": "stream",
     "text": [
      "DEBUG:urllib3.connectionpool:http://images.cocodataset.org:80 \"GET /train2017/000000190882.jpg HTTP/1.1\" 200 221010\n",
      "DEBUG:urllib3.connectionpool:http://images.cocodataset.org:80 \"GET /train2017/000000190884.jpg HTTP/1.1\" 200 234990\n",
      "DEBUG:urllib3.connectionpool:Starting new HTTP connection (1): images.cocodataset.org:80\n"
     ]
    },
    {
     "name": "stdout",
     "output_type": "stream",
     "text": [
      "  17% |██|-----------| 15650/93578 [42.3m elapsed, 4.3h remaining, 2.5 images/s]  "
     ]
    },
    {
     "name": "stderr",
     "output_type": "stream",
     "text": [
      "DEBUG:urllib3.connectionpool:Starting new HTTP connection (1): images.cocodataset.org:80\n",
      "DEBUG:urllib3.connectionpool:http://images.cocodataset.org:80 \"GET /train2017/000000190885.jpg HTTP/1.1\" 200 259725\n",
      "DEBUG:urllib3.connectionpool:http://images.cocodataset.org:80 \"GET /train2017/000000190886.jpg HTTP/1.1\" 200 264295\n"
     ]
    },
    {
     "name": "stdout",
     "output_type": "stream",
     "text": [
      "                                                                                  \r"
     ]
    },
    {
     "name": "stderr",
     "output_type": "stream",
     "text": [
      "DEBUG:urllib3.connectionpool:Starting new HTTP connection (1): images.cocodataset.org:80\n"
     ]
    },
    {
     "name": "stdout",
     "output_type": "stream",
     "text": [
      "                                                                                  \r"
     ]
    },
    {
     "name": "stderr",
     "output_type": "stream",
     "text": [
      "DEBUG:urllib3.connectionpool:Starting new HTTP connection (1): images.cocodataset.org:80\n"
     ]
    },
    {
     "name": "stdout",
     "output_type": "stream",
     "text": [
      "  17% |██------------| 15652/93578 [42.3m elapsed, 4.4h remaining, 2.4 images/s]  "
     ]
    },
    {
     "name": "stderr",
     "output_type": "stream",
     "text": [
      "DEBUG:urllib3.connectionpool:http://images.cocodataset.org:80 \"GET /train2017/000000190896.jpg HTTP/1.1\" 200 131361\n",
      "DEBUG:urllib3.connectionpool:http://images.cocodataset.org:80 \"GET /train2017/000000190898.jpg HTTP/1.1\" 200 140528\n"
     ]
    },
    {
     "name": "stdout",
     "output_type": "stream",
     "text": [
      "  17% |██\\-----------| 15653/93578 [42.3m elapsed, 4.6h remaining, 2.2 images/s]  "
     ]
    },
    {
     "name": "stderr",
     "output_type": "stream",
     "text": [
      "DEBUG:urllib3.connectionpool:Starting new HTTP connection (1): images.cocodataset.org:80\n",
      "DEBUG:urllib3.connectionpool:Starting new HTTP connection (1): images.cocodataset.org:80\n"
     ]
    },
    {
     "name": "stdout",
     "output_type": "stream",
     "text": [
      "  17% |██|-----------| 15654/93578 [42.3m elapsed, 4.4h remaining, 2.4 images/s]  "
     ]
    },
    {
     "name": "stderr",
     "output_type": "stream",
     "text": [
      "DEBUG:urllib3.connectionpool:http://images.cocodataset.org:80 \"GET /train2017/000000190900.jpg HTTP/1.1\" 200 141421\n",
      "DEBUG:urllib3.connectionpool:http://images.cocodataset.org:80 \"GET /train2017/000000190905.jpg HTTP/1.1\" 200 124053\n",
      "DEBUG:urllib3.connectionpool:Starting new HTTP connection (1): images.cocodataset.org:80\n"
     ]
    },
    {
     "name": "stdout",
     "output_type": "stream",
     "text": [
      "  17% |██/-----------| 15655/93578 [42.3m elapsed, 4.6h remaining, 2.2 images/s]  "
     ]
    },
    {
     "name": "stderr",
     "output_type": "stream",
     "text": [
      "DEBUG:urllib3.connectionpool:Starting new HTTP connection (1): images.cocodataset.org:80\n",
      "DEBUG:urllib3.connectionpool:http://images.cocodataset.org:80 \"GET /train2017/000000190906.jpg HTTP/1.1\" 200 161402\n",
      "DEBUG:urllib3.connectionpool:http://images.cocodataset.org:80 \"GET /train2017/000000190907.jpg HTTP/1.1\" 200 259385\n",
      "DEBUG:urllib3.connectionpool:Starting new HTTP connection (1): images.cocodataset.org:80\n"
     ]
    },
    {
     "name": "stdout",
     "output_type": "stream",
     "text": [
      "  17% |██------------| 15657/93578 [42.3m elapsed, 4.8h remaining, 2.0 images/s]  "
     ]
    },
    {
     "name": "stderr",
     "output_type": "stream",
     "text": [
      "DEBUG:urllib3.connectionpool:http://images.cocodataset.org:80 \"GET /train2017/000000190914.jpg HTTP/1.1\" 200 95515\n"
     ]
    },
    {
     "name": "stdout",
     "output_type": "stream",
     "text": [
      "                                                                                  \r"
     ]
    },
    {
     "name": "stderr",
     "output_type": "stream",
     "text": [
      "DEBUG:urllib3.connectionpool:Starting new HTTP connection (1): images.cocodataset.org:80\n"
     ]
    },
    {
     "name": "stdout",
     "output_type": "stream",
     "text": [
      "  17% |██\\-----------| 15658/93578 [42.3m elapsed, 4.9h remaining, 1.8 images/s]  "
     ]
    },
    {
     "name": "stderr",
     "output_type": "stream",
     "text": [
      "DEBUG:urllib3.connectionpool:Starting new HTTP connection (1): images.cocodataset.org:80\n"
     ]
    },
    {
     "name": "stdout",
     "output_type": "stream",
     "text": [
      "  17% |██|-----------| 15659/93578 [42.3m elapsed, 4.7h remaining, 2.0 images/s]  "
     ]
    },
    {
     "name": "stderr",
     "output_type": "stream",
     "text": [
      "DEBUG:urllib3.connectionpool:http://images.cocodataset.org:80 \"GET /train2017/000000190915.jpg HTTP/1.1\" 200 223891\n",
      "DEBUG:urllib3.connectionpool:http://images.cocodataset.org:80 \"GET /train2017/000000190920.jpg HTTP/1.1\" 200 90080\n",
      "DEBUG:urllib3.connectionpool:Starting new HTTP connection (1): images.cocodataset.org:80\n"
     ]
    },
    {
     "name": "stdout",
     "output_type": "stream",
     "text": [
      "  17% |██/-----------| 15660/93578 [42.4m elapsed, 4.9h remaining, 1.8 images/s]  "
     ]
    },
    {
     "name": "stderr",
     "output_type": "stream",
     "text": [
      "DEBUG:urllib3.connectionpool:http://images.cocodataset.org:80 \"GET /train2017/000000190921.jpg HTTP/1.1\" 200 34937\n"
     ]
    },
    {
     "name": "stdout",
     "output_type": "stream",
     "text": [
      "                                                                                  \r"
     ]
    },
    {
     "name": "stderr",
     "output_type": "stream",
     "text": [
      "DEBUG:urllib3.connectionpool:Starting new HTTP connection (1): images.cocodataset.org:80\n"
     ]
    },
    {
     "name": "stdout",
     "output_type": "stream",
     "text": [
      "  17% |██------------| 15661/93578 [42.4m elapsed, 4.8h remaining, 1.9 images/s]  "
     ]
    },
    {
     "name": "stderr",
     "output_type": "stream",
     "text": [
      "DEBUG:urllib3.connectionpool:http://images.cocodataset.org:80 \"GET /train2017/000000190927.jpg HTTP/1.1\" 200 234339\n",
      "DEBUG:urllib3.connectionpool:Starting new HTTP connection (1): images.cocodataset.org:80\n"
     ]
    },
    {
     "name": "stdout",
     "output_type": "stream",
     "text": [
      "  17% |██\\-----------| 15662/93578 [42.4m elapsed, 5.1h remaining, 1.7 images/s]  "
     ]
    },
    {
     "name": "stderr",
     "output_type": "stream",
     "text": [
      "DEBUG:urllib3.connectionpool:http://images.cocodataset.org:80 \"GET /train2017/000000190929.jpg HTTP/1.1\" 200 298776\n",
      "DEBUG:urllib3.connectionpool:Starting new HTTP connection (1): images.cocodataset.org:80\n"
     ]
    },
    {
     "name": "stdout",
     "output_type": "stream",
     "text": [
      "  17% |██|-----------| 15663/93578 [42.4m elapsed, 5.0h remaining, 1.7 images/s]  "
     ]
    },
    {
     "name": "stderr",
     "output_type": "stream",
     "text": [
      "DEBUG:urllib3.connectionpool:http://images.cocodataset.org:80 \"GET /train2017/000000190938.jpg HTTP/1.1\" 200 39256\n"
     ]
    },
    {
     "name": "stdout",
     "output_type": "stream",
     "text": [
      "                                                                                  \r"
     ]
    },
    {
     "name": "stderr",
     "output_type": "stream",
     "text": [
      "DEBUG:urllib3.connectionpool:Starting new HTTP connection (1): images.cocodataset.org:80\n"
     ]
    },
    {
     "name": "stdout",
     "output_type": "stream",
     "text": [
      "  17% |██/-----------| 15664/93578 [42.4m elapsed, 5.1h remaining, 1.6 images/s]  "
     ]
    },
    {
     "name": "stderr",
     "output_type": "stream",
     "text": [
      "DEBUG:urllib3.connectionpool:http://images.cocodataset.org:80 \"GET /train2017/000000190939.jpg HTTP/1.1\" 200 195106\n",
      "DEBUG:urllib3.connectionpool:Starting new HTTP connection (1): images.cocodataset.org:80\n"
     ]
    },
    {
     "name": "stdout",
     "output_type": "stream",
     "text": [
      "  17% |██------------| 15665/93578 [42.4m elapsed, 5.2h remaining, 1.6 images/s]  "
     ]
    },
    {
     "name": "stderr",
     "output_type": "stream",
     "text": [
      "DEBUG:urllib3.connectionpool:Starting new HTTP connection (1): images.cocodataset.org:80\n"
     ]
    },
    {
     "name": "stdout",
     "output_type": "stream",
     "text": [
      "  17% |██\\-----------| 15666/93578 [42.4m elapsed, 4.9h remaining, 1.9 images/s]  "
     ]
    },
    {
     "name": "stderr",
     "output_type": "stream",
     "text": [
      "DEBUG:urllib3.connectionpool:http://images.cocodataset.org:80 \"GET /train2017/000000190942.jpg HTTP/1.1\" 200 187601\n",
      "DEBUG:urllib3.connectionpool:http://images.cocodataset.org:80 \"GET /train2017/000000190945.jpg HTTP/1.1\" 200 242955\n"
     ]
    },
    {
     "name": "stdout",
     "output_type": "stream",
     "text": [
      "                                                                                  \r"
     ]
    },
    {
     "name": "stderr",
     "output_type": "stream",
     "text": [
      "DEBUG:urllib3.connectionpool:Starting new HTTP connection (1): images.cocodataset.org:80\n"
     ]
    },
    {
     "name": "stdout",
     "output_type": "stream",
     "text": [
      "  17% |██|-----------| 15667/93578 [42.4m elapsed, 4.9h remaining, 1.9 images/s]  "
     ]
    },
    {
     "name": "stderr",
     "output_type": "stream",
     "text": [
      "DEBUG:urllib3.connectionpool:http://images.cocodataset.org:80 \"GET /train2017/000000190950.jpg HTTP/1.1\" 200 113382\n"
     ]
    },
    {
     "name": "stdout",
     "output_type": "stream",
     "text": [
      "                                                                                  \r"
     ]
    },
    {
     "name": "stderr",
     "output_type": "stream",
     "text": [
      "DEBUG:urllib3.connectionpool:Starting new HTTP connection (1): images.cocodataset.org:80\n"
     ]
    },
    {
     "name": "stdout",
     "output_type": "stream",
     "text": [
      "  17% |██/-----------| 15668/93578 [42.4m elapsed, 5.0h remaining, 1.8 images/s]  "
     ]
    },
    {
     "name": "stderr",
     "output_type": "stream",
     "text": [
      "DEBUG:urllib3.connectionpool:http://images.cocodataset.org:80 \"GET /train2017/000000190951.jpg HTTP/1.1\" 200 76936\n",
      "DEBUG:urllib3.connectionpool:Starting new HTTP connection (1): images.cocodataset.org:80\n"
     ]
    },
    {
     "name": "stdout",
     "output_type": "stream",
     "text": [
      "  17% |██------------| 15669/93578 [42.4m elapsed, 4.8h remaining, 1.9 images/s]  "
     ]
    },
    {
     "name": "stderr",
     "output_type": "stream",
     "text": [
      "DEBUG:urllib3.connectionpool:Starting new HTTP connection (1): images.cocodataset.org:80\n"
     ]
    },
    {
     "name": "stdout",
     "output_type": "stream",
     "text": [
      "  17% |██\\-----------| 15670/93578 [42.4m elapsed, 4.7h remaining, 2.0 images/s]  "
     ]
    },
    {
     "name": "stderr",
     "output_type": "stream",
     "text": [
      "DEBUG:urllib3.connectionpool:http://images.cocodataset.org:80 \"GET /train2017/000000190952.jpg HTTP/1.1\" 200 275026\n",
      "DEBUG:urllib3.connectionpool:http://images.cocodataset.org:80 \"GET /train2017/000000190957.jpg HTTP/1.1\" 200 110742\n",
      "DEBUG:urllib3.connectionpool:Starting new HTTP connection (1): images.cocodataset.org:80\n"
     ]
    },
    {
     "name": "stdout",
     "output_type": "stream",
     "text": [
      "  17% |██|-----------| 15671/93578 [42.4m elapsed, 4.7h remaining, 2.0 images/s]  "
     ]
    },
    {
     "name": "stderr",
     "output_type": "stream",
     "text": [
      "DEBUG:urllib3.connectionpool:Starting new HTTP connection (1): images.cocodataset.org:80\n"
     ]
    },
    {
     "name": "stdout",
     "output_type": "stream",
     "text": [
      "  17% |██/-----------| 15672/93578 [42.4m elapsed, 4.5h remaining, 2.2 images/s]  "
     ]
    },
    {
     "name": "stderr",
     "output_type": "stream",
     "text": [
      "DEBUG:urllib3.connectionpool:http://images.cocodataset.org:80 \"GET /train2017/000000190964.jpg HTTP/1.1\" 200 86583\n",
      "DEBUG:urllib3.connectionpool:http://images.cocodataset.org:80 \"GET /train2017/000000190981.jpg HTTP/1.1\" 200 164217\n"
     ]
    },
    {
     "name": "stdout",
     "output_type": "stream",
     "text": [
      "  17% |██------------| 15673/93578 [42.5m elapsed, 4.7h remaining, 2.1 images/s]  "
     ]
    },
    {
     "name": "stderr",
     "output_type": "stream",
     "text": [
      "DEBUG:urllib3.connectionpool:Starting new HTTP connection (1): images.cocodataset.org:80\n"
     ]
    },
    {
     "name": "stdout",
     "output_type": "stream",
     "text": [
      "                                                                                  \r"
     ]
    },
    {
     "name": "stderr",
     "output_type": "stream",
     "text": [
      "DEBUG:urllib3.connectionpool:Starting new HTTP connection (1): images.cocodataset.org:80\n"
     ]
    },
    {
     "name": "stdout",
     "output_type": "stream",
     "text": [
      "  17% |██\\-----------| 15674/93578 [42.5m elapsed, 4.4h remaining, 2.4 images/s]  "
     ]
    },
    {
     "name": "stderr",
     "output_type": "stream",
     "text": [
      "DEBUG:urllib3.connectionpool:http://images.cocodataset.org:80 \"GET /train2017/000000190992.jpg HTTP/1.1\" 200 73864\n",
      "DEBUG:urllib3.connectionpool:http://images.cocodataset.org:80 \"GET /train2017/000000190991.jpg HTTP/1.1\" 200 159223\n",
      "DEBUG:urllib3.connectionpool:Starting new HTTP connection (1): images.cocodataset.org:80\n"
     ]
    },
    {
     "name": "stdout",
     "output_type": "stream",
     "text": [
      "  17% |██|-----------| 15675/93578 [42.5m elapsed, 4.7h remaining, 2.1 images/s]  "
     ]
    },
    {
     "name": "stderr",
     "output_type": "stream",
     "text": [
      "DEBUG:urllib3.connectionpool:http://images.cocodataset.org:80 \"GET /train2017/000000190994.jpg HTTP/1.1\" 200 240143\n",
      "DEBUG:urllib3.connectionpool:Starting new HTTP connection (1): images.cocodataset.org:80\n"
     ]
    },
    {
     "name": "stdout",
     "output_type": "stream",
     "text": [
      "  17% |██/-----------| 15676/93578 [42.5m elapsed, 4.8h remaining, 2.0 images/s]  "
     ]
    },
    {
     "name": "stderr",
     "output_type": "stream",
     "text": [
      "DEBUG:urllib3.connectionpool:Starting new HTTP connection (1): images.cocodataset.org:80\n"
     ]
    },
    {
     "name": "stdout",
     "output_type": "stream",
     "text": [
      "  17% |██------------| 15677/93578 [42.5m elapsed, 4.7h remaining, 2.0 images/s]  "
     ]
    },
    {
     "name": "stderr",
     "output_type": "stream",
     "text": [
      "DEBUG:urllib3.connectionpool:http://images.cocodataset.org:80 \"GET /train2017/000000190995.jpg HTTP/1.1\" 200 109342\n",
      "DEBUG:urllib3.connectionpool:http://images.cocodataset.org:80 \"GET /train2017/000000190998.jpg HTTP/1.1\" 200 134806\n",
      "DEBUG:urllib3.connectionpool:Starting new HTTP connection (1): images.cocodataset.org:80\n"
     ]
    },
    {
     "name": "stdout",
     "output_type": "stream",
     "text": [
      "                                                                                  \r"
     ]
    },
    {
     "name": "stderr",
     "output_type": "stream",
     "text": [
      "DEBUG:urllib3.connectionpool:Starting new HTTP connection (1): images.cocodataset.org:80\n"
     ]
    },
    {
     "name": "stdout",
     "output_type": "stream",
     "text": [
      "  17% |██|-----------| 15679/93578 [42.5m elapsed, 4.8h remaining, 2.0 images/s]  "
     ]
    },
    {
     "name": "stderr",
     "output_type": "stream",
     "text": [
      "DEBUG:urllib3.connectionpool:http://images.cocodataset.org:80 \"GET /train2017/000000191000.jpg HTTP/1.1\" 200 194626\n",
      "DEBUG:urllib3.connectionpool:http://images.cocodataset.org:80 \"GET /train2017/000000191005.jpg HTTP/1.1\" 200 294600\n"
     ]
    },
    {
     "name": "stdout",
     "output_type": "stream",
     "text": [
      "                                                                                  \r"
     ]
    },
    {
     "name": "stderr",
     "output_type": "stream",
     "text": [
      "DEBUG:urllib3.connectionpool:Starting new HTTP connection (1): images.cocodataset.org:80\n"
     ]
    },
    {
     "name": "stdout",
     "output_type": "stream",
     "text": [
      "  17% |██/-----------| 15680/93578 [42.5m elapsed, 4.7h remaining, 2.0 images/s]  "
     ]
    },
    {
     "name": "stderr",
     "output_type": "stream",
     "text": [
      "DEBUG:urllib3.connectionpool:http://images.cocodataset.org:80 \"GET /train2017/000000191007.jpg HTTP/1.1\" 200 105623\n",
      "DEBUG:urllib3.connectionpool:Starting new HTTP connection (1): images.cocodataset.org:80\n"
     ]
    },
    {
     "name": "stdout",
     "output_type": "stream",
     "text": [
      "                                                                                  \r"
     ]
    },
    {
     "name": "stderr",
     "output_type": "stream",
     "text": [
      "DEBUG:urllib3.connectionpool:Starting new HTTP connection (1): images.cocodataset.org:80\n"
     ]
    },
    {
     "name": "stdout",
     "output_type": "stream",
     "text": [
      "  17% |██\\-----------| 15682/93578 [42.5m elapsed, 4.7h remaining, 2.0 images/s]  "
     ]
    },
    {
     "name": "stderr",
     "output_type": "stream",
     "text": [
      "DEBUG:urllib3.connectionpool:http://images.cocodataset.org:80 \"GET /train2017/000000191016.jpg HTTP/1.1\" 200 102261\n"
     ]
    },
    {
     "name": "stdout",
     "output_type": "stream",
     "text": [
      "                                                                                  \r"
     ]
    },
    {
     "name": "stderr",
     "output_type": "stream",
     "text": [
      "DEBUG:urllib3.connectionpool:Starting new HTTP connection (1): images.cocodataset.org:80\n"
     ]
    },
    {
     "name": "stdout",
     "output_type": "stream",
     "text": [
      "  17% |██|-----------| 15683/93578 [42.6m elapsed, 5.0h remaining, 1.7 images/s]  "
     ]
    },
    {
     "name": "stderr",
     "output_type": "stream",
     "text": [
      "DEBUG:urllib3.connectionpool:http://images.cocodataset.org:80 \"GET /train2017/000000191014.jpg HTTP/1.1\" 200 255701\n",
      "DEBUG:urllib3.connectionpool:http://images.cocodataset.org:80 \"GET /train2017/000000191017.jpg HTTP/1.1\" 200 126321\n",
      "DEBUG:urllib3.connectionpool:Starting new HTTP connection (1): images.cocodataset.org:80\n"
     ]
    },
    {
     "name": "stdout",
     "output_type": "stream",
     "text": [
      "  17% |██/-----------| 15684/93578 [42.6m elapsed, 5.0h remaining, 1.8 images/s]  "
     ]
    },
    {
     "name": "stderr",
     "output_type": "stream",
     "text": [
      "DEBUG:urllib3.connectionpool:Starting new HTTP connection (1): images.cocodataset.org:80\n"
     ]
    },
    {
     "name": "stdout",
     "output_type": "stream",
     "text": [
      "  17% |██------------| 15685/93578 [42.6m elapsed, 4.7h remaining, 2.1 images/s]  "
     ]
    },
    {
     "name": "stderr",
     "output_type": "stream",
     "text": [
      "DEBUG:urllib3.connectionpool:http://images.cocodataset.org:80 \"GET /train2017/000000191031.jpg HTTP/1.1\" 200 151444\n",
      "DEBUG:urllib3.connectionpool:http://images.cocodataset.org:80 \"GET /train2017/000000191042.jpg HTTP/1.1\" 200 196571\n",
      "DEBUG:urllib3.connectionpool:Starting new HTTP connection (1): images.cocodataset.org:80\n"
     ]
    },
    {
     "name": "stdout",
     "output_type": "stream",
     "text": [
      "  17% |██\\-----------| 15686/93578 [42.6m elapsed, 4.8h remaining, 1.9 images/s]  "
     ]
    },
    {
     "name": "stderr",
     "output_type": "stream",
     "text": [
      "DEBUG:urllib3.connectionpool:Starting new HTTP connection (1): images.cocodataset.org:80\n"
     ]
    },
    {
     "name": "stdout",
     "output_type": "stream",
     "text": [
      "  17% |██|-----------| 15687/93578 [42.6m elapsed, 4.7h remaining, 2.1 images/s]  "
     ]
    },
    {
     "name": "stderr",
     "output_type": "stream",
     "text": [
      "DEBUG:urllib3.connectionpool:http://images.cocodataset.org:80 \"GET /train2017/000000191047.jpg HTTP/1.1\" 200 260007\n",
      "DEBUG:urllib3.connectionpool:http://images.cocodataset.org:80 \"GET /train2017/000000191050.jpg HTTP/1.1\" 200 230622\n",
      "DEBUG:urllib3.connectionpool:Starting new HTTP connection (1): images.cocodataset.org:80\n"
     ]
    },
    {
     "name": "stdout",
     "output_type": "stream",
     "text": [
      "                                                                                  \r"
     ]
    },
    {
     "name": "stderr",
     "output_type": "stream",
     "text": [
      "DEBUG:urllib3.connectionpool:Starting new HTTP connection (1): images.cocodataset.org:80\n"
     ]
    },
    {
     "name": "stdout",
     "output_type": "stream",
     "text": [
      "  17% |██------------| 15689/93578 [42.6m elapsed, 4.7h remaining, 2.0 images/s]  "
     ]
    },
    {
     "name": "stderr",
     "output_type": "stream",
     "text": [
      "DEBUG:urllib3.connectionpool:http://images.cocodataset.org:80 \"GET /train2017/000000191053.jpg HTTP/1.1\" 200 169568\n",
      "DEBUG:urllib3.connectionpool:http://images.cocodataset.org:80 \"GET /train2017/000000191054.jpg HTTP/1.1\" 200 220467\n"
     ]
    },
    {
     "name": "stdout",
     "output_type": "stream",
     "text": [
      "                                                                                  \r"
     ]
    },
    {
     "name": "stderr",
     "output_type": "stream",
     "text": [
      "DEBUG:urllib3.connectionpool:Starting new HTTP connection (1): images.cocodataset.org:80\n"
     ]
    },
    {
     "name": "stdout",
     "output_type": "stream",
     "text": [
      "  17% |██\\-----------| 15690/93578 [42.6m elapsed, 4.9h remaining, 1.8 images/s]  "
     ]
    },
    {
     "name": "stderr",
     "output_type": "stream",
     "text": [
      "DEBUG:urllib3.connectionpool:http://images.cocodataset.org:80 \"GET /train2017/000000191061.jpg HTTP/1.1\" 200 161144\n"
     ]
    },
    {
     "name": "stdout",
     "output_type": "stream",
     "text": [
      "                                                                                  \r"
     ]
    },
    {
     "name": "stderr",
     "output_type": "stream",
     "text": [
      "DEBUG:urllib3.connectionpool:Starting new HTTP connection (1): images.cocodataset.org:80\n"
     ]
    },
    {
     "name": "stdout",
     "output_type": "stream",
     "text": [
      "  17% |██|-----------| 15691/93578 [42.6m elapsed, 5.1h remaining, 1.7 images/s]  "
     ]
    },
    {
     "name": "stderr",
     "output_type": "stream",
     "text": [
      "DEBUG:urllib3.connectionpool:Starting new HTTP connection (1): images.cocodataset.org:80\n"
     ]
    },
    {
     "name": "stdout",
     "output_type": "stream",
     "text": [
      "  17% |██/-----------| 15692/93578 [42.6m elapsed, 4.8h remaining, 2.0 images/s]  "
     ]
    },
    {
     "name": "stderr",
     "output_type": "stream",
     "text": [
      "DEBUG:urllib3.connectionpool:http://images.cocodataset.org:80 \"GET /train2017/000000191068.jpg HTTP/1.1\" 200 186813\n",
      "DEBUG:urllib3.connectionpool:http://images.cocodataset.org:80 \"GET /train2017/000000191069.jpg HTTP/1.1\" 200 168838\n"
     ]
    },
    {
     "name": "stdout",
     "output_type": "stream",
     "text": [
      "                                                                                  \r"
     ]
    },
    {
     "name": "stderr",
     "output_type": "stream",
     "text": [
      "DEBUG:urllib3.connectionpool:Starting new HTTP connection (1): images.cocodataset.org:80\n"
     ]
    },
    {
     "name": "stdout",
     "output_type": "stream",
     "text": [
      "                                                                                  \r"
     ]
    },
    {
     "name": "stderr",
     "output_type": "stream",
     "text": [
      "DEBUG:urllib3.connectionpool:Starting new HTTP connection (1): images.cocodataset.org:80\n"
     ]
    },
    {
     "name": "stdout",
     "output_type": "stream",
     "text": [
      "  17% |██\\-----------| 15694/93578 [42.6m elapsed, 4.8h remaining, 2.0 images/s]  "
     ]
    },
    {
     "name": "stderr",
     "output_type": "stream",
     "text": [
      "DEBUG:urllib3.connectionpool:http://images.cocodataset.org:80 \"GET /train2017/000000191072.jpg HTTP/1.1\" 200 152609\n",
      "DEBUG:urllib3.connectionpool:http://images.cocodataset.org:80 \"GET /train2017/000000191073.jpg HTTP/1.1\" 200 101152\n",
      "DEBUG:urllib3.connectionpool:Starting new HTTP connection (1): images.cocodataset.org:80\n"
     ]
    },
    {
     "name": "stdout",
     "output_type": "stream",
     "text": [
      "  17% |██|-----------| 15695/93578 [42.7m elapsed, 5.2h remaining, 1.6 images/s]  "
     ]
    },
    {
     "name": "stderr",
     "output_type": "stream",
     "text": [
      "DEBUG:urllib3.connectionpool:http://images.cocodataset.org:80 \"GET /train2017/000000191078.jpg HTTP/1.1\" 200 214365\n"
     ]
    },
    {
     "name": "stdout",
     "output_type": "stream",
     "text": [
      "  17% |██/-----------| 15696/93578 [42.7m elapsed, 5.5h remaining, 1.4 images/s]  "
     ]
    },
    {
     "name": "stderr",
     "output_type": "stream",
     "text": [
      "DEBUG:urllib3.connectionpool:Starting new HTTP connection (1): images.cocodataset.org:80\n",
      "DEBUG:urllib3.connectionpool:Starting new HTTP connection (1): images.cocodataset.org:80\n"
     ]
    },
    {
     "name": "stdout",
     "output_type": "stream",
     "text": [
      "  17% |██------------| 15697/93578 [42.7m elapsed, 5.2h remaining, 1.6 images/s]  "
     ]
    },
    {
     "name": "stderr",
     "output_type": "stream",
     "text": [
      "DEBUG:urllib3.connectionpool:http://images.cocodataset.org:80 \"GET /train2017/000000191093.jpg HTTP/1.1\" 200 293755\n",
      "DEBUG:urllib3.connectionpool:http://images.cocodataset.org:80 \"GET /train2017/000000191095.jpg HTTP/1.1\" 200 76267\n",
      "DEBUG:urllib3.connectionpool:Starting new HTTP connection (1): images.cocodataset.org:80\n"
     ]
    },
    {
     "name": "stdout",
     "output_type": "stream",
     "text": [
      "  17% |██\\-----------| 15698/93578 [42.7m elapsed, 5.4h remaining, 1.5 images/s]  "
     ]
    },
    {
     "name": "stderr",
     "output_type": "stream",
     "text": [
      "DEBUG:urllib3.connectionpool:Starting new HTTP connection (1): images.cocodataset.org:80\n"
     ]
    },
    {
     "name": "stdout",
     "output_type": "stream",
     "text": [
      "  17% |██|-----------| 15699/93578 [42.7m elapsed, 5.1h remaining, 1.6 images/s]  "
     ]
    },
    {
     "name": "stderr",
     "output_type": "stream",
     "text": [
      "DEBUG:urllib3.connectionpool:http://images.cocodataset.org:80 \"GET /train2017/000000191096.jpg HTTP/1.1\" 200 197481\n",
      "DEBUG:urllib3.connectionpool:http://images.cocodataset.org:80 \"GET /train2017/000000191098.jpg HTTP/1.1\" 200 82570\n"
     ]
    },
    {
     "name": "stdout",
     "output_type": "stream",
     "text": [
      "                                                                                  \r"
     ]
    },
    {
     "name": "stderr",
     "output_type": "stream",
     "text": [
      "DEBUG:urllib3.connectionpool:Starting new HTTP connection (1): images.cocodataset.org:80\n"
     ]
    },
    {
     "name": "stdout",
     "output_type": "stream",
     "text": [
      "  17% |██/-----------| 15700/93578 [42.7m elapsed, 5.1h remaining, 1.7 images/s]  "
     ]
    },
    {
     "name": "stderr",
     "output_type": "stream",
     "text": [
      "DEBUG:urllib3.connectionpool:http://images.cocodataset.org:80 \"GET /train2017/000000191101.jpg HTTP/1.1\" 200 196902\n"
     ]
    },
    {
     "name": "stdout",
     "output_type": "stream",
     "text": [
      "                                                                                  \r"
     ]
    },
    {
     "name": "stderr",
     "output_type": "stream",
     "text": [
      "DEBUG:urllib3.connectionpool:Starting new HTTP connection (1): images.cocodataset.org:80\n"
     ]
    },
    {
     "name": "stdout",
     "output_type": "stream",
     "text": [
      "  17% |██------------| 15701/93578 [42.7m elapsed, 5.5h remaining, 1.4 images/s]  "
     ]
    },
    {
     "name": "stderr",
     "output_type": "stream",
     "text": [
      "DEBUG:urllib3.connectionpool:Starting new HTTP connection (1): images.cocodataset.org:80\n",
      "DEBUG:urllib3.connectionpool:http://images.cocodataset.org:80 \"GET /train2017/000000191112.jpg HTTP/1.1\" 200 170617\n",
      "DEBUG:urllib3.connectionpool:http://images.cocodataset.org:80 \"GET /train2017/000000191102.jpg HTTP/1.1\" 200 243204\n",
      "DEBUG:urllib3.connectionpool:Starting new HTTP connection (1): images.cocodataset.org:80\n"
     ]
    },
    {
     "name": "stdout",
     "output_type": "stream",
     "text": [
      "                                                                                  \r"
     ]
    },
    {
     "name": "stderr",
     "output_type": "stream",
     "text": [
      "DEBUG:urllib3.connectionpool:Starting new HTTP connection (1): images.cocodataset.org:80\n"
     ]
    },
    {
     "name": "stdout",
     "output_type": "stream",
     "text": [
      "  17% |██|-----------| 15704/93578 [42.8m elapsed, 5.4h remaining, 1.5 images/s]  "
     ]
    },
    {
     "name": "stderr",
     "output_type": "stream",
     "text": [
      "DEBUG:urllib3.connectionpool:http://images.cocodataset.org:80 \"GET /train2017/000000191117.jpg HTTP/1.1\" 200 139096\n",
      "DEBUG:urllib3.connectionpool:http://images.cocodataset.org:80 \"GET /train2017/000000191120.jpg HTTP/1.1\" 200 244677\n",
      "DEBUG:urllib3.connectionpool:Starting new HTTP connection (1): images.cocodataset.org:80\n"
     ]
    },
    {
     "name": "stdout",
     "output_type": "stream",
     "text": [
      "  17% |██/-----------| 15705/93578 [42.8m elapsed, 5.0h remaining, 1.8 images/s]  "
     ]
    },
    {
     "name": "stderr",
     "output_type": "stream",
     "text": [
      "DEBUG:urllib3.connectionpool:http://images.cocodataset.org:80 \"GET /train2017/000000191122.jpg HTTP/1.1\" 200 99380\n",
      "DEBUG:urllib3.connectionpool:Starting new HTTP connection (1): images.cocodataset.org:80\n"
     ]
    },
    {
     "name": "stdout",
     "output_type": "stream",
     "text": [
      "  17% |██------------| 15706/93578 [42.8m elapsed, 4.9h remaining, 1.9 images/s]  "
     ]
    },
    {
     "name": "stderr",
     "output_type": "stream",
     "text": [
      "DEBUG:urllib3.connectionpool:Starting new HTTP connection (1): images.cocodataset.org:80\n",
      "DEBUG:urllib3.connectionpool:http://images.cocodataset.org:80 \"GET /train2017/000000191126.jpg HTTP/1.1\" 200 94037\n",
      "DEBUG:urllib3.connectionpool:http://images.cocodataset.org:80 \"GET /train2017/000000191136.jpg HTTP/1.1\" 200 79520\n",
      "DEBUG:urllib3.connectionpool:Starting new HTTP connection (1): images.cocodataset.org:80\n"
     ]
    },
    {
     "name": "stdout",
     "output_type": "stream",
     "text": [
      "  17% |██\\-----------| 15708/93578 [42.8m elapsed, 4.9h remaining, 1.9 images/s]  "
     ]
    },
    {
     "name": "stderr",
     "output_type": "stream",
     "text": [
      "DEBUG:urllib3.connectionpool:Starting new HTTP connection (1): images.cocodataset.org:80\n"
     ]
    },
    {
     "name": "stdout",
     "output_type": "stream",
     "text": [
      "  17% |██|-----------| 15709/93578 [42.8m elapsed, 4.8h remaining, 1.9 images/s]  "
     ]
    },
    {
     "name": "stderr",
     "output_type": "stream",
     "text": [
      "DEBUG:urllib3.connectionpool:http://images.cocodataset.org:80 \"GET /train2017/000000191138.jpg HTTP/1.1\" 200 64011\n",
      "DEBUG:urllib3.connectionpool:Starting new HTTP connection (1): images.cocodataset.org:80\n"
     ]
    },
    {
     "name": "stdout",
     "output_type": "stream",
     "text": [
      "  17% |██/-----------| 15710/93578 [42.8m elapsed, 4.9h remaining, 1.9 images/s]  "
     ]
    },
    {
     "name": "stderr",
     "output_type": "stream",
     "text": [
      "DEBUG:urllib3.connectionpool:http://images.cocodataset.org:80 \"GET /train2017/000000191149.jpg HTTP/1.1\" 200 86046\n"
     ]
    },
    {
     "name": "stdout",
     "output_type": "stream",
     "text": [
      "                                                                                  \r"
     ]
    },
    {
     "name": "stderr",
     "output_type": "stream",
     "text": [
      "DEBUG:urllib3.connectionpool:Starting new HTTP connection (1): images.cocodataset.org:80\n"
     ]
    },
    {
     "name": "stdout",
     "output_type": "stream",
     "text": [
      "  17% |██------------| 15711/93578 [42.8m elapsed, 4.8h remaining, 2.0 images/s]  "
     ]
    },
    {
     "name": "stderr",
     "output_type": "stream",
     "text": [
      "DEBUG:urllib3.connectionpool:http://images.cocodataset.org:80 \"GET /train2017/000000191153.jpg HTTP/1.1\" 200 130136\n",
      "DEBUG:urllib3.connectionpool:http://images.cocodataset.org:80 \"GET /train2017/000000191156.jpg HTTP/1.1\" 200 133086\n",
      "DEBUG:urllib3.connectionpool:Starting new HTTP connection (1): images.cocodataset.org:80\n"
     ]
    },
    {
     "name": "stdout",
     "output_type": "stream",
     "text": [
      "  17% |██\\-----------| 15712/93578 [42.8m elapsed, 4.7h remaining, 2.0 images/s]  "
     ]
    },
    {
     "name": "stderr",
     "output_type": "stream",
     "text": [
      "DEBUG:urllib3.connectionpool:http://images.cocodataset.org:80 \"GET /train2017/000000191158.jpg HTTP/1.1\" 200 106957\n",
      "DEBUG:urllib3.connectionpool:Starting new HTTP connection (1): images.cocodataset.org:80\n"
     ]
    },
    {
     "name": "stdout",
     "output_type": "stream",
     "text": [
      "  17% |██|-----------| 15713/93578 [42.8m elapsed, 4.7h remaining, 2.0 images/s]  "
     ]
    },
    {
     "name": "stderr",
     "output_type": "stream",
     "text": [
      "DEBUG:urllib3.connectionpool:Starting new HTTP connection (1): images.cocodataset.org:80\n"
     ]
    },
    {
     "name": "stdout",
     "output_type": "stream",
     "text": [
      "  17% |██/-----------| 15714/93578 [42.8m elapsed, 4.8h remaining, 2.0 images/s]  "
     ]
    },
    {
     "name": "stderr",
     "output_type": "stream",
     "text": [
      "DEBUG:urllib3.connectionpool:http://images.cocodataset.org:80 \"GET /train2017/000000191159.jpg HTTP/1.1\" 200 146274\n",
      "DEBUG:urllib3.connectionpool:http://images.cocodataset.org:80 \"GET /train2017/000000191169.jpg HTTP/1.1\" 200 106303\n",
      "DEBUG:urllib3.connectionpool:Starting new HTTP connection (1): images.cocodataset.org:80\n"
     ]
    },
    {
     "name": "stdout",
     "output_type": "stream",
     "text": [
      "  17% |██------------| 15715/93578 [42.8m elapsed, 4.7h remaining, 2.0 images/s]  "
     ]
    },
    {
     "name": "stderr",
     "output_type": "stream",
     "text": [
      "DEBUG:urllib3.connectionpool:http://images.cocodataset.org:80 \"GET /train2017/000000191173.jpg HTTP/1.1\" 200 136441\n"
     ]
    },
    {
     "name": "stdout",
     "output_type": "stream",
     "text": [
      "                                                                                  \r"
     ]
    },
    {
     "name": "stderr",
     "output_type": "stream",
     "text": [
      "DEBUG:urllib3.connectionpool:Starting new HTTP connection (1): images.cocodataset.org:80\n"
     ]
    },
    {
     "name": "stdout",
     "output_type": "stream",
     "text": [
      "  17% |██\\-----------| 15716/93578 [42.9m elapsed, 4.8h remaining, 2.0 images/s]  "
     ]
    },
    {
     "name": "stderr",
     "output_type": "stream",
     "text": [
      "DEBUG:urllib3.connectionpool:Starting new HTTP connection (1): images.cocodataset.org:80\n"
     ]
    },
    {
     "name": "stdout",
     "output_type": "stream",
     "text": [
      "  17% |██|-----------| 15717/93578 [42.9m elapsed, 4.8h remaining, 2.0 images/s]  "
     ]
    },
    {
     "name": "stderr",
     "output_type": "stream",
     "text": [
      "DEBUG:urllib3.connectionpool:http://images.cocodataset.org:80 \"GET /train2017/000000191174.jpg HTTP/1.1\" 200 170695\n",
      "DEBUG:urllib3.connectionpool:http://images.cocodataset.org:80 \"GET /train2017/000000191175.jpg HTTP/1.1\" 200 201639\n",
      "DEBUG:urllib3.connectionpool:Starting new HTTP connection (1): images.cocodataset.org:80\n"
     ]
    },
    {
     "name": "stdout",
     "output_type": "stream",
     "text": [
      "  17% |██/-----------| 15718/93578 [42.9m elapsed, 4.8h remaining, 1.9 images/s]  "
     ]
    },
    {
     "name": "stderr",
     "output_type": "stream",
     "text": [
      "DEBUG:urllib3.connectionpool:Starting new HTTP connection (1): images.cocodataset.org:80\n"
     ]
    },
    {
     "name": "stdout",
     "output_type": "stream",
     "text": [
      "  17% |██------------| 15719/93578 [42.9m elapsed, 4.8h remaining, 2.0 images/s]  "
     ]
    },
    {
     "name": "stderr",
     "output_type": "stream",
     "text": [
      "DEBUG:urllib3.connectionpool:http://images.cocodataset.org:80 \"GET /train2017/000000191177.jpg HTTP/1.1\" 200 210268\n",
      "DEBUG:urllib3.connectionpool:http://images.cocodataset.org:80 \"GET /train2017/000000191188.jpg HTTP/1.1\" 200 210617\n",
      "DEBUG:urllib3.connectionpool:Starting new HTTP connection (1): images.cocodataset.org:80\n"
     ]
    },
    {
     "name": "stdout",
     "output_type": "stream",
     "text": [
      "  17% |██\\-----------| 15720/93578 [42.9m elapsed, 4.9h remaining, 1.9 images/s]  "
     ]
    },
    {
     "name": "stderr",
     "output_type": "stream",
     "text": [
      "DEBUG:urllib3.connectionpool:http://images.cocodataset.org:80 \"GET /train2017/000000191190.jpg HTTP/1.1\" 200 221237\n",
      "DEBUG:urllib3.connectionpool:Starting new HTTP connection (1): images.cocodataset.org:80\n"
     ]
    },
    {
     "name": "stdout",
     "output_type": "stream",
     "text": [
      "  17% |██|-----------| 15721/93578 [42.9m elapsed, 4.6h remaining, 2.2 images/s]  "
     ]
    },
    {
     "name": "stderr",
     "output_type": "stream",
     "text": [
      "DEBUG:urllib3.connectionpool:http://images.cocodataset.org:80 \"GET /train2017/000000191191.jpg HTTP/1.1\" 200 130146\n",
      "DEBUG:urllib3.connectionpool:Starting new HTTP connection (1): images.cocodataset.org:80\n"
     ]
    },
    {
     "name": "stdout",
     "output_type": "stream",
     "text": [
      "  17% |██/-----------| 15722/93578 [42.9m elapsed, 4.6h remaining, 2.2 images/s]  "
     ]
    },
    {
     "name": "stderr",
     "output_type": "stream",
     "text": [
      "DEBUG:urllib3.connectionpool:Starting new HTTP connection (1): images.cocodataset.org:80\n"
     ]
    },
    {
     "name": "stdout",
     "output_type": "stream",
     "text": [
      "  17% |██------------| 15723/93578 [42.9m elapsed, 4.6h remaining, 2.2 images/s]  "
     ]
    },
    {
     "name": "stderr",
     "output_type": "stream",
     "text": [
      "DEBUG:urllib3.connectionpool:http://images.cocodataset.org:80 \"GET /train2017/000000191193.jpg HTTP/1.1\" 200 215438\n",
      "DEBUG:urllib3.connectionpool:http://images.cocodataset.org:80 \"GET /train2017/000000191197.jpg HTTP/1.1\" 200 113433\n",
      "DEBUG:urllib3.connectionpool:Starting new HTTP connection (1): images.cocodataset.org:80\n"
     ]
    },
    {
     "name": "stdout",
     "output_type": "stream",
     "text": [
      "  17% |██\\-----------| 15724/93578 [42.9m elapsed, 4.7h remaining, 2.1 images/s]  "
     ]
    },
    {
     "name": "stderr",
     "output_type": "stream",
     "text": [
      "DEBUG:urllib3.connectionpool:Starting new HTTP connection (1): images.cocodataset.org:80\n",
      "DEBUG:urllib3.connectionpool:http://images.cocodataset.org:80 \"GET /train2017/000000191203.jpg HTTP/1.1\" 200 174173\n",
      "DEBUG:urllib3.connectionpool:http://images.cocodataset.org:80 \"GET /train2017/000000191205.jpg HTTP/1.1\" 200 208591\n",
      "DEBUG:urllib3.connectionpool:Starting new HTTP connection (1): images.cocodataset.org:80\n"
     ]
    },
    {
     "name": "stdout",
     "output_type": "stream",
     "text": [
      "  17% |██|-----------| 15726/93578 [42.9m elapsed, 4.6h remaining, 2.2 images/s]  "
     ]
    },
    {
     "name": "stderr",
     "output_type": "stream",
     "text": [
      "DEBUG:urllib3.connectionpool:Starting new HTTP connection (1): images.cocodataset.org:80\n",
      "DEBUG:urllib3.connectionpool:http://images.cocodataset.org:80 \"GET /train2017/000000191212.jpg HTTP/1.1\" 200 216952\n",
      "DEBUG:urllib3.connectionpool:http://images.cocodataset.org:80 \"GET /train2017/000000191218.jpg HTTP/1.1\" 200 95528\n"
     ]
    },
    {
     "name": "stdout",
     "output_type": "stream",
     "text": [
      "                                                                                  \r"
     ]
    },
    {
     "name": "stderr",
     "output_type": "stream",
     "text": [
      "DEBUG:urllib3.connectionpool:Starting new HTTP connection (1): images.cocodataset.org:80\n"
     ]
    },
    {
     "name": "stdout",
     "output_type": "stream",
     "text": [
      "  17% |██/-----------| 15728/93578 [42.9m elapsed, 4.6h remaining, 2.1 images/s]  "
     ]
    },
    {
     "name": "stderr",
     "output_type": "stream",
     "text": [
      "DEBUG:urllib3.connectionpool:http://images.cocodataset.org:80 \"GET /train2017/000000191225.jpg HTTP/1.1\" 200 140809\n",
      "DEBUG:urllib3.connectionpool:Starting new HTTP connection (1): images.cocodataset.org:80\n"
     ]
    },
    {
     "name": "stdout",
     "output_type": "stream",
     "text": [
      "  17% |██------------| 15729/93578 [43.0m elapsed, 4.6h remaining, 2.2 images/s]  "
     ]
    },
    {
     "name": "stderr",
     "output_type": "stream",
     "text": [
      "DEBUG:urllib3.connectionpool:Starting new HTTP connection (1): images.cocodataset.org:80\n"
     ]
    },
    {
     "name": "stdout",
     "output_type": "stream",
     "text": [
      "  17% |██\\-----------| 15730/93578 [43.0m elapsed, 4.6h remaining, 2.2 images/s]  "
     ]
    },
    {
     "name": "stderr",
     "output_type": "stream",
     "text": [
      "DEBUG:urllib3.connectionpool:http://images.cocodataset.org:80 \"GET /train2017/000000191226.jpg HTTP/1.1\" 200 244288\n",
      "DEBUG:urllib3.connectionpool:http://images.cocodataset.org:80 \"GET /train2017/000000191228.jpg HTTP/1.1\" 200 101715\n"
     ]
    },
    {
     "name": "stdout",
     "output_type": "stream",
     "text": [
      "                                                                                  \r"
     ]
    },
    {
     "name": "stderr",
     "output_type": "stream",
     "text": [
      "DEBUG:urllib3.connectionpool:Starting new HTTP connection (1): images.cocodataset.org:80\n"
     ]
    },
    {
     "name": "stdout",
     "output_type": "stream",
     "text": [
      "  17% |██|-----------| 15731/93578 [43.0m elapsed, 4.6h remaining, 2.2 images/s]  "
     ]
    },
    {
     "name": "stderr",
     "output_type": "stream",
     "text": [
      "DEBUG:urllib3.connectionpool:Starting new HTTP connection (1): images.cocodataset.org:80\n"
     ]
    },
    {
     "name": "stdout",
     "output_type": "stream",
     "text": [
      "  17% |██/-----------| 15732/93578 [43.0m elapsed, 4.6h remaining, 2.2 images/s]  "
     ]
    },
    {
     "name": "stderr",
     "output_type": "stream",
     "text": [
      "DEBUG:urllib3.connectionpool:http://images.cocodataset.org:80 \"GET /train2017/000000191240.jpg HTTP/1.1\" 200 144554\n"
     ]
    },
    {
     "name": "stdout",
     "output_type": "stream",
     "text": [
      "  17% |██------------| 15733/93578 [43.0m elapsed, 4.7h remaining, 2.1 images/s]  "
     ]
    },
    {
     "name": "stderr",
     "output_type": "stream",
     "text": [
      "DEBUG:urllib3.connectionpool:Starting new HTTP connection (1): images.cocodataset.org:80\n",
      "DEBUG:urllib3.connectionpool:http://images.cocodataset.org:80 \"GET /train2017/000000191230.jpg HTTP/1.1\" 200 177468\n",
      "DEBUG:urllib3.connectionpool:http://images.cocodataset.org:80 \"GET /train2017/000000191242.jpg HTTP/1.1\" 200 262048\n",
      "DEBUG:urllib3.connectionpool:Starting new HTTP connection (1): images.cocodataset.org:80\n"
     ]
    },
    {
     "name": "stdout",
     "output_type": "stream",
     "text": [
      "  17% |██\\-----------| 15734/93578 [43.0m elapsed, 4.8h remaining, 1.9 images/s]  "
     ]
    },
    {
     "name": "stderr",
     "output_type": "stream",
     "text": [
      "DEBUG:urllib3.connectionpool:http://images.cocodataset.org:80 \"GET /train2017/000000191249.jpg HTTP/1.1\" 200 205827\n",
      "DEBUG:urllib3.connectionpool:Starting new HTTP connection (1): images.cocodataset.org:80\n"
     ]
    },
    {
     "name": "stdout",
     "output_type": "stream",
     "text": [
      "  17% |██|-----------| 15735/93578 [43.0m elapsed, 4.9h remaining, 1.9 images/s]  "
     ]
    },
    {
     "name": "stderr",
     "output_type": "stream",
     "text": [
      "DEBUG:urllib3.connectionpool:Starting new HTTP connection (1): images.cocodataset.org:80\n",
      "DEBUG:urllib3.connectionpool:http://images.cocodataset.org:80 \"GET /train2017/000000191251.jpg HTTP/1.1\" 200 174189\n",
      "DEBUG:urllib3.connectionpool:http://images.cocodataset.org:80 \"GET /train2017/000000191261.jpg HTTP/1.1\" 200 104648\n",
      "DEBUG:urllib3.connectionpool:Starting new HTTP connection (1): images.cocodataset.org:80\n"
     ]
    },
    {
     "name": "stdout",
     "output_type": "stream",
     "text": [
      "  17% |██/-----------| 15737/93578 [43.0m elapsed, 4.9h remaining, 1.9 images/s]  "
     ]
    },
    {
     "name": "stderr",
     "output_type": "stream",
     "text": [
      "DEBUG:urllib3.connectionpool:http://images.cocodataset.org:80 \"GET /train2017/000000191262.jpg HTTP/1.1\" 200 149224\n",
      "DEBUG:urllib3.connectionpool:Starting new HTTP connection (1): images.cocodataset.org:80\n"
     ]
    },
    {
     "name": "stdout",
     "output_type": "stream",
     "text": [
      "  17% |██------------| 15738/93578 [43.0m elapsed, 4.8h remaining, 1.9 images/s]  "
     ]
    },
    {
     "name": "stderr",
     "output_type": "stream",
     "text": [
      "DEBUG:urllib3.connectionpool:http://images.cocodataset.org:80 \"GET /train2017/000000191264.jpg HTTP/1.1\" 200 272348\n",
      "DEBUG:urllib3.connectionpool:Starting new HTTP connection (1): images.cocodataset.org:80\n"
     ]
    },
    {
     "name": "stdout",
     "output_type": "stream",
     "text": [
      "  17% |██\\-----------| 15739/93578 [43.0m elapsed, 4.8h remaining, 1.9 images/s]  "
     ]
    },
    {
     "name": "stderr",
     "output_type": "stream",
     "text": [
      "DEBUG:urllib3.connectionpool:http://images.cocodataset.org:80 \"GET /train2017/000000191265.jpg HTTP/1.1\" 200 230483\n"
     ]
    },
    {
     "name": "stdout",
     "output_type": "stream",
     "text": [
      "  17% |██|-----------| 15740/93578 [43.1m elapsed, 4.9h remaining, 1.9 images/s]  "
     ]
    },
    {
     "name": "stderr",
     "output_type": "stream",
     "text": [
      "DEBUG:urllib3.connectionpool:Starting new HTTP connection (1): images.cocodataset.org:80\n",
      "DEBUG:urllib3.connectionpool:http://images.cocodataset.org:80 \"GET /train2017/000000191270.jpg HTTP/1.1\" 200 147389\n"
     ]
    },
    {
     "name": "stdout",
     "output_type": "stream",
     "text": [
      "                                                                                  \r"
     ]
    },
    {
     "name": "stderr",
     "output_type": "stream",
     "text": [
      "DEBUG:urllib3.connectionpool:Starting new HTTP connection (1): images.cocodataset.org:80\n"
     ]
    },
    {
     "name": "stdout",
     "output_type": "stream",
     "text": [
      "  17% |██/-----------| 15741/93578 [43.1m elapsed, 4.9h remaining, 1.9 images/s]  "
     ]
    },
    {
     "name": "stderr",
     "output_type": "stream",
     "text": [
      "DEBUG:urllib3.connectionpool:http://images.cocodataset.org:80 \"GET /train2017/000000191277.jpg HTTP/1.1\" 200 143663\n",
      "DEBUG:urllib3.connectionpool:Starting new HTTP connection (1): images.cocodataset.org:80\n"
     ]
    },
    {
     "name": "stdout",
     "output_type": "stream",
     "text": [
      "  17% |██------------| 15742/93578 [43.1m elapsed, 5.0h remaining, 1.8 images/s]  "
     ]
    },
    {
     "name": "stderr",
     "output_type": "stream",
     "text": [
      "DEBUG:urllib3.connectionpool:http://images.cocodataset.org:80 \"GET /train2017/000000191280.jpg HTTP/1.1\" 200 149312\n",
      "DEBUG:urllib3.connectionpool:Starting new HTTP connection (1): images.cocodataset.org:80\n"
     ]
    },
    {
     "name": "stdout",
     "output_type": "stream",
     "text": [
      "  17% |██\\-----------| 15743/93578 [43.1m elapsed, 5.0h remaining, 1.8 images/s]  "
     ]
    },
    {
     "name": "stderr",
     "output_type": "stream",
     "text": [
      "DEBUG:urllib3.connectionpool:Starting new HTTP connection (1): images.cocodataset.org:80\n",
      "DEBUG:urllib3.connectionpool:http://images.cocodataset.org:80 \"GET /train2017/000000191283.jpg HTTP/1.1\" 200 110477\n",
      "DEBUG:urllib3.connectionpool:http://images.cocodataset.org:80 \"GET /train2017/000000191293.jpg HTTP/1.1\" 200 133779\n",
      "DEBUG:urllib3.connectionpool:Starting new HTTP connection (1): images.cocodataset.org:80\n"
     ]
    },
    {
     "name": "stdout",
     "output_type": "stream",
     "text": [
      "  17% |██|-----------| 15745/93578 [43.1m elapsed, 4.8h remaining, 1.9 images/s]  "
     ]
    },
    {
     "name": "stderr",
     "output_type": "stream",
     "text": [
      "DEBUG:urllib3.connectionpool:Starting new HTTP connection (1): images.cocodataset.org:80\n",
      "DEBUG:urllib3.connectionpool:http://images.cocodataset.org:80 \"GET /train2017/000000191297.jpg HTTP/1.1\" 200 109493\n",
      "DEBUG:urllib3.connectionpool:http://images.cocodataset.org:80 \"GET /train2017/000000191296.jpg HTTP/1.1\" 200 183006\n",
      "DEBUG:urllib3.connectionpool:Starting new HTTP connection (1): images.cocodataset.org:80\n"
     ]
    },
    {
     "name": "stdout",
     "output_type": "stream",
     "text": [
      "  17% |██/-----------| 15747/93578 [43.1m elapsed, 4.7h remaining, 2.1 images/s]  "
     ]
    },
    {
     "name": "stderr",
     "output_type": "stream",
     "text": [
      "DEBUG:urllib3.connectionpool:Starting new HTTP connection (1): images.cocodataset.org:80\n",
      "DEBUG:urllib3.connectionpool:http://images.cocodataset.org:80 \"GET /train2017/000000191298.jpg HTTP/1.1\" 200 316458\n",
      "DEBUG:urllib3.connectionpool:http://images.cocodataset.org:80 \"GET /train2017/000000191300.jpg HTTP/1.1\" 200 146838\n"
     ]
    },
    {
     "name": "stdout",
     "output_type": "stream",
     "text": [
      "  17% |██------------| 15749/93578 [43.1m elapsed, 4.7h remaining, 2.1 images/s]  "
     ]
    },
    {
     "name": "stderr",
     "output_type": "stream",
     "text": [
      "DEBUG:urllib3.connectionpool:Starting new HTTP connection (1): images.cocodataset.org:80\n",
      "DEBUG:urllib3.connectionpool:Starting new HTTP connection (1): images.cocodataset.org:80\n",
      "DEBUG:urllib3.connectionpool:http://images.cocodataset.org:80 \"GET /train2017/000000191304.jpg HTTP/1.1\" 200 113868\n",
      "DEBUG:urllib3.connectionpool:http://images.cocodataset.org:80 \"GET /train2017/000000191301.jpg HTTP/1.1\" 200 159422\n"
     ]
    },
    {
     "name": "stdout",
     "output_type": "stream",
     "text": [
      "                                                                                  \r"
     ]
    },
    {
     "name": "stderr",
     "output_type": "stream",
     "text": [
      "DEBUG:urllib3.connectionpool:Starting new HTTP connection (1): images.cocodataset.org:80\n"
     ]
    },
    {
     "name": "stdout",
     "output_type": "stream",
     "text": [
      "  17% |██\\-----------| 15751/93578 [43.1m elapsed, 4.7h remaining, 2.1 images/s]  "
     ]
    },
    {
     "name": "stderr",
     "output_type": "stream",
     "text": [
      "DEBUG:urllib3.connectionpool:http://images.cocodataset.org:80 \"GET /train2017/000000191305.jpg HTTP/1.1\" 200 283458\n",
      "DEBUG:urllib3.connectionpool:Starting new HTTP connection (1): images.cocodataset.org:80\n"
     ]
    },
    {
     "name": "stdout",
     "output_type": "stream",
     "text": [
      "  17% |██|-----------| 15752/93578 [43.1m elapsed, 4.8h remaining, 2.0 images/s]  "
     ]
    },
    {
     "name": "stderr",
     "output_type": "stream",
     "text": [
      "DEBUG:urllib3.connectionpool:http://images.cocodataset.org:80 \"GET /train2017/000000191310.jpg HTTP/1.1\" 200 95395\n"
     ]
    },
    {
     "name": "stdout",
     "output_type": "stream",
     "text": [
      "  17% |██/-----------| 15753/93578 [43.2m elapsed, 4.7h remaining, 2.1 images/s]  "
     ]
    },
    {
     "name": "stderr",
     "output_type": "stream",
     "text": [
      "DEBUG:urllib3.connectionpool:Starting new HTTP connection (1): images.cocodataset.org:80\n"
     ]
    },
    {
     "name": "stdout",
     "output_type": "stream",
     "text": [
      "                                                                                  \r"
     ]
    },
    {
     "name": "stderr",
     "output_type": "stream",
     "text": [
      "DEBUG:urllib3.connectionpool:Starting new HTTP connection (1): images.cocodataset.org:80\n"
     ]
    },
    {
     "name": "stdout",
     "output_type": "stream",
     "text": [
      "  17% |██------------| 15754/93578 [43.2m elapsed, 4.7h remaining, 2.1 images/s]  "
     ]
    },
    {
     "name": "stderr",
     "output_type": "stream",
     "text": [
      "DEBUG:urllib3.connectionpool:http://images.cocodataset.org:80 \"GET /train2017/000000191314.jpg HTTP/1.1\" 200 121235\n",
      "DEBUG:urllib3.connectionpool:http://images.cocodataset.org:80 \"GET /train2017/000000191320.jpg HTTP/1.1\" 200 173452\n",
      "DEBUG:urllib3.connectionpool:Starting new HTTP connection (1): images.cocodataset.org:80\n"
     ]
    },
    {
     "name": "stdout",
     "output_type": "stream",
     "text": [
      "                                                                                  \r"
     ]
    },
    {
     "name": "stderr",
     "output_type": "stream",
     "text": [
      "DEBUG:urllib3.connectionpool:Starting new HTTP connection (1): images.cocodataset.org:80\n"
     ]
    },
    {
     "name": "stdout",
     "output_type": "stream",
     "text": [
      "  17% |██|-----------| 15756/93578 [43.2m elapsed, 4.5h remaining, 2.4 images/s]  "
     ]
    },
    {
     "name": "stderr",
     "output_type": "stream",
     "text": [
      "DEBUG:urllib3.connectionpool:http://images.cocodataset.org:80 \"GET /train2017/000000191321.jpg HTTP/1.1\" 200 254906\n",
      "DEBUG:urllib3.connectionpool:http://images.cocodataset.org:80 \"GET /train2017/000000191325.jpg HTTP/1.1\" 200 145072\n",
      "DEBUG:urllib3.connectionpool:Starting new HTTP connection (1): images.cocodataset.org:80\n"
     ]
    },
    {
     "name": "stdout",
     "output_type": "stream",
     "text": [
      "  17% |██/-----------| 15757/93578 [43.2m elapsed, 4.7h remaining, 2.1 images/s]  "
     ]
    },
    {
     "name": "stderr",
     "output_type": "stream",
     "text": [
      "DEBUG:urllib3.connectionpool:Starting new HTTP connection (1): images.cocodataset.org:80\n"
     ]
    },
    {
     "name": "stdout",
     "output_type": "stream",
     "text": [
      "  17% |██------------| 15758/93578 [43.2m elapsed, 4.6h remaining, 2.2 images/s]  "
     ]
    },
    {
     "name": "stderr",
     "output_type": "stream",
     "text": [
      "DEBUG:urllib3.connectionpool:http://images.cocodataset.org:80 \"GET /train2017/000000191327.jpg HTTP/1.1\" 200 270499\n",
      "DEBUG:urllib3.connectionpool:http://images.cocodataset.org:80 \"GET /train2017/000000191332.jpg HTTP/1.1\" 200 96244\n",
      "DEBUG:urllib3.connectionpool:Starting new HTTP connection (1): images.cocodataset.org:80\n"
     ]
    },
    {
     "name": "stdout",
     "output_type": "stream",
     "text": [
      "  17% |██\\-----------| 15759/93578 [43.2m elapsed, 4.7h remaining, 2.0 images/s]  "
     ]
    },
    {
     "name": "stderr",
     "output_type": "stream",
     "text": [
      "DEBUG:urllib3.connectionpool:Starting new HTTP connection (1): images.cocodataset.org:80\n"
     ]
    },
    {
     "name": "stdout",
     "output_type": "stream",
     "text": [
      "  17% |██|-----------| 15760/93578 [43.2m elapsed, 4.7h remaining, 2.1 images/s]  "
     ]
    },
    {
     "name": "stderr",
     "output_type": "stream",
     "text": [
      "DEBUG:urllib3.connectionpool:http://images.cocodataset.org:80 \"GET /train2017/000000191334.jpg HTTP/1.1\" 200 184776\n",
      "DEBUG:urllib3.connectionpool:http://images.cocodataset.org:80 \"GET /train2017/000000191338.jpg HTTP/1.1\" 200 102592\n"
     ]
    },
    {
     "name": "stdout",
     "output_type": "stream",
     "text": [
      "  17% |██/-----------| 15761/93578 [43.2m elapsed, 4.7h remaining, 2.1 images/s]  "
     ]
    },
    {
     "name": "stderr",
     "output_type": "stream",
     "text": [
      "DEBUG:urllib3.connectionpool:Starting new HTTP connection (1): images.cocodataset.org:80\n",
      "DEBUG:urllib3.connectionpool:Starting new HTTP connection (1): images.cocodataset.org:80\n"
     ]
    },
    {
     "name": "stdout",
     "output_type": "stream",
     "text": [
      "  17% |██------------| 15762/93578 [43.2m elapsed, 4.7h remaining, 2.1 images/s]  "
     ]
    },
    {
     "name": "stderr",
     "output_type": "stream",
     "text": [
      "DEBUG:urllib3.connectionpool:http://images.cocodataset.org:80 \"GET /train2017/000000191340.jpg HTTP/1.1\" 200 134446\n",
      "DEBUG:urllib3.connectionpool:http://images.cocodataset.org:80 \"GET /train2017/000000191342.jpg HTTP/1.1\" 200 225956\n",
      "DEBUG:urllib3.connectionpool:Starting new HTTP connection (1): images.cocodataset.org:80\n"
     ]
    },
    {
     "name": "stdout",
     "output_type": "stream",
     "text": [
      "  17% |██\\-----------| 15763/93578 [43.2m elapsed, 4.8h remaining, 2.0 images/s]  "
     ]
    },
    {
     "name": "stderr",
     "output_type": "stream",
     "text": [
      "DEBUG:urllib3.connectionpool:http://images.cocodataset.org:80 \"GET /train2017/000000191350.jpg HTTP/1.1\" 200 178293\n",
      "DEBUG:urllib3.connectionpool:Starting new HTTP connection (1): images.cocodataset.org:80\n"
     ]
    },
    {
     "name": "stdout",
     "output_type": "stream",
     "text": [
      "  17% |██|-----------| 15764/93578 [43.3m elapsed, 5.0h remaining, 1.8 images/s]  "
     ]
    },
    {
     "name": "stderr",
     "output_type": "stream",
     "text": [
      "DEBUG:urllib3.connectionpool:http://images.cocodataset.org:80 \"GET /train2017/000000191353.jpg HTTP/1.1\" 200 43736\n"
     ]
    },
    {
     "name": "stdout",
     "output_type": "stream",
     "text": [
      "                                                                                  \r"
     ]
    },
    {
     "name": "stderr",
     "output_type": "stream",
     "text": [
      "DEBUG:urllib3.connectionpool:Starting new HTTP connection (1): images.cocodataset.org:80\n"
     ]
    },
    {
     "name": "stdout",
     "output_type": "stream",
     "text": [
      "  17% |██/-----------| 15765/93578 [43.3m elapsed, 5.1h remaining, 1.7 images/s]  "
     ]
    },
    {
     "name": "stderr",
     "output_type": "stream",
     "text": [
      "DEBUG:urllib3.connectionpool:http://images.cocodataset.org:80 \"GET /train2017/000000191359.jpg HTTP/1.1\" 200 126213\n",
      "DEBUG:urllib3.connectionpool:Starting new HTTP connection (1): images.cocodataset.org:80\n"
     ]
    },
    {
     "name": "stdout",
     "output_type": "stream",
     "text": [
      "  17% |██------------| 15766/93578 [43.3m elapsed, 4.8h remaining, 1.9 images/s]  "
     ]
    },
    {
     "name": "stderr",
     "output_type": "stream",
     "text": [
      "DEBUG:urllib3.connectionpool:http://images.cocodataset.org:80 \"GET /train2017/000000191360.jpg HTTP/1.1\" 200 213382\n",
      "DEBUG:urllib3.connectionpool:Starting new HTTP connection (1): images.cocodataset.org:80\n"
     ]
    },
    {
     "name": "stdout",
     "output_type": "stream",
     "text": [
      "  17% |██\\-----------| 15767/93578 [43.3m elapsed, 4.9h remaining, 1.9 images/s]  "
     ]
    },
    {
     "name": "stderr",
     "output_type": "stream",
     "text": [
      "DEBUG:urllib3.connectionpool:http://images.cocodataset.org:80 \"GET /train2017/000000191363.jpg HTTP/1.1\" 200 166723\n",
      "DEBUG:urllib3.connectionpool:Starting new HTTP connection (1): images.cocodataset.org:80\n"
     ]
    },
    {
     "name": "stdout",
     "output_type": "stream",
     "text": [
      "  17% |██|-----------| 15768/93578 [43.3m elapsed, 4.9h remaining, 1.9 images/s]  "
     ]
    },
    {
     "name": "stderr",
     "output_type": "stream",
     "text": [
      "DEBUG:urllib3.connectionpool:http://images.cocodataset.org:80 \"GET /train2017/000000191376.jpg HTTP/1.1\" 200 135452\n",
      "DEBUG:urllib3.connectionpool:Starting new HTTP connection (1): images.cocodataset.org:80\n"
     ]
    },
    {
     "name": "stdout",
     "output_type": "stream",
     "text": [
      "  17% |██/-----------| 15769/93578 [43.3m elapsed, 4.9h remaining, 1.9 images/s]  "
     ]
    },
    {
     "name": "stderr",
     "output_type": "stream",
     "text": [
      "DEBUG:urllib3.connectionpool:http://images.cocodataset.org:80 \"GET /train2017/000000191381.jpg HTTP/1.1\" 200 95918\n",
      "DEBUG:urllib3.connectionpool:Starting new HTTP connection (1): images.cocodataset.org:80\n"
     ]
    },
    {
     "name": "stdout",
     "output_type": "stream",
     "text": [
      "  17% |██------------| 15770/93578 [43.3m elapsed, 4.9h remaining, 1.9 images/s]  "
     ]
    },
    {
     "name": "stderr",
     "output_type": "stream",
     "text": [
      "DEBUG:urllib3.connectionpool:Starting new HTTP connection (1): images.cocodataset.org:80\n"
     ]
    },
    {
     "name": "stdout",
     "output_type": "stream",
     "text": [
      "  17% |██\\-----------| 15771/93578 [43.3m elapsed, 4.9h remaining, 1.9 images/s]  "
     ]
    },
    {
     "name": "stderr",
     "output_type": "stream",
     "text": [
      "DEBUG:urllib3.connectionpool:http://images.cocodataset.org:80 \"GET /train2017/000000191382.jpg HTTP/1.1\" 200 216176\n",
      "DEBUG:urllib3.connectionpool:http://images.cocodataset.org:80 \"GET /train2017/000000191390.jpg HTTP/1.1\" 200 184005\n",
      "DEBUG:urllib3.connectionpool:Starting new HTTP connection (1): images.cocodataset.org:80\n"
     ]
    },
    {
     "name": "stdout",
     "output_type": "stream",
     "text": [
      "  17% |██/-----------| 15773/93578 [43.3m elapsed, 4.6h remaining, 2.2 images/s]  "
     ]
    },
    {
     "name": "stderr",
     "output_type": "stream",
     "text": [
      "DEBUG:urllib3.connectionpool:Starting new HTTP connection (1): images.cocodataset.org:80\n",
      "DEBUG:urllib3.connectionpool:http://images.cocodataset.org:80 \"GET /train2017/000000191400.jpg HTTP/1.1\" 200 170435\n",
      "DEBUG:urllib3.connectionpool:http://images.cocodataset.org:80 \"GET /train2017/000000191403.jpg HTTP/1.1\" 200 98622\n",
      "DEBUG:urllib3.connectionpool:Starting new HTTP connection (1): images.cocodataset.org:80\n"
     ]
    },
    {
     "name": "stdout",
     "output_type": "stream",
     "text": [
      "  17% |██------------| 15774/93578 [43.3m elapsed, 4.7h remaining, 2.1 images/s]  "
     ]
    },
    {
     "name": "stderr",
     "output_type": "stream",
     "text": [
      "DEBUG:urllib3.connectionpool:Starting new HTTP connection (1): images.cocodataset.org:80\n",
      "DEBUG:urllib3.connectionpool:http://images.cocodataset.org:80 \"GET /train2017/000000191408.jpg HTTP/1.1\" 200 201297\n",
      "DEBUG:urllib3.connectionpool:http://images.cocodataset.org:80 \"GET /train2017/000000191417.jpg HTTP/1.1\" 200 95948\n",
      "DEBUG:urllib3.connectionpool:Starting new HTTP connection (1): images.cocodataset.org:80\n"
     ]
    },
    {
     "name": "stdout",
     "output_type": "stream",
     "text": [
      "  17% |██\\-----------| 15776/93578 [43.3m elapsed, 4.6h remaining, 2.2 images/s]  "
     ]
    },
    {
     "name": "stderr",
     "output_type": "stream",
     "text": [
      "DEBUG:urllib3.connectionpool:http://images.cocodataset.org:80 \"GET /train2017/000000191425.jpg HTTP/1.1\" 200 27000\n",
      "DEBUG:urllib3.connectionpool:Starting new HTTP connection (1): images.cocodataset.org:80\n"
     ]
    },
    {
     "name": "stdout",
     "output_type": "stream",
     "text": [
      "  17% |██|-----------| 15777/93578 [43.4m elapsed, 4.7h remaining, 2.2 images/s]  "
     ]
    },
    {
     "name": "stderr",
     "output_type": "stream",
     "text": [
      "DEBUG:urllib3.connectionpool:http://images.cocodataset.org:80 \"GET /train2017/000000191439.jpg HTTP/1.1\" 200 178234\n"
     ]
    },
    {
     "name": "stdout",
     "output_type": "stream",
     "text": [
      "                                                                                  \r"
     ]
    },
    {
     "name": "stderr",
     "output_type": "stream",
     "text": [
      "DEBUG:urllib3.connectionpool:Starting new HTTP connection (1): images.cocodataset.org:80\n"
     ]
    },
    {
     "name": "stdout",
     "output_type": "stream",
     "text": [
      "  17% |██/-----------| 15778/93578 [43.4m elapsed, 4.8h remaining, 2.0 images/s]  "
     ]
    },
    {
     "name": "stderr",
     "output_type": "stream",
     "text": [
      "DEBUG:urllib3.connectionpool:Starting new HTTP connection (1): images.cocodataset.org:80\n",
      "DEBUG:urllib3.connectionpool:http://images.cocodataset.org:80 \"GET /train2017/000000191444.jpg HTTP/1.1\" 200 212349\n",
      "DEBUG:urllib3.connectionpool:http://images.cocodataset.org:80 \"GET /train2017/000000191456.jpg HTTP/1.1\" 200 78160\n",
      "DEBUG:urllib3.connectionpool:Starting new HTTP connection (1): images.cocodataset.org:80\n"
     ]
    },
    {
     "name": "stdout",
     "output_type": "stream",
     "text": [
      "  17% |██\\-----------| 15781/93578 [43.4m elapsed, 4.6h remaining, 2.3 images/s]  "
     ]
    },
    {
     "name": "stderr",
     "output_type": "stream",
     "text": [
      "DEBUG:urllib3.connectionpool:Starting new HTTP connection (1): images.cocodataset.org:80\n",
      "DEBUG:urllib3.connectionpool:http://images.cocodataset.org:80 \"GET /train2017/000000191457.jpg HTTP/1.1\" 200 132622\n",
      "DEBUG:urllib3.connectionpool:http://images.cocodataset.org:80 \"GET /train2017/000000191464.jpg HTTP/1.1\" 200 212736\n",
      "DEBUG:urllib3.connectionpool:Starting new HTTP connection (1): images.cocodataset.org:80\n"
     ]
    },
    {
     "name": "stdout",
     "output_type": "stream",
     "text": [
      "  17% |██|-----------| 15782/93578 [43.4m elapsed, 4.7h remaining, 2.1 images/s]  "
     ]
    },
    {
     "name": "stderr",
     "output_type": "stream",
     "text": [
      "DEBUG:urllib3.connectionpool:Starting new HTTP connection (1): images.cocodataset.org:80\n"
     ]
    },
    {
     "name": "stdout",
     "output_type": "stream",
     "text": [
      "  17% |██/-----------| 15783/93578 [43.4m elapsed, 4.6h remaining, 2.3 images/s]  "
     ]
    },
    {
     "name": "stderr",
     "output_type": "stream",
     "text": [
      "DEBUG:urllib3.connectionpool:http://images.cocodataset.org:80 \"GET /train2017/000000191468.jpg HTTP/1.1\" 200 121365\n",
      "DEBUG:urllib3.connectionpool:http://images.cocodataset.org:80 \"GET /train2017/000000191473.jpg HTTP/1.1\" 200 128970\n"
     ]
    },
    {
     "name": "stdout",
     "output_type": "stream",
     "text": [
      "                                                                                  \r"
     ]
    },
    {
     "name": "stderr",
     "output_type": "stream",
     "text": [
      "DEBUG:urllib3.connectionpool:Starting new HTTP connection (1): images.cocodataset.org:80\n"
     ]
    },
    {
     "name": "stdout",
     "output_type": "stream",
     "text": [
      "  17% |██------------| 15784/93578 [43.4m elapsed, 4.8h remaining, 1.9 images/s]  "
     ]
    },
    {
     "name": "stderr",
     "output_type": "stream",
     "text": [
      "DEBUG:urllib3.connectionpool:Starting new HTTP connection (1): images.cocodataset.org:80\n"
     ]
    },
    {
     "name": "stdout",
     "output_type": "stream",
     "text": [
      "  17% |██\\-----------| 15785/93578 [43.4m elapsed, 4.7h remaining, 2.1 images/s]  "
     ]
    },
    {
     "name": "stderr",
     "output_type": "stream",
     "text": [
      "DEBUG:urllib3.connectionpool:http://images.cocodataset.org:80 \"GET /train2017/000000191474.jpg HTTP/1.1\" 200 118798\n",
      "DEBUG:urllib3.connectionpool:http://images.cocodataset.org:80 \"GET /train2017/000000191477.jpg HTTP/1.1\" 200 127185\n",
      "DEBUG:urllib3.connectionpool:Starting new HTTP connection (1): images.cocodataset.org:80\n"
     ]
    },
    {
     "name": "stdout",
     "output_type": "stream",
     "text": [
      "  17% |██|-----------| 15786/93578 [43.4m elapsed, 4.8h remaining, 2.0 images/s]  "
     ]
    },
    {
     "name": "stderr",
     "output_type": "stream",
     "text": [
      "DEBUG:urllib3.connectionpool:http://images.cocodataset.org:80 \"GET /train2017/000000191505.jpg HTTP/1.1\" 200 165670\n",
      "DEBUG:urllib3.connectionpool:Starting new HTTP connection (1): images.cocodataset.org:80\n"
     ]
    },
    {
     "name": "stdout",
     "output_type": "stream",
     "text": [
      "  17% |██/-----------| 15787/93578 [43.4m elapsed, 4.9h remaining, 1.9 images/s]  "
     ]
    },
    {
     "name": "stderr",
     "output_type": "stream",
     "text": [
      "DEBUG:urllib3.connectionpool:Starting new HTTP connection (1): images.cocodataset.org:80\n"
     ]
    },
    {
     "name": "stdout",
     "output_type": "stream",
     "text": [
      "  17% |██------------| 15788/93578 [43.4m elapsed, 4.6h remaining, 2.2 images/s]  "
     ]
    },
    {
     "name": "stderr",
     "output_type": "stream",
     "text": [
      "DEBUG:urllib3.connectionpool:http://images.cocodataset.org:80 \"GET /train2017/000000191511.jpg HTTP/1.1\" 200 98702\n",
      "DEBUG:urllib3.connectionpool:http://images.cocodataset.org:80 \"GET /train2017/000000191515.jpg HTTP/1.1\" 200 146488\n"
     ]
    },
    {
     "name": "stdout",
     "output_type": "stream",
     "text": [
      "                                                                                  \r"
     ]
    },
    {
     "name": "stderr",
     "output_type": "stream",
     "text": [
      "DEBUG:urllib3.connectionpool:Starting new HTTP connection (1): images.cocodataset.org:80\n"
     ]
    },
    {
     "name": "stdout",
     "output_type": "stream",
     "text": [
      "                                                                                  \r"
     ]
    },
    {
     "name": "stderr",
     "output_type": "stream",
     "text": [
      "DEBUG:urllib3.connectionpool:Starting new HTTP connection (1): images.cocodataset.org:80\n"
     ]
    },
    {
     "name": "stdout",
     "output_type": "stream",
     "text": [
      "  17% |██|-----------| 15790/93578 [43.5m elapsed, 4.8h remaining, 2.0 images/s]  "
     ]
    },
    {
     "name": "stderr",
     "output_type": "stream",
     "text": [
      "DEBUG:urllib3.connectionpool:http://images.cocodataset.org:80 \"GET /train2017/000000191525.jpg HTTP/1.1\" 200 111674\n",
      "DEBUG:urllib3.connectionpool:http://images.cocodataset.org:80 \"GET /train2017/000000191533.jpg HTTP/1.1\" 200 306270\n"
     ]
    },
    {
     "name": "stdout",
     "output_type": "stream",
     "text": [
      "                                                                                  \r"
     ]
    },
    {
     "name": "stderr",
     "output_type": "stream",
     "text": [
      "DEBUG:urllib3.connectionpool:Starting new HTTP connection (1): images.cocodataset.org:80\n"
     ]
    },
    {
     "name": "stdout",
     "output_type": "stream",
     "text": [
      "  17% |██/-----------| 15791/93578 [43.5m elapsed, 4.8h remaining, 2.0 images/s]  "
     ]
    },
    {
     "name": "stderr",
     "output_type": "stream",
     "text": [
      "DEBUG:urllib3.connectionpool:http://images.cocodataset.org:80 \"GET /train2017/000000191540.jpg HTTP/1.1\" 200 216384\n",
      "DEBUG:urllib3.connectionpool:Starting new HTTP connection (1): images.cocodataset.org:80\n"
     ]
    },
    {
     "name": "stdout",
     "output_type": "stream",
     "text": [
      "  17% |██------------| 15792/93578 [43.5m elapsed, 5.0h remaining, 1.8 images/s]  "
     ]
    },
    {
     "name": "stderr",
     "output_type": "stream",
     "text": [
      "DEBUG:urllib3.connectionpool:Starting new HTTP connection (1): images.cocodataset.org:80\n",
      "DEBUG:urllib3.connectionpool:http://images.cocodataset.org:80 \"GET /train2017/000000191546.jpg HTTP/1.1\" 200 68408\n",
      "DEBUG:urllib3.connectionpool:http://images.cocodataset.org:80 \"GET /train2017/000000191551.jpg HTTP/1.1\" 200 124516\n"
     ]
    },
    {
     "name": "stdout",
     "output_type": "stream",
     "text": [
      "                                                                                  \r"
     ]
    },
    {
     "name": "stderr",
     "output_type": "stream",
     "text": [
      "DEBUG:urllib3.connectionpool:Starting new HTTP connection (1): images.cocodataset.org:80\n"
     ]
    },
    {
     "name": "stdout",
     "output_type": "stream",
     "text": [
      "                                                                                  \r"
     ]
    },
    {
     "name": "stderr",
     "output_type": "stream",
     "text": [
      "DEBUG:urllib3.connectionpool:Starting new HTTP connection (1): images.cocodataset.org:80\n"
     ]
    },
    {
     "name": "stdout",
     "output_type": "stream",
     "text": [
      "  17% |██|-----------| 15795/93578 [43.5m elapsed, 4.6h remaining, 2.2 images/s]  "
     ]
    },
    {
     "name": "stderr",
     "output_type": "stream",
     "text": [
      "DEBUG:urllib3.connectionpool:http://images.cocodataset.org:80 \"GET /train2017/000000191561.jpg HTTP/1.1\" 200 104027\n",
      "DEBUG:urllib3.connectionpool:http://images.cocodataset.org:80 \"GET /train2017/000000191568.jpg HTTP/1.1\" 200 101170\n"
     ]
    },
    {
     "name": "stdout",
     "output_type": "stream",
     "text": [
      "  17% |██/-----------| 15796/93578 [43.5m elapsed, 4.6h remaining, 2.2 images/s]  "
     ]
    },
    {
     "name": "stderr",
     "output_type": "stream",
     "text": [
      "DEBUG:urllib3.connectionpool:Starting new HTTP connection (1): images.cocodataset.org:80\n"
     ]
    },
    {
     "name": "stdout",
     "output_type": "stream",
     "text": [
      "                                                                                  \r"
     ]
    },
    {
     "name": "stderr",
     "output_type": "stream",
     "text": [
      "DEBUG:urllib3.connectionpool:Starting new HTTP connection (1): images.cocodataset.org:80\n"
     ]
    },
    {
     "name": "stdout",
     "output_type": "stream",
     "text": [
      "  17% |██------------| 15797/93578 [43.5m elapsed, 4.5h remaining, 2.4 images/s]  "
     ]
    },
    {
     "name": "stderr",
     "output_type": "stream",
     "text": [
      "DEBUG:urllib3.connectionpool:http://images.cocodataset.org:80 \"GET /train2017/000000191570.jpg HTTP/1.1\" 200 207096\n",
      "DEBUG:urllib3.connectionpool:http://images.cocodataset.org:80 \"GET /train2017/000000191573.jpg HTTP/1.1\" 200 62989\n",
      "DEBUG:urllib3.connectionpool:Starting new HTTP connection (1): images.cocodataset.org:80\n"
     ]
    },
    {
     "name": "stdout",
     "output_type": "stream",
     "text": [
      "  17% |██\\-----------| 15798/93578 [43.5m elapsed, 4.6h remaining, 2.2 images/s]  "
     ]
    },
    {
     "name": "stderr",
     "output_type": "stream",
     "text": [
      "DEBUG:urllib3.connectionpool:Starting new HTTP connection (1): images.cocodataset.org:80\n",
      "DEBUG:urllib3.connectionpool:http://images.cocodataset.org:80 \"GET /train2017/000000191577.jpg HTTP/1.1\" 200 124166\n",
      "DEBUG:urllib3.connectionpool:http://images.cocodataset.org:80 \"GET /train2017/000000191585.jpg HTTP/1.1\" 200 178177\n",
      "DEBUG:urllib3.connectionpool:Starting new HTTP connection (1): images.cocodataset.org:80\n"
     ]
    },
    {
     "name": "stdout",
     "output_type": "stream",
     "text": [
      "                                                                                  \r"
     ]
    },
    {
     "name": "stderr",
     "output_type": "stream",
     "text": [
      "DEBUG:urllib3.connectionpool:Starting new HTTP connection (1): images.cocodataset.org:80\n"
     ]
    },
    {
     "name": "stdout",
     "output_type": "stream",
     "text": [
      "  17% |██/-----------| 15801/93578 [43.5m elapsed, 4.5h remaining, 2.3 images/s]  "
     ]
    },
    {
     "name": "stderr",
     "output_type": "stream",
     "text": [
      "DEBUG:urllib3.connectionpool:http://images.cocodataset.org:80 \"GET /train2017/000000191592.jpg HTTP/1.1\" 200 194851\n",
      "DEBUG:urllib3.connectionpool:http://images.cocodataset.org:80 \"GET /train2017/000000191609.jpg HTTP/1.1\" 200 110555\n",
      "DEBUG:urllib3.connectionpool:Starting new HTTP connection (1): images.cocodataset.org:80\n"
     ]
    },
    {
     "name": "stdout",
     "output_type": "stream",
     "text": [
      "  17% |██------------| 15802/93578 [43.5m elapsed, 4.6h remaining, 2.2 images/s]  "
     ]
    },
    {
     "name": "stderr",
     "output_type": "stream",
     "text": [
      "DEBUG:urllib3.connectionpool:Starting new HTTP connection (1): images.cocodataset.org:80\n",
      "DEBUG:urllib3.connectionpool:http://images.cocodataset.org:80 \"GET /train2017/000000191613.jpg HTTP/1.1\" 200 189888\n",
      "DEBUG:urllib3.connectionpool:http://images.cocodataset.org:80 \"GET /train2017/000000191615.jpg HTTP/1.1\" 200 241422\n"
     ]
    },
    {
     "name": "stdout",
     "output_type": "stream",
     "text": [
      "  17% |██\\-----------| 15804/93578 [43.6m elapsed, 4.5h remaining, 2.4 images/s]  "
     ]
    },
    {
     "name": "stderr",
     "output_type": "stream",
     "text": [
      "DEBUG:urllib3.connectionpool:Starting new HTTP connection (1): images.cocodataset.org:80\n",
      "DEBUG:urllib3.connectionpool:http://images.cocodataset.org:80 \"GET /train2017/000000191616.jpg HTTP/1.1\" 200 126762\n",
      "DEBUG:urllib3.connectionpool:Starting new HTTP connection (1): images.cocodataset.org:80\n"
     ]
    },
    {
     "name": "stdout",
     "output_type": "stream",
     "text": [
      "                                                                                  \r"
     ]
    },
    {
     "name": "stderr",
     "output_type": "stream",
     "text": [
      "DEBUG:urllib3.connectionpool:Starting new HTTP connection (1): images.cocodataset.org:80\n"
     ]
    },
    {
     "name": "stdout",
     "output_type": "stream",
     "text": [
      "  17% |██/-----------| 15806/93578 [43.6m elapsed, 4.7h remaining, 2.1 images/s]  "
     ]
    },
    {
     "name": "stderr",
     "output_type": "stream",
     "text": [
      "DEBUG:urllib3.connectionpool:http://images.cocodataset.org:80 \"GET /train2017/000000191625.jpg HTTP/1.1\" 200 99278\n",
      "DEBUG:urllib3.connectionpool:http://images.cocodataset.org:80 \"GET /train2017/000000191632.jpg HTTP/1.1\" 200 136838\n"
     ]
    },
    {
     "name": "stdout",
     "output_type": "stream",
     "text": [
      "                                                                                  \r"
     ]
    },
    {
     "name": "stderr",
     "output_type": "stream",
     "text": [
      "DEBUG:urllib3.connectionpool:Starting new HTTP connection (1): images.cocodataset.org:80\n"
     ]
    },
    {
     "name": "stdout",
     "output_type": "stream",
     "text": [
      "  17% |██------------| 15807/93578 [43.6m elapsed, 4.7h remaining, 2.1 images/s]  "
     ]
    },
    {
     "name": "stderr",
     "output_type": "stream",
     "text": [
      "DEBUG:urllib3.connectionpool:Starting new HTTP connection (1): images.cocodataset.org:80\n"
     ]
    },
    {
     "name": "stdout",
     "output_type": "stream",
     "text": [
      "  17% |██\\-----------| 15808/93578 [43.6m elapsed, 4.7h remaining, 2.1 images/s]  "
     ]
    },
    {
     "name": "stderr",
     "output_type": "stream",
     "text": [
      "DEBUG:urllib3.connectionpool:http://images.cocodataset.org:80 \"GET /train2017/000000191639.jpg HTTP/1.1\" 200 143010\n",
      "DEBUG:urllib3.connectionpool:http://images.cocodataset.org:80 \"GET /train2017/000000191641.jpg HTTP/1.1\" 200 168155\n"
     ]
    },
    {
     "name": "stdout",
     "output_type": "stream",
     "text": [
      "                                                                                  \r"
     ]
    },
    {
     "name": "stderr",
     "output_type": "stream",
     "text": [
      "DEBUG:urllib3.connectionpool:Starting new HTTP connection (1): images.cocodataset.org:80\n"
     ]
    },
    {
     "name": "stdout",
     "output_type": "stream",
     "text": [
      "                                                                                  \r"
     ]
    },
    {
     "name": "stderr",
     "output_type": "stream",
     "text": [
      "DEBUG:urllib3.connectionpool:Starting new HTTP connection (1): images.cocodataset.org:80\n"
     ]
    },
    {
     "name": "stdout",
     "output_type": "stream",
     "text": [
      "  17% |██/-----------| 15810/93578 [43.6m elapsed, 4.7h remaining, 2.1 images/s]  "
     ]
    },
    {
     "name": "stderr",
     "output_type": "stream",
     "text": [
      "DEBUG:urllib3.connectionpool:http://images.cocodataset.org:80 \"GET /train2017/000000191643.jpg HTTP/1.1\" 200 115820\n",
      "DEBUG:urllib3.connectionpool:http://images.cocodataset.org:80 \"GET /train2017/000000191647.jpg HTTP/1.1\" 200 144399\n",
      "DEBUG:urllib3.connectionpool:Starting new HTTP connection (1): images.cocodataset.org:80\n"
     ]
    },
    {
     "name": "stdout",
     "output_type": "stream",
     "text": [
      "  17% |██------------| 15811/93578 [43.6m elapsed, 4.8h remaining, 2.0 images/s]  "
     ]
    },
    {
     "name": "stderr",
     "output_type": "stream",
     "text": [
      "DEBUG:urllib3.connectionpool:http://images.cocodataset.org:80 \"GET /train2017/000000191648.jpg HTTP/1.1\" 200 178650\n",
      "DEBUG:urllib3.connectionpool:Starting new HTTP connection (1): images.cocodataset.org:80\n"
     ]
    },
    {
     "name": "stdout",
     "output_type": "stream",
     "text": [
      "  17% |██\\-----------| 15812/93578 [43.6m elapsed, 4.6h remaining, 2.2 images/s]  "
     ]
    },
    {
     "name": "stderr",
     "output_type": "stream",
     "text": [
      "DEBUG:urllib3.connectionpool:http://images.cocodataset.org:80 \"GET /train2017/000000191651.jpg HTTP/1.1\" 200 119572\n",
      "DEBUG:urllib3.connectionpool:Starting new HTTP connection (1): images.cocodataset.org:80\n"
     ]
    },
    {
     "name": "stdout",
     "output_type": "stream",
     "text": [
      "  17% |██/-----------| 15814/93578 [43.6m elapsed, 4.4h remaining, 2.6 images/s]  "
     ]
    },
    {
     "name": "stderr",
     "output_type": "stream",
     "text": [
      "DEBUG:urllib3.connectionpool:Starting new HTTP connection (1): images.cocodataset.org:80\n",
      "DEBUG:urllib3.connectionpool:http://images.cocodataset.org:80 \"GET /train2017/000000191666.jpg HTTP/1.1\" 200 77300\n",
      "DEBUG:urllib3.connectionpool:http://images.cocodataset.org:80 \"GET /train2017/000000191667.jpg HTTP/1.1\" 200 128117\n"
     ]
    },
    {
     "name": "stdout",
     "output_type": "stream",
     "text": [
      "                                                                                  \r"
     ]
    },
    {
     "name": "stderr",
     "output_type": "stream",
     "text": [
      "DEBUG:urllib3.connectionpool:Starting new HTTP connection (1): images.cocodataset.org:80\n"
     ]
    },
    {
     "name": "stdout",
     "output_type": "stream",
     "text": [
      "  17% |██------------| 15815/93578 [43.6m elapsed, 4.5h remaining, 2.4 images/s]  "
     ]
    },
    {
     "name": "stderr",
     "output_type": "stream",
     "text": [
      "DEBUG:urllib3.connectionpool:http://images.cocodataset.org:80 \"GET /train2017/000000191669.jpg HTTP/1.1\" 200 138376\n"
     ]
    },
    {
     "name": "stdout",
     "output_type": "stream",
     "text": [
      "                                                                                  \r"
     ]
    },
    {
     "name": "stderr",
     "output_type": "stream",
     "text": [
      "DEBUG:urllib3.connectionpool:Starting new HTTP connection (1): images.cocodataset.org:80\n"
     ]
    },
    {
     "name": "stdout",
     "output_type": "stream",
     "text": [
      "  17% |██\\-----------| 15816/93578 [43.7m elapsed, 4.5h remaining, 2.4 images/s]  "
     ]
    },
    {
     "name": "stderr",
     "output_type": "stream",
     "text": [
      "DEBUG:urllib3.connectionpool:http://images.cocodataset.org:80 \"GET /train2017/000000191675.jpg HTTP/1.1\" 200 192015\n"
     ]
    },
    {
     "name": "stdout",
     "output_type": "stream",
     "text": [
      "                                                                                  \r"
     ]
    },
    {
     "name": "stderr",
     "output_type": "stream",
     "text": [
      "DEBUG:urllib3.connectionpool:Starting new HTTP connection (1): images.cocodataset.org:80\n"
     ]
    },
    {
     "name": "stdout",
     "output_type": "stream",
     "text": [
      "                                                                                  \r"
     ]
    },
    {
     "name": "stderr",
     "output_type": "stream",
     "text": [
      "DEBUG:urllib3.connectionpool:Starting new HTTP connection (1): images.cocodataset.org:80\n"
     ]
    },
    {
     "name": "stdout",
     "output_type": "stream",
     "text": [
      "  17% |██/-----------| 15818/93578 [43.7m elapsed, 4.6h remaining, 2.3 images/s]  "
     ]
    },
    {
     "name": "stderr",
     "output_type": "stream",
     "text": [
      "DEBUG:urllib3.connectionpool:http://images.cocodataset.org:80 \"GET /train2017/000000191681.jpg HTTP/1.1\" 200 97545\n",
      "DEBUG:urllib3.connectionpool:http://images.cocodataset.org:80 \"GET /train2017/000000191685.jpg HTTP/1.1\" 200 75617\n",
      "DEBUG:urllib3.connectionpool:Starting new HTTP connection (1): images.cocodataset.org:80\n"
     ]
    },
    {
     "name": "stdout",
     "output_type": "stream",
     "text": [
      "  17% |██------------| 15819/93578 [43.7m elapsed, 4.6h remaining, 2.2 images/s]  "
     ]
    },
    {
     "name": "stderr",
     "output_type": "stream",
     "text": [
      "DEBUG:urllib3.connectionpool:Starting new HTTP connection (1): images.cocodataset.org:80\n"
     ]
    },
    {
     "name": "stdout",
     "output_type": "stream",
     "text": [
      "  17% |██\\-----------| 15820/93578 [43.7m elapsed, 4.5h remaining, 2.4 images/s]  "
     ]
    },
    {
     "name": "stderr",
     "output_type": "stream",
     "text": [
      "DEBUG:urllib3.connectionpool:http://images.cocodataset.org:80 \"GET /train2017/000000191686.jpg HTTP/1.1\" 200 380140\n",
      "DEBUG:urllib3.connectionpool:http://images.cocodataset.org:80 \"GET /train2017/000000191687.jpg HTTP/1.1\" 200 101712\n"
     ]
    },
    {
     "name": "stdout",
     "output_type": "stream",
     "text": [
      "                                                                                  \r"
     ]
    },
    {
     "name": "stderr",
     "output_type": "stream",
     "text": [
      "DEBUG:urllib3.connectionpool:Starting new HTTP connection (1): images.cocodataset.org:80\n"
     ]
    },
    {
     "name": "stdout",
     "output_type": "stream",
     "text": [
      "  17% |██|-----------| 15821/93578 [43.7m elapsed, 4.7h remaining, 2.2 images/s]  "
     ]
    },
    {
     "name": "stderr",
     "output_type": "stream",
     "text": [
      "DEBUG:urllib3.connectionpool:Starting new HTTP connection (1): images.cocodataset.org:80\n",
      "DEBUG:urllib3.connectionpool:http://images.cocodataset.org:80 \"GET /train2017/000000191689.jpg HTTP/1.1\" 200 247607\n",
      "DEBUG:urllib3.connectionpool:http://images.cocodataset.org:80 \"GET /train2017/000000191690.jpg HTTP/1.1\" 200 93379\n"
     ]
    },
    {
     "name": "stdout",
     "output_type": "stream",
     "text": [
      "                                                                                  \r"
     ]
    },
    {
     "name": "stderr",
     "output_type": "stream",
     "text": [
      "DEBUG:urllib3.connectionpool:Starting new HTTP connection (1): images.cocodataset.org:80\n"
     ]
    },
    {
     "name": "stdout",
     "output_type": "stream",
     "text": [
      "                                                                                  \r"
     ]
    },
    {
     "name": "stderr",
     "output_type": "stream",
     "text": [
      "DEBUG:urllib3.connectionpool:Starting new HTTP connection (1): images.cocodataset.org:80\n"
     ]
    },
    {
     "name": "stdout",
     "output_type": "stream",
     "text": [
      "  17% |██------------| 15824/93578 [43.7m elapsed, 4.6h remaining, 2.3 images/s]  "
     ]
    },
    {
     "name": "stderr",
     "output_type": "stream",
     "text": [
      "DEBUG:urllib3.connectionpool:http://images.cocodataset.org:80 \"GET /train2017/000000191691.jpg HTTP/1.1\" 200 187292\n",
      "DEBUG:urllib3.connectionpool:http://images.cocodataset.org:80 \"GET /train2017/000000191693.jpg HTTP/1.1\" 200 124301\n",
      "DEBUG:urllib3.connectionpool:Starting new HTTP connection (1): images.cocodataset.org:80\n"
     ]
    },
    {
     "name": "stdout",
     "output_type": "stream",
     "text": [
      "                                                                                  \r"
     ]
    },
    {
     "name": "stderr",
     "output_type": "stream",
     "text": [
      "DEBUG:urllib3.connectionpool:Starting new HTTP connection (1): images.cocodataset.org:80\n"
     ]
    },
    {
     "name": "stdout",
     "output_type": "stream",
     "text": [
      "  17% |██|-----------| 15826/93578 [43.7m elapsed, 4.5h remaining, 2.4 images/s]  "
     ]
    },
    {
     "name": "stderr",
     "output_type": "stream",
     "text": [
      "DEBUG:urllib3.connectionpool:http://images.cocodataset.org:80 \"GET /train2017/000000191705.jpg HTTP/1.1\" 200 55862\n",
      "DEBUG:urllib3.connectionpool:http://images.cocodataset.org:80 \"GET /train2017/000000191706.jpg HTTP/1.1\" 200 92862\n",
      "DEBUG:urllib3.connectionpool:Starting new HTTP connection (1): images.cocodataset.org:80\n"
     ]
    },
    {
     "name": "stdout",
     "output_type": "stream",
     "text": [
      "  17% |██/-----------| 15827/93578 [43.7m elapsed, 4.5h remaining, 2.5 images/s]  "
     ]
    },
    {
     "name": "stderr",
     "output_type": "stream",
     "text": [
      "DEBUG:urllib3.connectionpool:Starting new HTTP connection (1): images.cocodataset.org:80\n"
     ]
    },
    {
     "name": "stdout",
     "output_type": "stream",
     "text": [
      "  17% |██------------| 15828/93578 [43.7m elapsed, 4.4h remaining, 2.5 images/s]  "
     ]
    },
    {
     "name": "stderr",
     "output_type": "stream",
     "text": [
      "DEBUG:urllib3.connectionpool:http://images.cocodataset.org:80 \"GET /train2017/000000191716.jpg HTTP/1.1\" 200 117679\n",
      "DEBUG:urllib3.connectionpool:http://images.cocodataset.org:80 \"GET /train2017/000000191717.jpg HTTP/1.1\" 200 179917\n",
      "DEBUG:urllib3.connectionpool:Starting new HTTP connection (1): images.cocodataset.org:80\n"
     ]
    },
    {
     "name": "stdout",
     "output_type": "stream",
     "text": [
      "  17% |██\\-----------| 15829/93578 [43.7m elapsed, 4.5h remaining, 2.4 images/s]  "
     ]
    },
    {
     "name": "stderr",
     "output_type": "stream",
     "text": [
      "DEBUG:urllib3.connectionpool:Starting new HTTP connection (1): images.cocodataset.org:80\n"
     ]
    },
    {
     "name": "stdout",
     "output_type": "stream",
     "text": [
      "  17% |██|-----------| 15830/93578 [43.7m elapsed, 4.5h remaining, 2.4 images/s]  "
     ]
    },
    {
     "name": "stderr",
     "output_type": "stream",
     "text": [
      "DEBUG:urllib3.connectionpool:http://images.cocodataset.org:80 \"GET /train2017/000000191721.jpg HTTP/1.1\" 200 186167\n",
      "DEBUG:urllib3.connectionpool:http://images.cocodataset.org:80 \"GET /train2017/000000191724.jpg HTTP/1.1\" 200 114425\n"
     ]
    },
    {
     "name": "stdout",
     "output_type": "stream",
     "text": [
      "                                                                                  \r"
     ]
    },
    {
     "name": "stderr",
     "output_type": "stream",
     "text": [
      "DEBUG:urllib3.connectionpool:Starting new HTTP connection (1): images.cocodataset.org:80\n"
     ]
    },
    {
     "name": "stdout",
     "output_type": "stream",
     "text": [
      "  17% |██/-----------| 15831/93578 [43.8m elapsed, 4.4h remaining, 2.6 images/s]  "
     ]
    },
    {
     "name": "stderr",
     "output_type": "stream",
     "text": [
      "DEBUG:urllib3.connectionpool:Starting new HTTP connection (1): images.cocodataset.org:80\n"
     ]
    },
    {
     "name": "stdout",
     "output_type": "stream",
     "text": [
      "  17% |██------------| 15832/93578 [43.8m elapsed, 4.4h remaining, 2.6 images/s]  "
     ]
    },
    {
     "name": "stderr",
     "output_type": "stream",
     "text": [
      "DEBUG:urllib3.connectionpool:http://images.cocodataset.org:80 \"GET /train2017/000000191729.jpg HTTP/1.1\" 200 159140\n",
      "DEBUG:urllib3.connectionpool:http://images.cocodataset.org:80 \"GET /train2017/000000191731.jpg HTTP/1.1\" 200 97165\n",
      "DEBUG:urllib3.connectionpool:Starting new HTTP connection (1): images.cocodataset.org:80\n"
     ]
    },
    {
     "name": "stdout",
     "output_type": "stream",
     "text": [
      "  17% |██\\-----------| 15833/93578 [43.8m elapsed, 4.6h remaining, 2.3 images/s]  "
     ]
    },
    {
     "name": "stderr",
     "output_type": "stream",
     "text": [
      "DEBUG:urllib3.connectionpool:Starting new HTTP connection (1): images.cocodataset.org:80\n",
      "DEBUG:urllib3.connectionpool:http://images.cocodataset.org:80 \"GET /train2017/000000191734.jpg HTTP/1.1\" 200 185125\n",
      "DEBUG:urllib3.connectionpool:http://images.cocodataset.org:80 \"GET /train2017/000000191738.jpg HTTP/1.1\" 200 181706\n",
      "DEBUG:urllib3.connectionpool:Starting new HTTP connection (1): images.cocodataset.org:80\n"
     ]
    },
    {
     "name": "stdout",
     "output_type": "stream",
     "text": [
      "  17% |██|-----------| 15835/93578 [43.8m elapsed, 4.5h remaining, 2.4 images/s]  "
     ]
    },
    {
     "name": "stderr",
     "output_type": "stream",
     "text": [
      "DEBUG:urllib3.connectionpool:Starting new HTTP connection (1): images.cocodataset.org:80\n"
     ]
    },
    {
     "name": "stdout",
     "output_type": "stream",
     "text": [
      "  17% |██/-----------| 15836/93578 [43.8m elapsed, 4.6h remaining, 2.3 images/s]  "
     ]
    },
    {
     "name": "stderr",
     "output_type": "stream",
     "text": [
      "DEBUG:urllib3.connectionpool:http://images.cocodataset.org:80 \"GET /train2017/000000191740.jpg HTTP/1.1\" 200 300106\n",
      "DEBUG:urllib3.connectionpool:http://images.cocodataset.org:80 \"GET /train2017/000000191744.jpg HTTP/1.1\" 200 126451\n"
     ]
    },
    {
     "name": "stdout",
     "output_type": "stream",
     "text": [
      "  17% |██------------| 15837/93578 [43.8m elapsed, 4.7h remaining, 2.1 images/s]  "
     ]
    },
    {
     "name": "stderr",
     "output_type": "stream",
     "text": [
      "DEBUG:urllib3.connectionpool:Starting new HTTP connection (1): images.cocodataset.org:80\n",
      "DEBUG:urllib3.connectionpool:Starting new HTTP connection (1): images.cocodataset.org:80\n"
     ]
    },
    {
     "name": "stdout",
     "output_type": "stream",
     "text": [
      "  17% |██\\-----------| 15838/93578 [43.8m elapsed, 4.7h remaining, 2.1 images/s]  "
     ]
    },
    {
     "name": "stderr",
     "output_type": "stream",
     "text": [
      "DEBUG:urllib3.connectionpool:http://images.cocodataset.org:80 \"GET /train2017/000000191758.jpg HTTP/1.1\" 200 214087\n",
      "DEBUG:urllib3.connectionpool:http://images.cocodataset.org:80 \"GET /train2017/000000191770.jpg HTTP/1.1\" 200 71050\n",
      "DEBUG:urllib3.connectionpool:Starting new HTTP connection (1): images.cocodataset.org:80\n"
     ]
    },
    {
     "name": "stdout",
     "output_type": "stream",
     "text": [
      "  17% |██|-----------| 15839/93578 [43.8m elapsed, 4.7h remaining, 2.1 images/s]  "
     ]
    },
    {
     "name": "stderr",
     "output_type": "stream",
     "text": [
      "DEBUG:urllib3.connectionpool:Starting new HTTP connection (1): images.cocodataset.org:80\n",
      "DEBUG:urllib3.connectionpool:http://images.cocodataset.org:80 \"GET /train2017/000000191772.jpg HTTP/1.1\" 200 58628\n",
      "DEBUG:urllib3.connectionpool:http://images.cocodataset.org:80 \"GET /train2017/000000191785.jpg HTTP/1.1\" 200 109302\n",
      "DEBUG:urllib3.connectionpool:Starting new HTTP connection (1): images.cocodataset.org:80\n"
     ]
    },
    {
     "name": "stdout",
     "output_type": "stream",
     "text": [
      "  17% |██/-----------| 15841/93578 [43.8m elapsed, 4.7h remaining, 2.2 images/s]  "
     ]
    },
    {
     "name": "stderr",
     "output_type": "stream",
     "text": [
      "DEBUG:urllib3.connectionpool:Starting new HTTP connection (1): images.cocodataset.org:80\n"
     ]
    },
    {
     "name": "stdout",
     "output_type": "stream",
     "text": [
      "  17% |██------------| 15842/93578 [43.8m elapsed, 4.6h remaining, 2.3 images/s]  "
     ]
    },
    {
     "name": "stderr",
     "output_type": "stream",
     "text": [
      "DEBUG:urllib3.connectionpool:http://images.cocodataset.org:80 \"GET /train2017/000000191802.jpg HTTP/1.1\" 200 165935\n",
      "DEBUG:urllib3.connectionpool:http://images.cocodataset.org:80 \"GET /train2017/000000191803.jpg HTTP/1.1\" 200 95924\n"
     ]
    },
    {
     "name": "stdout",
     "output_type": "stream",
     "text": [
      "                                                                                  \r"
     ]
    },
    {
     "name": "stderr",
     "output_type": "stream",
     "text": [
      "DEBUG:urllib3.connectionpool:Starting new HTTP connection (1): images.cocodataset.org:80\n"
     ]
    },
    {
     "name": "stdout",
     "output_type": "stream",
     "text": [
      "  17% |██\\-----------| 15843/93578 [43.9m elapsed, 4.7h remaining, 2.1 images/s]  "
     ]
    },
    {
     "name": "stderr",
     "output_type": "stream",
     "text": [
      "DEBUG:urllib3.connectionpool:Starting new HTTP connection (1): images.cocodataset.org:80\n",
      "DEBUG:urllib3.connectionpool:http://images.cocodataset.org:80 \"GET /train2017/000000191805.jpg HTTP/1.1\" 200 135994\n",
      "DEBUG:urllib3.connectionpool:http://images.cocodataset.org:80 \"GET /train2017/000000191806.jpg HTTP/1.1\" 200 140787\n",
      "DEBUG:urllib3.connectionpool:Starting new HTTP connection (1): images.cocodataset.org:80\n"
     ]
    },
    {
     "name": "stdout",
     "output_type": "stream",
     "text": [
      "  17% |██|-----------| 15845/93578 [43.9m elapsed, 4.7h remaining, 2.2 images/s]  "
     ]
    },
    {
     "name": "stderr",
     "output_type": "stream",
     "text": [
      "DEBUG:urllib3.connectionpool:Starting new HTTP connection (1): images.cocodataset.org:80\n",
      "DEBUG:urllib3.connectionpool:http://images.cocodataset.org:80 \"GET /train2017/000000191812.jpg HTTP/1.1\" 200 177321\n",
      "DEBUG:urllib3.connectionpool:http://images.cocodataset.org:80 \"GET /train2017/000000191828.jpg HTTP/1.1\" 200 94167\n",
      "DEBUG:urllib3.connectionpool:Starting new HTTP connection (1): images.cocodataset.org:80\n"
     ]
    },
    {
     "name": "stdout",
     "output_type": "stream",
     "text": [
      "  17% |██/-----------| 15847/93578 [43.9m elapsed, 4.6h remaining, 2.3 images/s]  "
     ]
    },
    {
     "name": "stderr",
     "output_type": "stream",
     "text": [
      "DEBUG:urllib3.connectionpool:Starting new HTTP connection (1): images.cocodataset.org:80\n"
     ]
    },
    {
     "name": "stdout",
     "output_type": "stream",
     "text": [
      "  17% |██------------| 15848/93578 [43.9m elapsed, 4.5h remaining, 2.3 images/s]  "
     ]
    },
    {
     "name": "stderr",
     "output_type": "stream",
     "text": [
      "DEBUG:urllib3.connectionpool:http://images.cocodataset.org:80 \"GET /train2017/000000191836.jpg HTTP/1.1\" 200 142259\n",
      "DEBUG:urllib3.connectionpool:http://images.cocodataset.org:80 \"GET /train2017/000000191842.jpg HTTP/1.1\" 200 79728\n",
      "DEBUG:urllib3.connectionpool:Starting new HTTP connection (1): images.cocodataset.org:80\n"
     ]
    },
    {
     "name": "stdout",
     "output_type": "stream",
     "text": [
      "  17% |██\\-----------| 15849/93578 [43.9m elapsed, 4.5h remaining, 2.4 images/s]  "
     ]
    },
    {
     "name": "stderr",
     "output_type": "stream",
     "text": [
      "DEBUG:urllib3.connectionpool:http://images.cocodataset.org:80 \"GET /train2017/000000191846.jpg HTTP/1.1\" 200 172458\n",
      "DEBUG:urllib3.connectionpool:Starting new HTTP connection (1): images.cocodataset.org:80\n"
     ]
    },
    {
     "name": "stdout",
     "output_type": "stream",
     "text": [
      "  17% |██|-----------| 15850/93578 [43.9m elapsed, 4.6h remaining, 2.2 images/s]  "
     ]
    },
    {
     "name": "stderr",
     "output_type": "stream",
     "text": [
      "DEBUG:urllib3.connectionpool:Starting new HTTP connection (1): images.cocodataset.org:80\n",
      "DEBUG:urllib3.connectionpool:http://images.cocodataset.org:80 \"GET /train2017/000000191847.jpg HTTP/1.1\" 200 175238\n",
      "DEBUG:urllib3.connectionpool:http://images.cocodataset.org:80 \"GET /train2017/000000191850.jpg HTTP/1.1\" 200 228474\n",
      "DEBUG:urllib3.connectionpool:Starting new HTTP connection (1): images.cocodataset.org:80\n"
     ]
    },
    {
     "name": "stdout",
     "output_type": "stream",
     "text": [
      "  17% |██/-----------| 15852/93578 [43.9m elapsed, 4.9h remaining, 1.9 images/s]  "
     ]
    },
    {
     "name": "stderr",
     "output_type": "stream",
     "text": [
      "DEBUG:urllib3.connectionpool:http://images.cocodataset.org:80 \"GET /train2017/000000191854.jpg HTTP/1.1\" 200 132381\n",
      "DEBUG:urllib3.connectionpool:Starting new HTTP connection (1): images.cocodataset.org:80\n"
     ]
    },
    {
     "name": "stdout",
     "output_type": "stream",
     "text": [
      "  17% |██------------| 15853/93578 [44.0m elapsed, 5.2h remaining, 1.7 images/s]  "
     ]
    },
    {
     "name": "stderr",
     "output_type": "stream",
     "text": [
      "DEBUG:urllib3.connectionpool:Starting new HTTP connection (1): images.cocodataset.org:80\n",
      "DEBUG:urllib3.connectionpool:http://images.cocodataset.org:80 \"GET /train2017/000000191856.jpg HTTP/1.1\" 200 139038\n",
      "DEBUG:urllib3.connectionpool:http://images.cocodataset.org:80 \"GET /train2017/000000191858.jpg HTTP/1.1\" 200 30067\n"
     ]
    },
    {
     "name": "stdout",
     "output_type": "stream",
     "text": [
      "                                                                                  \r"
     ]
    },
    {
     "name": "stderr",
     "output_type": "stream",
     "text": [
      "DEBUG:urllib3.connectionpool:Starting new HTTP connection (1): images.cocodataset.org:80\n"
     ]
    },
    {
     "name": "stdout",
     "output_type": "stream",
     "text": [
      "  17% |██\\-----------| 15855/93578 [44.0m elapsed, 5.1h remaining, 1.8 images/s]  "
     ]
    },
    {
     "name": "stderr",
     "output_type": "stream",
     "text": [
      "DEBUG:urllib3.connectionpool:Starting new HTTP connection (1): images.cocodataset.org:80\n"
     ]
    },
    {
     "name": "stdout",
     "output_type": "stream",
     "text": [
      "  17% |██|-----------| 15856/93578 [44.0m elapsed, 4.9h remaining, 1.9 images/s]  "
     ]
    },
    {
     "name": "stderr",
     "output_type": "stream",
     "text": [
      "DEBUG:urllib3.connectionpool:http://images.cocodataset.org:80 \"GET /train2017/000000191869.jpg HTTP/1.1\" 200 166785\n",
      "DEBUG:urllib3.connectionpool:http://images.cocodataset.org:80 \"GET /train2017/000000191873.jpg HTTP/1.1\" 200 328593\n"
     ]
    },
    {
     "name": "stdout",
     "output_type": "stream",
     "text": [
      "                                                                                  \r"
     ]
    },
    {
     "name": "stderr",
     "output_type": "stream",
     "text": [
      "DEBUG:urllib3.connectionpool:Starting new HTTP connection (1): images.cocodataset.org:80\n"
     ]
    },
    {
     "name": "stdout",
     "output_type": "stream",
     "text": [
      "  17% |██/-----------| 15857/93578 [44.0m elapsed, 5.0h remaining, 1.8 images/s]  "
     ]
    },
    {
     "name": "stderr",
     "output_type": "stream",
     "text": [
      "DEBUG:urllib3.connectionpool:http://images.cocodataset.org:80 \"GET /train2017/000000191874.jpg HTTP/1.1\" 200 115552\n",
      "DEBUG:urllib3.connectionpool:Starting new HTTP connection (1): images.cocodataset.org:80\n"
     ]
    },
    {
     "name": "stdout",
     "output_type": "stream",
     "text": [
      "                                                                                  \r"
     ]
    },
    {
     "name": "stderr",
     "output_type": "stream",
     "text": [
      "DEBUG:urllib3.connectionpool:Starting new HTTP connection (1): images.cocodataset.org:80\n"
     ]
    },
    {
     "name": "stdout",
     "output_type": "stream",
     "text": [
      "  17% |██\\-----------| 15859/93578 [44.0m elapsed, 5.1h remaining, 1.7 images/s]  "
     ]
    },
    {
     "name": "stderr",
     "output_type": "stream",
     "text": [
      "DEBUG:urllib3.connectionpool:http://images.cocodataset.org:80 \"GET /train2017/000000191879.jpg HTTP/1.1\" 200 141301\n",
      "DEBUG:urllib3.connectionpool:http://images.cocodataset.org:80 \"GET /train2017/000000191881.jpg HTTP/1.1\" 200 171156\n",
      "DEBUG:urllib3.connectionpool:Starting new HTTP connection (1): images.cocodataset.org:80\n"
     ]
    },
    {
     "name": "stdout",
     "output_type": "stream",
     "text": [
      "                                                                                  \r"
     ]
    },
    {
     "name": "stderr",
     "output_type": "stream",
     "text": [
      "DEBUG:urllib3.connectionpool:Starting new HTTP connection (1): images.cocodataset.org:80\n"
     ]
    },
    {
     "name": "stdout",
     "output_type": "stream",
     "text": [
      "  17% |██/-----------| 15861/93578 [44.0m elapsed, 4.9h remaining, 1.9 images/s]  "
     ]
    },
    {
     "name": "stderr",
     "output_type": "stream",
     "text": [
      "DEBUG:urllib3.connectionpool:http://images.cocodataset.org:80 \"GET /train2017/000000191893.jpg HTTP/1.1\" 200 210259\n",
      "DEBUG:urllib3.connectionpool:http://images.cocodataset.org:80 \"GET /train2017/000000191900.jpg HTTP/1.1\" 200 158662\n",
      "DEBUG:urllib3.connectionpool:Starting new HTTP connection (1): images.cocodataset.org:80\n"
     ]
    },
    {
     "name": "stdout",
     "output_type": "stream",
     "text": [
      "  17% |██------------| 15862/93578 [44.0m elapsed, 4.8h remaining, 2.0 images/s]  "
     ]
    },
    {
     "name": "stderr",
     "output_type": "stream",
     "text": [
      "DEBUG:urllib3.connectionpool:Starting new HTTP connection (1): images.cocodataset.org:80\n",
      "DEBUG:urllib3.connectionpool:http://images.cocodataset.org:80 \"GET /train2017/000000191913.jpg HTTP/1.1\" 200 129172\n",
      "DEBUG:urllib3.connectionpool:http://images.cocodataset.org:80 \"GET /train2017/000000191912.jpg HTTP/1.1\" 200 118439\n",
      "DEBUG:urllib3.connectionpool:Starting new HTTP connection (1): images.cocodataset.org:80\n"
     ]
    },
    {
     "name": "stdout",
     "output_type": "stream",
     "text": [
      "  17% |██\\-----------| 15864/93578 [44.0m elapsed, 4.6h remaining, 2.3 images/s]  "
     ]
    },
    {
     "name": "stderr",
     "output_type": "stream",
     "text": [
      "DEBUG:urllib3.connectionpool:Starting new HTTP connection (1): images.cocodataset.org:80\n",
      "DEBUG:urllib3.connectionpool:http://images.cocodataset.org:80 \"GET /train2017/000000191919.jpg HTTP/1.1\" 200 237919\n",
      "DEBUG:urllib3.connectionpool:http://images.cocodataset.org:80 \"GET /train2017/000000191918.jpg HTTP/1.1\" 200 200857\n",
      "DEBUG:urllib3.connectionpool:Starting new HTTP connection (1): images.cocodataset.org:80\n"
     ]
    },
    {
     "name": "stdout",
     "output_type": "stream",
     "text": [
      "  17% |██|-----------| 15866/93578 [44.1m elapsed, 4.9h remaining, 1.9 images/s]  "
     ]
    },
    {
     "name": "stderr",
     "output_type": "stream",
     "text": [
      "DEBUG:urllib3.connectionpool:http://images.cocodataset.org:80 \"GET /train2017/000000191925.jpg HTTP/1.1\" 200 212456\n"
     ]
    },
    {
     "name": "stdout",
     "output_type": "stream",
     "text": [
      "                                                                                  \r"
     ]
    },
    {
     "name": "stderr",
     "output_type": "stream",
     "text": [
      "DEBUG:urllib3.connectionpool:Starting new HTTP connection (1): images.cocodataset.org:80\n"
     ]
    },
    {
     "name": "stdout",
     "output_type": "stream",
     "text": [
      "  17% |██/-----------| 15867/93578 [44.1m elapsed, 5.1h remaining, 1.7 images/s]  "
     ]
    },
    {
     "name": "stderr",
     "output_type": "stream",
     "text": [
      "DEBUG:urllib3.connectionpool:http://images.cocodataset.org:80 \"GET /train2017/000000191931.jpg HTTP/1.1\" 200 156712\n"
     ]
    },
    {
     "name": "stdout",
     "output_type": "stream",
     "text": [
      "  17% |██------------| 15868/93578 [44.1m elapsed, 5.2h remaining, 1.7 images/s]  "
     ]
    },
    {
     "name": "stderr",
     "output_type": "stream",
     "text": [
      "DEBUG:urllib3.connectionpool:Starting new HTTP connection (1): images.cocodataset.org:80\n",
      "DEBUG:urllib3.connectionpool:Starting new HTTP connection (1): images.cocodataset.org:80\n",
      "DEBUG:urllib3.connectionpool:http://images.cocodataset.org:80 \"GET /train2017/000000191945.jpg HTTP/1.1\" 200 192745\n",
      "DEBUG:urllib3.connectionpool:http://images.cocodataset.org:80 \"GET /train2017/000000191947.jpg HTTP/1.1\" 200 156068\n",
      "DEBUG:urllib3.connectionpool:Starting new HTTP connection (1): images.cocodataset.org:80\n"
     ]
    },
    {
     "name": "stdout",
     "output_type": "stream",
     "text": [
      "                                                                                  \r"
     ]
    },
    {
     "name": "stderr",
     "output_type": "stream",
     "text": [
      "DEBUG:urllib3.connectionpool:Starting new HTTP connection (1): images.cocodataset.org:80\n"
     ]
    },
    {
     "name": "stdout",
     "output_type": "stream",
     "text": [
      "  17% |██|-----------| 15871/93578 [44.1m elapsed, 5.3h remaining, 1.6 images/s]  "
     ]
    },
    {
     "name": "stderr",
     "output_type": "stream",
     "text": [
      "DEBUG:urllib3.connectionpool:http://images.cocodataset.org:80 \"GET /train2017/000000191949.jpg HTTP/1.1\" 200 196252\n",
      "DEBUG:urllib3.connectionpool:http://images.cocodataset.org:80 \"GET /train2017/000000191957.jpg HTTP/1.1\" 200 210528\n",
      "DEBUG:urllib3.connectionpool:Starting new HTTP connection (1): images.cocodataset.org:80\n"
     ]
    },
    {
     "name": "stdout",
     "output_type": "stream",
     "text": [
      "  17% |██/-----------| 15872/93578 [44.1m elapsed, 5.5h remaining, 1.5 images/s]  "
     ]
    },
    {
     "name": "stderr",
     "output_type": "stream",
     "text": [
      "DEBUG:urllib3.connectionpool:http://images.cocodataset.org:80 \"GET /train2017/000000191961.jpg HTTP/1.1\" 200 209652\n"
     ]
    },
    {
     "name": "stdout",
     "output_type": "stream",
     "text": [
      "                                                                                  \r"
     ]
    },
    {
     "name": "stderr",
     "output_type": "stream",
     "text": [
      "DEBUG:urllib3.connectionpool:Starting new HTTP connection (1): images.cocodataset.org:80\n"
     ]
    },
    {
     "name": "stdout",
     "output_type": "stream",
     "text": [
      "  17% |██------------| 15873/93578 [44.2m elapsed, 5.7h remaining, 1.4 images/s]  "
     ]
    },
    {
     "name": "stderr",
     "output_type": "stream",
     "text": [
      "DEBUG:urllib3.connectionpool:http://images.cocodataset.org:80 \"GET /train2017/000000191962.jpg HTTP/1.1\" 200 161358\n"
     ]
    },
    {
     "name": "stdout",
     "output_type": "stream",
     "text": [
      "                                                                                  \r"
     ]
    },
    {
     "name": "stderr",
     "output_type": "stream",
     "text": [
      "DEBUG:urllib3.connectionpool:Starting new HTTP connection (1): images.cocodataset.org:80\n"
     ]
    },
    {
     "name": "stdout",
     "output_type": "stream",
     "text": [
      "  17% |██\\-----------| 15874/93578 [44.2m elapsed, 5.7h remaining, 1.3 images/s]  "
     ]
    },
    {
     "name": "stderr",
     "output_type": "stream",
     "text": [
      "DEBUG:urllib3.connectionpool:Starting new HTTP connection (1): images.cocodataset.org:80\n",
      "DEBUG:urllib3.connectionpool:http://images.cocodataset.org:80 \"GET /train2017/000000191964.jpg HTTP/1.1\" 200 40144\n",
      "DEBUG:urllib3.connectionpool:http://images.cocodataset.org:80 \"GET /train2017/000000191972.jpg HTTP/1.1\" 200 351844\n"
     ]
    },
    {
     "name": "stdout",
     "output_type": "stream",
     "text": [
      "                                                                                  \r"
     ]
    },
    {
     "name": "stderr",
     "output_type": "stream",
     "text": [
      "DEBUG:urllib3.connectionpool:Starting new HTTP connection (1): images.cocodataset.org:80\n"
     ]
    },
    {
     "name": "stdout",
     "output_type": "stream",
     "text": [
      "  17% |██|-----------| 15876/93578 [44.2m elapsed, 5.7h remaining, 1.4 images/s]  "
     ]
    },
    {
     "name": "stderr",
     "output_type": "stream",
     "text": [
      "DEBUG:urllib3.connectionpool:http://images.cocodataset.org:80 \"GET /train2017/000000191978.jpg HTTP/1.1\" 200 134148\n",
      "DEBUG:urllib3.connectionpool:Starting new HTTP connection (1): images.cocodataset.org:80\n"
     ]
    },
    {
     "name": "stdout",
     "output_type": "stream",
     "text": [
      "                                                                                  \r"
     ]
    },
    {
     "name": "stderr",
     "output_type": "stream",
     "text": [
      "DEBUG:urllib3.connectionpool:Starting new HTTP connection (1): images.cocodataset.org:80\n"
     ]
    },
    {
     "name": "stdout",
     "output_type": "stream",
     "text": [
      "  17% |██------------| 15878/93578 [44.2m elapsed, 5.3h remaining, 1.6 images/s]  "
     ]
    },
    {
     "name": "stderr",
     "output_type": "stream",
     "text": [
      "DEBUG:urllib3.connectionpool:http://images.cocodataset.org:80 \"GET /train2017/000000191981.jpg HTTP/1.1\" 200 85301\n",
      "DEBUG:urllib3.connectionpool:http://images.cocodataset.org:80 \"GET /train2017/000000191984.jpg HTTP/1.1\" 200 80475\n"
     ]
    },
    {
     "name": "stdout",
     "output_type": "stream",
     "text": [
      "                                                                                  \r"
     ]
    },
    {
     "name": "stderr",
     "output_type": "stream",
     "text": [
      "DEBUG:urllib3.connectionpool:Starting new HTTP connection (1): images.cocodataset.org:80\n"
     ]
    },
    {
     "name": "stdout",
     "output_type": "stream",
     "text": [
      "  17% |██\\-----------| 15879/93578 [44.2m elapsed, 5.3h remaining, 1.6 images/s]  "
     ]
    },
    {
     "name": "stderr",
     "output_type": "stream",
     "text": [
      "DEBUG:urllib3.connectionpool:Starting new HTTP connection (1): images.cocodataset.org:80\n"
     ]
    },
    {
     "name": "stdout",
     "output_type": "stream",
     "text": [
      "  17% |██|-----------| 15880/93578 [44.2m elapsed, 4.9h remaining, 1.9 images/s]  "
     ]
    },
    {
     "name": "stderr",
     "output_type": "stream",
     "text": [
      "DEBUG:urllib3.connectionpool:http://images.cocodataset.org:80 \"GET /train2017/000000191990.jpg HTTP/1.1\" 200 246472\n",
      "DEBUG:urllib3.connectionpool:http://images.cocodataset.org:80 \"GET /train2017/000000191994.jpg HTTP/1.1\" 200 137269\n",
      "DEBUG:urllib3.connectionpool:Starting new HTTP connection (1): images.cocodataset.org:80\n"
     ]
    },
    {
     "name": "stdout",
     "output_type": "stream",
     "text": [
      "  17% |██/-----------| 15881/93578 [44.2m elapsed, 5.2h remaining, 1.7 images/s]  "
     ]
    },
    {
     "name": "stderr",
     "output_type": "stream",
     "text": [
      "DEBUG:urllib3.connectionpool:Starting new HTTP connection (1): images.cocodataset.org:80\n",
      "DEBUG:urllib3.connectionpool:http://images.cocodataset.org:80 \"GET /train2017/000000191995.jpg HTTP/1.1\" 200 188830\n",
      "DEBUG:urllib3.connectionpool:http://images.cocodataset.org:80 \"GET /train2017/000000191997.jpg HTTP/1.1\" 200 138893\n",
      "DEBUG:urllib3.connectionpool:Starting new HTTP connection (1): images.cocodataset.org:80\n"
     ]
    },
    {
     "name": "stdout",
     "output_type": "stream",
     "text": [
      "  17% |██------------| 15883/93578 [44.2m elapsed, 4.9h remaining, 2.0 images/s]  "
     ]
    },
    {
     "name": "stderr",
     "output_type": "stream",
     "text": [
      "DEBUG:urllib3.connectionpool:Starting new HTTP connection (1): images.cocodataset.org:80\n",
      "DEBUG:urllib3.connectionpool:http://images.cocodataset.org:80 \"GET /train2017/000000192007.jpg HTTP/1.1\" 200 204755\n",
      "DEBUG:urllib3.connectionpool:http://images.cocodataset.org:80 \"GET /train2017/000000192001.jpg HTTP/1.1\" 200 231207\n"
     ]
    },
    {
     "name": "stdout",
     "output_type": "stream",
     "text": [
      "                                                                                  \r"
     ]
    },
    {
     "name": "stderr",
     "output_type": "stream",
     "text": [
      "DEBUG:urllib3.connectionpool:Starting new HTTP connection (1): images.cocodataset.org:80\n"
     ]
    },
    {
     "name": "stdout",
     "output_type": "stream",
     "text": [
      "  17% |██|-----------| 15886/93578 [44.2m elapsed, 4.4h remaining, 2.5 images/s]  "
     ]
    },
    {
     "name": "stderr",
     "output_type": "stream",
     "text": [
      "DEBUG:urllib3.connectionpool:Starting new HTTP connection (1): images.cocodataset.org:80\n",
      "DEBUG:urllib3.connectionpool:http://images.cocodataset.org:80 \"GET /train2017/000000192009.jpg HTTP/1.1\" 200 114887\n",
      "DEBUG:urllib3.connectionpool:http://images.cocodataset.org:80 \"GET /train2017/000000192023.jpg HTTP/1.1\" 200 131863\n"
     ]
    },
    {
     "name": "stdout",
     "output_type": "stream",
     "text": [
      "                                                                                  \r"
     ]
    },
    {
     "name": "stderr",
     "output_type": "stream",
     "text": [
      "DEBUG:urllib3.connectionpool:Starting new HTTP connection (1): images.cocodataset.org:80\n"
     ]
    },
    {
     "name": "stdout",
     "output_type": "stream",
     "text": [
      "  17% |██/-----------| 15887/93578 [44.3m elapsed, 4.6h remaining, 2.3 images/s]  "
     ]
    },
    {
     "name": "stderr",
     "output_type": "stream",
     "text": [
      "DEBUG:urllib3.connectionpool:Starting new HTTP connection (1): images.cocodataset.org:80\n",
      "DEBUG:urllib3.connectionpool:http://images.cocodataset.org:80 \"GET /train2017/000000192039.jpg HTTP/1.1\" 200 197277\n",
      "DEBUG:urllib3.connectionpool:http://images.cocodataset.org:80 \"GET /train2017/000000192043.jpg HTTP/1.1\" 200 52980\n"
     ]
    },
    {
     "name": "stdout",
     "output_type": "stream",
     "text": [
      "                                                                                  \r"
     ]
    },
    {
     "name": "stderr",
     "output_type": "stream",
     "text": [
      "DEBUG:urllib3.connectionpool:Starting new HTTP connection (1): images.cocodataset.org:80\n"
     ]
    },
    {
     "name": "stdout",
     "output_type": "stream",
     "text": [
      "  17% |██------------| 15889/93578 [44.3m elapsed, 4.5h remaining, 2.5 images/s]  "
     ]
    },
    {
     "name": "stderr",
     "output_type": "stream",
     "text": [
      "DEBUG:urllib3.connectionpool:Starting new HTTP connection (1): images.cocodataset.org:80\n"
     ]
    },
    {
     "name": "stdout",
     "output_type": "stream",
     "text": [
      "  17% |██\\-----------| 15890/93578 [44.3m elapsed, 4.5h remaining, 2.5 images/s]  "
     ]
    },
    {
     "name": "stderr",
     "output_type": "stream",
     "text": [
      "DEBUG:urllib3.connectionpool:http://images.cocodataset.org:80 \"GET /train2017/000000192048.jpg HTTP/1.1\" 200 174567\n",
      "DEBUG:urllib3.connectionpool:http://images.cocodataset.org:80 \"GET /train2017/000000192053.jpg HTTP/1.1\" 200 189102\n"
     ]
    },
    {
     "name": "stdout",
     "output_type": "stream",
     "text": [
      "                                                                                  \r"
     ]
    },
    {
     "name": "stderr",
     "output_type": "stream",
     "text": [
      "DEBUG:urllib3.connectionpool:Starting new HTTP connection (1): images.cocodataset.org:80\n"
     ]
    },
    {
     "name": "stdout",
     "output_type": "stream",
     "text": [
      "                                                                                  \r"
     ]
    },
    {
     "name": "stderr",
     "output_type": "stream",
     "text": [
      "DEBUG:urllib3.connectionpool:Starting new HTTP connection (1): images.cocodataset.org:80\n"
     ]
    },
    {
     "name": "stdout",
     "output_type": "stream",
     "text": [
      "  17% |██/-----------| 15892/93578 [44.3m elapsed, 4.5h remaining, 2.4 images/s]  "
     ]
    },
    {
     "name": "stderr",
     "output_type": "stream",
     "text": [
      "DEBUG:urllib3.connectionpool:http://images.cocodataset.org:80 \"GET /train2017/000000192077.jpg HTTP/1.1\" 200 210027\n",
      "DEBUG:urllib3.connectionpool:http://images.cocodataset.org:80 \"GET /train2017/000000192079.jpg HTTP/1.1\" 200 115441\n",
      "DEBUG:urllib3.connectionpool:Starting new HTTP connection (1): images.cocodataset.org:80\n"
     ]
    },
    {
     "name": "stdout",
     "output_type": "stream",
     "text": [
      "  17% |██------------| 15893/93578 [44.3m elapsed, 4.5h remaining, 2.5 images/s]  "
     ]
    },
    {
     "name": "stderr",
     "output_type": "stream",
     "text": [
      "DEBUG:urllib3.connectionpool:Starting new HTTP connection (1): images.cocodataset.org:80\n",
      "DEBUG:urllib3.connectionpool:http://images.cocodataset.org:80 \"GET /train2017/000000192080.jpg HTTP/1.1\" 200 208973\n",
      "DEBUG:urllib3.connectionpool:http://images.cocodataset.org:80 \"GET /train2017/000000192081.jpg HTTP/1.1\" 200 165654\n"
     ]
    },
    {
     "name": "stdout",
     "output_type": "stream",
     "text": [
      "                                                                                  \r"
     ]
    },
    {
     "name": "stderr",
     "output_type": "stream",
     "text": [
      "DEBUG:urllib3.connectionpool:Starting new HTTP connection (1): images.cocodataset.org:80\n"
     ]
    },
    {
     "name": "stdout",
     "output_type": "stream",
     "text": [
      "  17% |██\\-----------| 15895/93578 [44.3m elapsed, 4.5h remaining, 2.5 images/s]  "
     ]
    },
    {
     "name": "stderr",
     "output_type": "stream",
     "text": [
      "DEBUG:urllib3.connectionpool:Starting new HTTP connection (1): images.cocodataset.org:80\n",
      "DEBUG:urllib3.connectionpool:http://images.cocodataset.org:80 \"GET /train2017/000000192090.jpg HTTP/1.1\" 200 182763\n",
      "DEBUG:urllib3.connectionpool:http://images.cocodataset.org:80 \"GET /train2017/000000192091.jpg HTTP/1.1\" 200 99594\n"
     ]
    },
    {
     "name": "stdout",
     "output_type": "stream",
     "text": [
      "                                                                                  \r"
     ]
    },
    {
     "name": "stderr",
     "output_type": "stream",
     "text": [
      "DEBUG:urllib3.connectionpool:Starting new HTTP connection (1): images.cocodataset.org:80\n"
     ]
    },
    {
     "name": "stdout",
     "output_type": "stream",
     "text": [
      "  17% |██|-----------| 15897/93578 [44.3m elapsed, 4.5h remaining, 2.5 images/s]  "
     ]
    },
    {
     "name": "stderr",
     "output_type": "stream",
     "text": [
      "DEBUG:urllib3.connectionpool:http://images.cocodataset.org:80 \"GET /train2017/000000192095.jpg HTTP/1.1\" 200 184598\n",
      "DEBUG:urllib3.connectionpool:Starting new HTTP connection (1): images.cocodataset.org:80\n"
     ]
    },
    {
     "name": "stdout",
     "output_type": "stream",
     "text": [
      "  17% |██/-----------| 15898/93578 [44.3m elapsed, 4.7h remaining, 2.2 images/s]  "
     ]
    },
    {
     "name": "stderr",
     "output_type": "stream",
     "text": [
      "DEBUG:urllib3.connectionpool:Starting new HTTP connection (1): images.cocodataset.org:80\n"
     ]
    },
    {
     "name": "stdout",
     "output_type": "stream",
     "text": [
      "  17% |██------------| 15899/93578 [44.3m elapsed, 4.6h remaining, 2.3 images/s]  "
     ]
    },
    {
     "name": "stderr",
     "output_type": "stream",
     "text": [
      "DEBUG:urllib3.connectionpool:http://images.cocodataset.org:80 \"GET /train2017/000000192098.jpg HTTP/1.1\" 200 146318\n",
      "DEBUG:urllib3.connectionpool:http://images.cocodataset.org:80 \"GET /train2017/000000192104.jpg HTTP/1.1\" 200 206237\n",
      "DEBUG:urllib3.connectionpool:Starting new HTTP connection (1): images.cocodataset.org:80\n"
     ]
    },
    {
     "name": "stdout",
     "output_type": "stream",
     "text": [
      "  17% |██\\-----------| 15900/93578 [44.4m elapsed, 4.7h remaining, 2.2 images/s]  "
     ]
    },
    {
     "name": "stderr",
     "output_type": "stream",
     "text": [
      "DEBUG:urllib3.connectionpool:Starting new HTTP connection (1): images.cocodataset.org:80\n"
     ]
    },
    {
     "name": "stdout",
     "output_type": "stream",
     "text": [
      "  17% |██|-----------| 15901/93578 [44.4m elapsed, 4.7h remaining, 2.2 images/s]  "
     ]
    },
    {
     "name": "stderr",
     "output_type": "stream",
     "text": [
      "DEBUG:urllib3.connectionpool:http://images.cocodataset.org:80 \"GET /train2017/000000192111.jpg HTTP/1.1\" 200 154953\n",
      "DEBUG:urllib3.connectionpool:http://images.cocodataset.org:80 \"GET /train2017/000000192114.jpg HTTP/1.1\" 200 298846\n",
      "DEBUG:urllib3.connectionpool:Starting new HTTP connection (1): images.cocodataset.org:80\n"
     ]
    },
    {
     "name": "stdout",
     "output_type": "stream",
     "text": [
      "  17% |██/-----------| 15902/93578 [44.4m elapsed, 4.8h remaining, 2.0 images/s]  "
     ]
    },
    {
     "name": "stderr",
     "output_type": "stream",
     "text": [
      "DEBUG:urllib3.connectionpool:http://images.cocodataset.org:80 \"GET /train2017/000000192118.jpg HTTP/1.1\" 200 126325\n",
      "DEBUG:urllib3.connectionpool:Starting new HTTP connection (1): images.cocodataset.org:80\n"
     ]
    },
    {
     "name": "stdout",
     "output_type": "stream",
     "text": [
      "  17% |██------------| 15903/93578 [44.4m elapsed, 5.0h remaining, 1.8 images/s]  "
     ]
    },
    {
     "name": "stderr",
     "output_type": "stream",
     "text": [
      "DEBUG:urllib3.connectionpool:http://images.cocodataset.org:80 \"GET /train2017/000000192120.jpg HTTP/1.1\" 200 103229\n",
      "DEBUG:urllib3.connectionpool:Starting new HTTP connection (1): images.cocodataset.org:80\n"
     ]
    },
    {
     "name": "stdout",
     "output_type": "stream",
     "text": [
      "  17% |██\\-----------| 15904/93578 [44.4m elapsed, 5.1h remaining, 1.8 images/s]  "
     ]
    },
    {
     "name": "stderr",
     "output_type": "stream",
     "text": [
      "DEBUG:urllib3.connectionpool:Starting new HTTP connection (1): images.cocodataset.org:80\n",
      "DEBUG:urllib3.connectionpool:http://images.cocodataset.org:80 \"GET /train2017/000000192137.jpg HTTP/1.1\" 200 130496\n",
      "DEBUG:urllib3.connectionpool:http://images.cocodataset.org:80 \"GET /train2017/000000192128.jpg HTTP/1.1\" 200 207578\n"
     ]
    },
    {
     "name": "stdout",
     "output_type": "stream",
     "text": [
      "                                                                                  \r"
     ]
    },
    {
     "name": "stderr",
     "output_type": "stream",
     "text": [
      "DEBUG:urllib3.connectionpool:Starting new HTTP connection (1): images.cocodataset.org:80\n"
     ]
    },
    {
     "name": "stdout",
     "output_type": "stream",
     "text": [
      "  17% |██|-----------| 15906/93578 [44.4m elapsed, 5.1h remaining, 1.8 images/s]  "
     ]
    },
    {
     "name": "stderr",
     "output_type": "stream",
     "text": [
      "DEBUG:urllib3.connectionpool:Starting new HTTP connection (1): images.cocodataset.org:80\n",
      "DEBUG:urllib3.connectionpool:http://images.cocodataset.org:80 \"GET /train2017/000000192145.jpg HTTP/1.1\" 200 187560\n",
      "DEBUG:urllib3.connectionpool:http://images.cocodataset.org:80 \"GET /train2017/000000192153.jpg HTTP/1.1\" 200 290121\n",
      "DEBUG:urllib3.connectionpool:Starting new HTTP connection (1): images.cocodataset.org:80\n"
     ]
    },
    {
     "name": "stdout",
     "output_type": "stream",
     "text": [
      "  17% |██/-----------| 15908/93578 [44.4m elapsed, 5.1h remaining, 1.8 images/s]  "
     ]
    },
    {
     "name": "stderr",
     "output_type": "stream",
     "text": [
      "DEBUG:urllib3.connectionpool:Starting new HTTP connection (1): images.cocodataset.org:80\n"
     ]
    },
    {
     "name": "stdout",
     "output_type": "stream",
     "text": [
      "  17% |██------------| 15909/93578 [44.4m elapsed, 4.9h remaining, 2.0 images/s]  "
     ]
    },
    {
     "name": "stderr",
     "output_type": "stream",
     "text": [
      "DEBUG:urllib3.connectionpool:http://images.cocodataset.org:80 \"GET /train2017/000000192154.jpg HTTP/1.1\" 200 84494\n",
      "DEBUG:urllib3.connectionpool:http://images.cocodataset.org:80 \"GET /train2017/000000192160.jpg HTTP/1.1\" 200 124144\n"
     ]
    },
    {
     "name": "stdout",
     "output_type": "stream",
     "text": [
      "  17% |██\\-----------| 15910/93578 [44.4m elapsed, 4.9h remaining, 1.9 images/s]  "
     ]
    },
    {
     "name": "stderr",
     "output_type": "stream",
     "text": [
      "DEBUG:urllib3.connectionpool:Starting new HTTP connection (1): images.cocodataset.org:80\n"
     ]
    },
    {
     "name": "stdout",
     "output_type": "stream",
     "text": [
      "                                                                                  \r"
     ]
    },
    {
     "name": "stderr",
     "output_type": "stream",
     "text": [
      "DEBUG:urllib3.connectionpool:Starting new HTTP connection (1): images.cocodataset.org:80\n"
     ]
    },
    {
     "name": "stdout",
     "output_type": "stream",
     "text": [
      "  17% |██|-----------| 15911/93578 [44.4m elapsed, 4.9h remaining, 2.0 images/s]  "
     ]
    },
    {
     "name": "stderr",
     "output_type": "stream",
     "text": [
      "DEBUG:urllib3.connectionpool:http://images.cocodataset.org:80 \"GET /train2017/000000192164.jpg HTTP/1.1\" 200 109570\n",
      "DEBUG:urllib3.connectionpool:http://images.cocodataset.org:80 \"GET /train2017/000000192167.jpg HTTP/1.1\" 200 21321\n"
     ]
    },
    {
     "name": "stdout",
     "output_type": "stream",
     "text": [
      "                                                                                  \r"
     ]
    },
    {
     "name": "stderr",
     "output_type": "stream",
     "text": [
      "DEBUG:urllib3.connectionpool:Starting new HTTP connection (1): images.cocodataset.org:80\n"
     ]
    },
    {
     "name": "stdout",
     "output_type": "stream",
     "text": [
      "  17% |██/-----------| 15912/93578 [44.5m elapsed, 4.9h remaining, 1.9 images/s]  "
     ]
    },
    {
     "name": "stderr",
     "output_type": "stream",
     "text": [
      "DEBUG:urllib3.connectionpool:Starting new HTTP connection (1): images.cocodataset.org:80\n",
      "DEBUG:urllib3.connectionpool:http://images.cocodataset.org:80 \"GET /train2017/000000192168.jpg HTTP/1.1\" 200 93179\n",
      "DEBUG:urllib3.connectionpool:http://images.cocodataset.org:80 \"GET /train2017/000000192171.jpg HTTP/1.1\" 200 211377\n"
     ]
    },
    {
     "name": "stdout",
     "output_type": "stream",
     "text": [
      "                                                                                  \r"
     ]
    },
    {
     "name": "stderr",
     "output_type": "stream",
     "text": [
      "DEBUG:urllib3.connectionpool:Starting new HTTP connection (1): images.cocodataset.org:80\n"
     ]
    },
    {
     "name": "stdout",
     "output_type": "stream",
     "text": [
      "  17% |██------------| 15914/93578 [44.5m elapsed, 4.7h remaining, 2.2 images/s]  "
     ]
    },
    {
     "name": "stderr",
     "output_type": "stream",
     "text": [
      "DEBUG:urllib3.connectionpool:Starting new HTTP connection (1): images.cocodataset.org:80\n"
     ]
    },
    {
     "name": "stdout",
     "output_type": "stream",
     "text": [
      "  17% |██\\-----------| 15915/93578 [44.5m elapsed, 4.5h remaining, 2.4 images/s]  "
     ]
    },
    {
     "name": "stderr",
     "output_type": "stream",
     "text": [
      "DEBUG:urllib3.connectionpool:http://images.cocodataset.org:80 \"GET /train2017/000000192180.jpg HTTP/1.1\" 200 195854\n",
      "DEBUG:urllib3.connectionpool:http://images.cocodataset.org:80 \"GET /train2017/000000192181.jpg HTTP/1.1\" 200 163727\n",
      "DEBUG:urllib3.connectionpool:Starting new HTTP connection (1): images.cocodataset.org:80\n"
     ]
    },
    {
     "name": "stdout",
     "output_type": "stream",
     "text": [
      "  17% |██|-----------| 15916/93578 [44.5m elapsed, 4.4h remaining, 2.6 images/s]  "
     ]
    },
    {
     "name": "stderr",
     "output_type": "stream",
     "text": [
      "DEBUG:urllib3.connectionpool:http://images.cocodataset.org:80 \"GET /train2017/000000192183.jpg HTTP/1.1\" 200 103955\n",
      "DEBUG:urllib3.connectionpool:Starting new HTTP connection (1): images.cocodataset.org:80\n"
     ]
    },
    {
     "name": "stdout",
     "output_type": "stream",
     "text": [
      "  17% |██/-----------| 15917/93578 [44.5m elapsed, 4.6h remaining, 2.3 images/s]  "
     ]
    },
    {
     "name": "stderr",
     "output_type": "stream",
     "text": [
      "DEBUG:urllib3.connectionpool:http://images.cocodataset.org:80 \"GET /train2017/000000192192.jpg HTTP/1.1\" 200 163349\n",
      "DEBUG:urllib3.connectionpool:Starting new HTTP connection (1): images.cocodataset.org:80\n"
     ]
    },
    {
     "name": "stdout",
     "output_type": "stream",
     "text": [
      "  17% |██------------| 15918/93578 [44.5m elapsed, 4.6h remaining, 2.3 images/s]  "
     ]
    },
    {
     "name": "stderr",
     "output_type": "stream",
     "text": [
      "DEBUG:urllib3.connectionpool:http://images.cocodataset.org:80 \"GET /train2017/000000192196.jpg HTTP/1.1\" 200 211640\n",
      "DEBUG:urllib3.connectionpool:Starting new HTTP connection (1): images.cocodataset.org:80\n"
     ]
    },
    {
     "name": "stdout",
     "output_type": "stream",
     "text": [
      "  17% |██\\-----------| 15919/93578 [44.5m elapsed, 4.6h remaining, 2.3 images/s]  "
     ]
    },
    {
     "name": "stderr",
     "output_type": "stream",
     "text": [
      "DEBUG:urllib3.connectionpool:http://images.cocodataset.org:80 \"GET /train2017/000000192200.jpg HTTP/1.1\" 200 226276\n",
      "DEBUG:urllib3.connectionpool:Starting new HTTP connection (1): images.cocodataset.org:80\n"
     ]
    },
    {
     "name": "stdout",
     "output_type": "stream",
     "text": [
      "  17% |██|-----------| 15920/93578 [44.5m elapsed, 4.6h remaining, 2.3 images/s]  "
     ]
    },
    {
     "name": "stderr",
     "output_type": "stream",
     "text": [
      "DEBUG:urllib3.connectionpool:http://images.cocodataset.org:80 \"GET /train2017/000000192212.jpg HTTP/1.1\" 200 179309\n",
      "DEBUG:urllib3.connectionpool:Starting new HTTP connection (1): images.cocodataset.org:80\n"
     ]
    },
    {
     "name": "stdout",
     "output_type": "stream",
     "text": [
      "  17% |██/-----------| 15921/93578 [44.5m elapsed, 4.7h remaining, 2.2 images/s]  "
     ]
    },
    {
     "name": "stderr",
     "output_type": "stream",
     "text": [
      "DEBUG:urllib3.connectionpool:http://images.cocodataset.org:80 \"GET /train2017/000000192216.jpg HTTP/1.1\" 200 249088\n"
     ]
    },
    {
     "name": "stdout",
     "output_type": "stream",
     "text": [
      "                                                                                  \r"
     ]
    },
    {
     "name": "stderr",
     "output_type": "stream",
     "text": [
      "DEBUG:urllib3.connectionpool:Starting new HTTP connection (1): images.cocodataset.org:80\n"
     ]
    },
    {
     "name": "stdout",
     "output_type": "stream",
     "text": [
      "  17% |██------------| 15922/93578 [44.5m elapsed, 4.7h remaining, 2.1 images/s]  "
     ]
    },
    {
     "name": "stderr",
     "output_type": "stream",
     "text": [
      "DEBUG:urllib3.connectionpool:http://images.cocodataset.org:80 \"GET /train2017/000000192217.jpg HTTP/1.1\" 200 211378\n"
     ]
    },
    {
     "name": "stdout",
     "output_type": "stream",
     "text": [
      "                                                                                  \r"
     ]
    },
    {
     "name": "stderr",
     "output_type": "stream",
     "text": [
      "DEBUG:urllib3.connectionpool:Starting new HTTP connection (1): images.cocodataset.org:80\n"
     ]
    },
    {
     "name": "stdout",
     "output_type": "stream",
     "text": [
      "  17% |██\\-----------| 15923/93578 [44.5m elapsed, 4.8h remaining, 2.0 images/s]  "
     ]
    },
    {
     "name": "stderr",
     "output_type": "stream",
     "text": [
      "DEBUG:urllib3.connectionpool:http://images.cocodataset.org:80 \"GET /train2017/000000192221.jpg HTTP/1.1\" 200 129033\n"
     ]
    },
    {
     "name": "stdout",
     "output_type": "stream",
     "text": [
      "                                                                                  \r"
     ]
    },
    {
     "name": "stderr",
     "output_type": "stream",
     "text": [
      "DEBUG:urllib3.connectionpool:Starting new HTTP connection (1): images.cocodataset.org:80\n"
     ]
    },
    {
     "name": "stdout",
     "output_type": "stream",
     "text": [
      "  17% |██|-----------| 15924/93578 [44.5m elapsed, 4.9h remaining, 1.9 images/s]  "
     ]
    },
    {
     "name": "stderr",
     "output_type": "stream",
     "text": [
      "DEBUG:urllib3.connectionpool:http://images.cocodataset.org:80 \"GET /train2017/000000192233.jpg HTTP/1.1\" 200 201897\n",
      "DEBUG:urllib3.connectionpool:Starting new HTTP connection (1): images.cocodataset.org:80\n"
     ]
    },
    {
     "name": "stdout",
     "output_type": "stream",
     "text": [
      "  17% |██/-----------| 15925/93578 [44.6m elapsed, 5.0h remaining, 1.8 images/s]  "
     ]
    },
    {
     "name": "stderr",
     "output_type": "stream",
     "text": [
      "DEBUG:urllib3.connectionpool:Starting new HTTP connection (1): images.cocodataset.org:80\n",
      "DEBUG:urllib3.connectionpool:http://images.cocodataset.org:80 \"GET /train2017/000000192236.jpg HTTP/1.1\" 200 100896\n",
      "DEBUG:urllib3.connectionpool:http://images.cocodataset.org:80 \"GET /train2017/000000192234.jpg HTTP/1.1\" 200 117323\n",
      "DEBUG:urllib3.connectionpool:Starting new HTTP connection (1): images.cocodataset.org:80\n"
     ]
    },
    {
     "name": "stdout",
     "output_type": "stream",
     "text": [
      "  17% |██------------| 15927/93578 [44.6m elapsed, 4.8h remaining, 2.0 images/s]  "
     ]
    },
    {
     "name": "stderr",
     "output_type": "stream",
     "text": [
      "DEBUG:urllib3.connectionpool:Starting new HTTP connection (1): images.cocodataset.org:80\n",
      "DEBUG:urllib3.connectionpool:http://images.cocodataset.org:80 \"GET /train2017/000000192247.jpg HTTP/1.1\" 200 140229\n",
      "DEBUG:urllib3.connectionpool:http://images.cocodataset.org:80 \"GET /train2017/000000192256.jpg HTTP/1.1\" 200 48333\n",
      "DEBUG:urllib3.connectionpool:Starting new HTTP connection (1): images.cocodataset.org:80\n"
     ]
    },
    {
     "name": "stdout",
     "output_type": "stream",
     "text": [
      "  17% |██\\-----------| 15929/93578 [44.6m elapsed, 4.8h remaining, 2.0 images/s]  "
     ]
    },
    {
     "name": "stderr",
     "output_type": "stream",
     "text": [
      "DEBUG:urllib3.connectionpool:Starting new HTTP connection (1): images.cocodataset.org:80\n",
      "DEBUG:urllib3.connectionpool:http://images.cocodataset.org:80 \"GET /train2017/000000192259.jpg HTTP/1.1\" 200 281028\n",
      "DEBUG:urllib3.connectionpool:http://images.cocodataset.org:80 \"GET /train2017/000000192266.jpg HTTP/1.1\" 200 187021\n"
     ]
    },
    {
     "name": "stdout",
     "output_type": "stream",
     "text": [
      "                                                                                  \r"
     ]
    },
    {
     "name": "stderr",
     "output_type": "stream",
     "text": [
      "DEBUG:urllib3.connectionpool:Starting new HTTP connection (1): images.cocodataset.org:80\n"
     ]
    },
    {
     "name": "stdout",
     "output_type": "stream",
     "text": [
      "  17% |██|-----------| 15931/93578 [44.6m elapsed, 4.8h remaining, 2.0 images/s]  "
     ]
    },
    {
     "name": "stderr",
     "output_type": "stream",
     "text": [
      "DEBUG:urllib3.connectionpool:http://images.cocodataset.org:80 \"GET /train2017/000000192269.jpg HTTP/1.1\" 200 62530\n",
      "DEBUG:urllib3.connectionpool:Starting new HTTP connection (1): images.cocodataset.org:80\n"
     ]
    },
    {
     "name": "stdout",
     "output_type": "stream",
     "text": [
      "  17% |██/-----------| 15932/93578 [44.6m elapsed, 4.9h remaining, 1.9 images/s]  "
     ]
    },
    {
     "name": "stderr",
     "output_type": "stream",
     "text": [
      "DEBUG:urllib3.connectionpool:http://images.cocodataset.org:80 \"GET /train2017/000000192273.jpg HTTP/1.1\" 200 174823\n"
     ]
    },
    {
     "name": "stdout",
     "output_type": "stream",
     "text": [
      "  17% |██------------| 15933/93578 [44.6m elapsed, 4.9h remaining, 1.9 images/s]  "
     ]
    },
    {
     "name": "stderr",
     "output_type": "stream",
     "text": [
      "DEBUG:urllib3.connectionpool:Starting new HTTP connection (1): images.cocodataset.org:80\n",
      "DEBUG:urllib3.connectionpool:http://images.cocodataset.org:80 \"GET /train2017/000000192277.jpg HTTP/1.1\" 200 220924\n"
     ]
    },
    {
     "name": "stdout",
     "output_type": "stream",
     "text": [
      "                                                                                  \r"
     ]
    },
    {
     "name": "stderr",
     "output_type": "stream",
     "text": [
      "DEBUG:urllib3.connectionpool:Starting new HTTP connection (1): images.cocodataset.org:80\n"
     ]
    },
    {
     "name": "stdout",
     "output_type": "stream",
     "text": [
      "  17% |██\\-----------| 15934/93578 [44.6m elapsed, 4.9h remaining, 2.0 images/s]  "
     ]
    },
    {
     "name": "stderr",
     "output_type": "stream",
     "text": [
      "DEBUG:urllib3.connectionpool:http://images.cocodataset.org:80 \"GET /train2017/000000192290.jpg HTTP/1.1\" 200 94178\n",
      "DEBUG:urllib3.connectionpool:Starting new HTTP connection (1): images.cocodataset.org:80\n"
     ]
    },
    {
     "name": "stdout",
     "output_type": "stream",
     "text": [
      "                                                                                  \r"
     ]
    },
    {
     "name": "stderr",
     "output_type": "stream",
     "text": [
      "DEBUG:urllib3.connectionpool:Starting new HTTP connection (1): images.cocodataset.org:80\n"
     ]
    },
    {
     "name": "stdout",
     "output_type": "stream",
     "text": [
      "  17% |██/-----------| 15936/93578 [44.6m elapsed, 4.8h remaining, 2.0 images/s]  "
     ]
    },
    {
     "name": "stderr",
     "output_type": "stream",
     "text": [
      "DEBUG:urllib3.connectionpool:http://images.cocodataset.org:80 \"GET /train2017/000000192291.jpg HTTP/1.1\" 200 83508\n",
      "DEBUG:urllib3.connectionpool:http://images.cocodataset.org:80 \"GET /train2017/000000192295.jpg HTTP/1.1\" 200 107014\n"
     ]
    },
    {
     "name": "stdout",
     "output_type": "stream",
     "text": [
      "  17% |██------------| 15937/93578 [44.7m elapsed, 4.7h remaining, 2.2 images/s]  "
     ]
    },
    {
     "name": "stderr",
     "output_type": "stream",
     "text": [
      "DEBUG:urllib3.connectionpool:Starting new HTTP connection (1): images.cocodataset.org:80\n",
      "DEBUG:urllib3.connectionpool:Starting new HTTP connection (1): images.cocodataset.org:80\n"
     ]
    },
    {
     "name": "stdout",
     "output_type": "stream",
     "text": [
      "  17% |██\\-----------| 15938/93578 [44.7m elapsed, 4.6h remaining, 2.2 images/s]  "
     ]
    },
    {
     "name": "stderr",
     "output_type": "stream",
     "text": [
      "DEBUG:urllib3.connectionpool:http://images.cocodataset.org:80 \"GET /train2017/000000192296.jpg HTTP/1.1\" 200 194238\n",
      "DEBUG:urllib3.connectionpool:http://images.cocodataset.org:80 \"GET /train2017/000000192298.jpg HTTP/1.1\" 200 120449\n",
      "DEBUG:urllib3.connectionpool:Starting new HTTP connection (1): images.cocodataset.org:80\n"
     ]
    },
    {
     "name": "stdout",
     "output_type": "stream",
     "text": [
      "  17% |██|-----------| 15939/93578 [44.7m elapsed, 4.8h remaining, 2.0 images/s]  "
     ]
    },
    {
     "name": "stderr",
     "output_type": "stream",
     "text": [
      "DEBUG:urllib3.connectionpool:Starting new HTTP connection (1): images.cocodataset.org:80\n",
      "DEBUG:urllib3.connectionpool:http://images.cocodataset.org:80 \"GET /train2017/000000192301.jpg HTTP/1.1\" 200 167700\n",
      "DEBUG:urllib3.connectionpool:http://images.cocodataset.org:80 \"GET /train2017/000000192306.jpg HTTP/1.1\" 200 67413\n",
      "DEBUG:urllib3.connectionpool:Starting new HTTP connection (1): images.cocodataset.org:80\n"
     ]
    },
    {
     "name": "stdout",
     "output_type": "stream",
     "text": [
      "  17% |██/-----------| 15941/93578 [44.7m elapsed, 4.7h remaining, 2.1 images/s]  "
     ]
    },
    {
     "name": "stderr",
     "output_type": "stream",
     "text": [
      "DEBUG:urllib3.connectionpool:Starting new HTTP connection (1): images.cocodataset.org:80\n",
      "DEBUG:urllib3.connectionpool:http://images.cocodataset.org:80 \"GET /train2017/000000192307.jpg HTTP/1.1\" 200 111188\n",
      "DEBUG:urllib3.connectionpool:http://images.cocodataset.org:80 \"GET /train2017/000000192319.jpg HTTP/1.1\" 200 144769\n",
      "DEBUG:urllib3.connectionpool:Starting new HTTP connection (1): images.cocodataset.org:80\n"
     ]
    },
    {
     "name": "stdout",
     "output_type": "stream",
     "text": [
      "  17% |██------------| 15943/93578 [44.7m elapsed, 4.6h remaining, 2.3 images/s]  "
     ]
    },
    {
     "name": "stderr",
     "output_type": "stream",
     "text": [
      "DEBUG:urllib3.connectionpool:Starting new HTTP connection (1): images.cocodataset.org:80\n",
      "DEBUG:urllib3.connectionpool:http://images.cocodataset.org:80 \"GET /train2017/000000192320.jpg HTTP/1.1\" 200 146795\n",
      "DEBUG:urllib3.connectionpool:http://images.cocodataset.org:80 \"GET /train2017/000000192322.jpg HTTP/1.1\" 200 153990\n",
      "DEBUG:urllib3.connectionpool:Starting new HTTP connection (1): images.cocodataset.org:80\n"
     ]
    },
    {
     "name": "stdout",
     "output_type": "stream",
     "text": [
      "  17% |██\\-----------| 15945/93578 [44.7m elapsed, 4.7h remaining, 2.2 images/s]  "
     ]
    },
    {
     "name": "stderr",
     "output_type": "stream",
     "text": [
      "DEBUG:urllib3.connectionpool:Starting new HTTP connection (1): images.cocodataset.org:80\n",
      "DEBUG:urllib3.connectionpool:http://images.cocodataset.org:80 \"GET /train2017/000000192332.jpg HTTP/1.1\" 200 154051\n",
      "DEBUG:urllib3.connectionpool:http://images.cocodataset.org:80 \"GET /train2017/000000192327.jpg HTTP/1.1\" 200 179887\n",
      "DEBUG:urllib3.connectionpool:Starting new HTTP connection (1): images.cocodataset.org:80\n"
     ]
    },
    {
     "name": "stdout",
     "output_type": "stream",
     "text": [
      "                                                                                  \r"
     ]
    },
    {
     "name": "stderr",
     "output_type": "stream",
     "text": [
      "DEBUG:urllib3.connectionpool:Starting new HTTP connection (1): images.cocodataset.org:80\n"
     ]
    },
    {
     "name": "stdout",
     "output_type": "stream",
     "text": [
      "  17% |██/-----------| 15948/93578 [44.7m elapsed, 4.6h remaining, 2.4 images/s]  "
     ]
    },
    {
     "name": "stderr",
     "output_type": "stream",
     "text": [
      "DEBUG:urllib3.connectionpool:http://images.cocodataset.org:80 \"GET /train2017/000000192335.jpg HTTP/1.1\" 200 226520\n",
      "DEBUG:urllib3.connectionpool:http://images.cocodataset.org:80 \"GET /train2017/000000192337.jpg HTTP/1.1\" 200 191455\n",
      "DEBUG:urllib3.connectionpool:Starting new HTTP connection (1): images.cocodataset.org:80\n"
     ]
    },
    {
     "name": "stdout",
     "output_type": "stream",
     "text": [
      "  17% |██------------| 15949/93578 [44.7m elapsed, 4.8h remaining, 2.1 images/s]  "
     ]
    },
    {
     "name": "stderr",
     "output_type": "stream",
     "text": [
      "DEBUG:urllib3.connectionpool:Starting new HTTP connection (1): images.cocodataset.org:80\n",
      "DEBUG:urllib3.connectionpool:http://images.cocodataset.org:80 \"GET /train2017/000000192348.jpg HTTP/1.1\" 200 170152\n",
      "DEBUG:urllib3.connectionpool:http://images.cocodataset.org:80 \"GET /train2017/000000192345.jpg HTTP/1.1\" 200 100171\n",
      "DEBUG:urllib3.connectionpool:Starting new HTTP connection (1): images.cocodataset.org:80\n"
     ]
    },
    {
     "name": "stdout",
     "output_type": "stream",
     "text": [
      "  17% |██\\-----------| 15951/93578 [44.8m elapsed, 4.8h remaining, 2.0 images/s]  "
     ]
    },
    {
     "name": "stderr",
     "output_type": "stream",
     "text": [
      "DEBUG:urllib3.connectionpool:http://images.cocodataset.org:80 \"GET /train2017/000000192357.jpg HTTP/1.1\" 200 192951\n"
     ]
    },
    {
     "name": "stdout",
     "output_type": "stream",
     "text": [
      "  17% |██|-----------| 15952/93578 [44.8m elapsed, 5.0h remaining, 1.9 images/s]  "
     ]
    },
    {
     "name": "stderr",
     "output_type": "stream",
     "text": [
      "DEBUG:urllib3.connectionpool:Starting new HTTP connection (1): images.cocodataset.org:80\n",
      "DEBUG:urllib3.connectionpool:http://images.cocodataset.org:80 \"GET /train2017/000000192362.jpg HTTP/1.1\" 200 62970\n"
     ]
    },
    {
     "name": "stdout",
     "output_type": "stream",
     "text": [
      "                                                                                  \r"
     ]
    },
    {
     "name": "stderr",
     "output_type": "stream",
     "text": [
      "DEBUG:urllib3.connectionpool:Starting new HTTP connection (1): images.cocodataset.org:80\n"
     ]
    },
    {
     "name": "stdout",
     "output_type": "stream",
     "text": [
      "  17% |██/-----------| 15953/93578 [44.8m elapsed, 4.9h remaining, 2.0 images/s]  "
     ]
    },
    {
     "name": "stderr",
     "output_type": "stream",
     "text": [
      "DEBUG:urllib3.connectionpool:Starting new HTTP connection (1): images.cocodataset.org:80\n"
     ]
    },
    {
     "name": "stdout",
     "output_type": "stream",
     "text": [
      "  17% |██------------| 15954/93578 [44.8m elapsed, 4.8h remaining, 2.0 images/s]  "
     ]
    },
    {
     "name": "stderr",
     "output_type": "stream",
     "text": [
      "DEBUG:urllib3.connectionpool:http://images.cocodataset.org:80 \"GET /train2017/000000192369.jpg HTTP/1.1\" 200 212396\n",
      "DEBUG:urllib3.connectionpool:http://images.cocodataset.org:80 \"GET /train2017/000000192381.jpg HTTP/1.1\" 200 110264\n"
     ]
    },
    {
     "name": "stdout",
     "output_type": "stream",
     "text": [
      "                                                                                  \r"
     ]
    },
    {
     "name": "stderr",
     "output_type": "stream",
     "text": [
      "DEBUG:urllib3.connectionpool:Starting new HTTP connection (1): images.cocodataset.org:80\n"
     ]
    },
    {
     "name": "stdout",
     "output_type": "stream",
     "text": [
      "  17% |██\\-----------| 15955/93578 [44.8m elapsed, 5.0h remaining, 1.9 images/s]  "
     ]
    },
    {
     "name": "stderr",
     "output_type": "stream",
     "text": [
      "DEBUG:urllib3.connectionpool:Starting new HTTP connection (1): images.cocodataset.org:80\n",
      "DEBUG:urllib3.connectionpool:http://images.cocodataset.org:80 \"GET /train2017/000000192390.jpg HTTP/1.1\" 200 121879\n",
      "DEBUG:urllib3.connectionpool:http://images.cocodataset.org:80 \"GET /train2017/000000192394.jpg HTTP/1.1\" 200 133753\n",
      "DEBUG:urllib3.connectionpool:Starting new HTTP connection (1): images.cocodataset.org:80\n"
     ]
    },
    {
     "name": "stdout",
     "output_type": "stream",
     "text": [
      "  17% |██|-----------| 15957/93578 [44.8m elapsed, 5.0h remaining, 1.9 images/s]  "
     ]
    },
    {
     "name": "stderr",
     "output_type": "stream",
     "text": [
      "DEBUG:urllib3.connectionpool:http://images.cocodataset.org:80 \"GET /train2017/000000192395.jpg HTTP/1.1\" 200 30865\n"
     ]
    },
    {
     "name": "stdout",
     "output_type": "stream",
     "text": [
      "                                                                                  \r"
     ]
    },
    {
     "name": "stderr",
     "output_type": "stream",
     "text": [
      "DEBUG:urllib3.connectionpool:Starting new HTTP connection (1): images.cocodataset.org:80\n"
     ]
    },
    {
     "name": "stdout",
     "output_type": "stream",
     "text": [
      "  17% |██/-----------| 15958/93578 [44.8m elapsed, 5.1h remaining, 1.8 images/s]  "
     ]
    },
    {
     "name": "stderr",
     "output_type": "stream",
     "text": [
      "DEBUG:urllib3.connectionpool:http://images.cocodataset.org:80 \"GET /train2017/000000192400.jpg HTTP/1.1\" 200 109525\n",
      "DEBUG:urllib3.connectionpool:Starting new HTTP connection (1): images.cocodataset.org:80\n"
     ]
    },
    {
     "name": "stdout",
     "output_type": "stream",
     "text": [
      "  17% |██------------| 15959/93578 [44.8m elapsed, 5.2h remaining, 1.7 images/s]  "
     ]
    },
    {
     "name": "stderr",
     "output_type": "stream",
     "text": [
      "DEBUG:urllib3.connectionpool:Starting new HTTP connection (1): images.cocodataset.org:80\n"
     ]
    },
    {
     "name": "stdout",
     "output_type": "stream",
     "text": [
      "  17% |██\\-----------| 15960/93578 [44.8m elapsed, 5.0h remaining, 1.9 images/s]  "
     ]
    },
    {
     "name": "stderr",
     "output_type": "stream",
     "text": [
      "DEBUG:urllib3.connectionpool:http://images.cocodataset.org:80 \"GET /train2017/000000192403.jpg HTTP/1.1\" 200 130811\n",
      "DEBUG:urllib3.connectionpool:http://images.cocodataset.org:80 \"GET /train2017/000000192406.jpg HTTP/1.1\" 200 160046\n"
     ]
    },
    {
     "name": "stdout",
     "output_type": "stream",
     "text": [
      "                                                                                  \r"
     ]
    },
    {
     "name": "stderr",
     "output_type": "stream",
     "text": [
      "DEBUG:urllib3.connectionpool:Starting new HTTP connection (1): images.cocodataset.org:80\n"
     ]
    },
    {
     "name": "stdout",
     "output_type": "stream",
     "text": [
      "  17% |██|-----------| 15961/93578 [44.9m elapsed, 5.0h remaining, 1.9 images/s]  "
     ]
    },
    {
     "name": "stderr",
     "output_type": "stream",
     "text": [
      "DEBUG:urllib3.connectionpool:Starting new HTTP connection (1): images.cocodataset.org:80\n",
      "DEBUG:urllib3.connectionpool:http://images.cocodataset.org:80 \"GET /train2017/000000192407.jpg HTTP/1.1\" 200 127839\n",
      "DEBUG:urllib3.connectionpool:http://images.cocodataset.org:80 \"GET /train2017/000000192410.jpg HTTP/1.1\" 200 267833\n"
     ]
    },
    {
     "name": "stdout",
     "output_type": "stream",
     "text": [
      "  17% |██/-----------| 15963/93578 [44.9m elapsed, 4.8h remaining, 2.0 images/s]  "
     ]
    },
    {
     "name": "stderr",
     "output_type": "stream",
     "text": [
      "DEBUG:urllib3.connectionpool:Starting new HTTP connection (1): images.cocodataset.org:80\n",
      "DEBUG:urllib3.connectionpool:http://images.cocodataset.org:80 \"GET /train2017/000000192436.jpg HTTP/1.1\" 200 176191\n",
      "DEBUG:urllib3.connectionpool:Starting new HTTP connection (1): images.cocodataset.org:80\n"
     ]
    },
    {
     "name": "stdout",
     "output_type": "stream",
     "text": [
      "  17% |██------------| 15964/93578 [44.9m elapsed, 4.9h remaining, 1.9 images/s]  "
     ]
    },
    {
     "name": "stderr",
     "output_type": "stream",
     "text": [
      "DEBUG:urllib3.connectionpool:http://images.cocodataset.org:80 \"GET /train2017/000000192437.jpg HTTP/1.1\" 200 216631\n"
     ]
    },
    {
     "name": "stdout",
     "output_type": "stream",
     "text": [
      "                                                                                  \r"
     ]
    },
    {
     "name": "stderr",
     "output_type": "stream",
     "text": [
      "DEBUG:urllib3.connectionpool:Starting new HTTP connection (1): images.cocodataset.org:80\n"
     ]
    },
    {
     "name": "stdout",
     "output_type": "stream",
     "text": [
      "  17% |██\\-----------| 15965/93578 [44.9m elapsed, 5.2h remaining, 1.7 images/s]  "
     ]
    },
    {
     "name": "stderr",
     "output_type": "stream",
     "text": [
      "DEBUG:urllib3.connectionpool:Starting new HTTP connection (1): images.cocodataset.org:80\n"
     ]
    },
    {
     "name": "stdout",
     "output_type": "stream",
     "text": [
      "  17% |██|-----------| 15966/93578 [44.9m elapsed, 5.0h remaining, 1.8 images/s]  "
     ]
    },
    {
     "name": "stderr",
     "output_type": "stream",
     "text": [
      "DEBUG:urllib3.connectionpool:http://images.cocodataset.org:80 \"GET /train2017/000000192440.jpg HTTP/1.1\" 200 92591\n",
      "DEBUG:urllib3.connectionpool:http://images.cocodataset.org:80 \"GET /train2017/000000192450.jpg HTTP/1.1\" 200 159795\n",
      "DEBUG:urllib3.connectionpool:Starting new HTTP connection (1): images.cocodataset.org:80\n"
     ]
    },
    {
     "name": "stdout",
     "output_type": "stream",
     "text": [
      "  17% |██/-----------| 15967/93578 [44.9m elapsed, 5.0h remaining, 1.9 images/s]  "
     ]
    },
    {
     "name": "stderr",
     "output_type": "stream",
     "text": [
      "DEBUG:urllib3.connectionpool:http://images.cocodataset.org:80 \"GET /train2017/000000192453.jpg HTTP/1.1\" 200 124992\n"
     ]
    },
    {
     "name": "stdout",
     "output_type": "stream",
     "text": [
      "                                                                                  \r"
     ]
    },
    {
     "name": "stderr",
     "output_type": "stream",
     "text": [
      "DEBUG:urllib3.connectionpool:Starting new HTTP connection (1): images.cocodataset.org:80\n"
     ]
    },
    {
     "name": "stdout",
     "output_type": "stream",
     "text": [
      "  17% |██------------| 15968/93578 [44.9m elapsed, 5.0h remaining, 1.9 images/s]  "
     ]
    },
    {
     "name": "stderr",
     "output_type": "stream",
     "text": [
      "DEBUG:urllib3.connectionpool:http://images.cocodataset.org:80 \"GET /train2017/000000192454.jpg HTTP/1.1\" 200 127111\n",
      "DEBUG:urllib3.connectionpool:Starting new HTTP connection (1): images.cocodataset.org:80\n"
     ]
    },
    {
     "name": "stdout",
     "output_type": "stream",
     "text": [
      "  17% |██\\-----------| 15969/93578 [44.9m elapsed, 4.9h remaining, 2.0 images/s]  "
     ]
    },
    {
     "name": "stderr",
     "output_type": "stream",
     "text": [
      "DEBUG:urllib3.connectionpool:http://images.cocodataset.org:80 \"GET /train2017/000000192457.jpg HTTP/1.1\" 200 82358\n"
     ]
    },
    {
     "name": "stdout",
     "output_type": "stream",
     "text": [
      "                                                                                  \r"
     ]
    },
    {
     "name": "stderr",
     "output_type": "stream",
     "text": [
      "DEBUG:urllib3.connectionpool:Starting new HTTP connection (1): images.cocodataset.org:80\n"
     ]
    },
    {
     "name": "stdout",
     "output_type": "stream",
     "text": [
      "                                                                                  \r"
     ]
    },
    {
     "name": "stderr",
     "output_type": "stream",
     "text": [
      "DEBUG:urllib3.connectionpool:Starting new HTTP connection (1): images.cocodataset.org:80\n"
     ]
    },
    {
     "name": "stdout",
     "output_type": "stream",
     "text": [
      "  17% |██/-----------| 15971/93578 [44.9m elapsed, 4.8h remaining, 2.1 images/s]  "
     ]
    },
    {
     "name": "stderr",
     "output_type": "stream",
     "text": [
      "DEBUG:urllib3.connectionpool:http://images.cocodataset.org:80 \"GET /train2017/000000192458.jpg HTTP/1.1\" 200 63501\n",
      "DEBUG:urllib3.connectionpool:http://images.cocodataset.org:80 \"GET /train2017/000000192464.jpg HTTP/1.1\" 200 110278\n",
      "DEBUG:urllib3.connectionpool:Starting new HTTP connection (1): images.cocodataset.org:80\n"
     ]
    },
    {
     "name": "stdout",
     "output_type": "stream",
     "text": [
      "  17% |██------------| 15972/93578 [44.9m elapsed, 4.8h remaining, 2.1 images/s]  "
     ]
    },
    {
     "name": "stderr",
     "output_type": "stream",
     "text": [
      "DEBUG:urllib3.connectionpool:http://images.cocodataset.org:80 \"GET /train2017/000000192476.jpg HTTP/1.1\" 200 115059\n",
      "DEBUG:urllib3.connectionpool:Starting new HTTP connection (1): images.cocodataset.org:80\n"
     ]
    },
    {
     "name": "stdout",
     "output_type": "stream",
     "text": [
      "  17% |██\\-----------| 15973/93578 [45.0m elapsed, 4.7h remaining, 2.2 images/s]  "
     ]
    },
    {
     "name": "stderr",
     "output_type": "stream",
     "text": [
      "DEBUG:urllib3.connectionpool:http://images.cocodataset.org:80 \"GET /train2017/000000192479.jpg HTTP/1.1\" 200 172184\n"
     ]
    },
    {
     "name": "stdout",
     "output_type": "stream",
     "text": [
      "  17% |██|-----------| 15974/93578 [45.0m elapsed, 4.4h remaining, 2.7 images/s]  "
     ]
    },
    {
     "name": "stderr",
     "output_type": "stream",
     "text": [
      "DEBUG:urllib3.connectionpool:Starting new HTTP connection (1): images.cocodataset.org:80\n",
      "DEBUG:urllib3.connectionpool:http://images.cocodataset.org:80 \"GET /train2017/000000192494.jpg HTTP/1.1\" 200 176760\n",
      "DEBUG:urllib3.connectionpool:Starting new HTTP connection (1): images.cocodataset.org:80\n"
     ]
    },
    {
     "name": "stdout",
     "output_type": "stream",
     "text": [
      "  17% |██/-----------| 15975/93578 [45.0m elapsed, 4.7h remaining, 2.1 images/s]  "
     ]
    },
    {
     "name": "stderr",
     "output_type": "stream",
     "text": [
      "DEBUG:urllib3.connectionpool:Starting new HTTP connection (1): images.cocodataset.org:80\n"
     ]
    },
    {
     "name": "stdout",
     "output_type": "stream",
     "text": [
      "  17% |██------------| 15976/93578 [45.0m elapsed, 4.5h remaining, 2.4 images/s]  "
     ]
    },
    {
     "name": "stderr",
     "output_type": "stream",
     "text": [
      "DEBUG:urllib3.connectionpool:http://images.cocodataset.org:80 \"GET /train2017/000000192496.jpg HTTP/1.1\" 200 179224\n",
      "DEBUG:urllib3.connectionpool:http://images.cocodataset.org:80 \"GET /train2017/000000192497.jpg HTTP/1.1\" 200 157334\n"
     ]
    },
    {
     "name": "stdout",
     "output_type": "stream",
     "text": [
      "                                                                                  \r"
     ]
    },
    {
     "name": "stderr",
     "output_type": "stream",
     "text": [
      "DEBUG:urllib3.connectionpool:Starting new HTTP connection (1): images.cocodataset.org:80\n"
     ]
    },
    {
     "name": "stdout",
     "output_type": "stream",
     "text": [
      "  17% |██\\-----------| 15977/93578 [45.0m elapsed, 4.7h remaining, 2.1 images/s]  "
     ]
    },
    {
     "name": "stderr",
     "output_type": "stream",
     "text": [
      "DEBUG:urllib3.connectionpool:http://images.cocodataset.org:80 \"GET /train2017/000000192500.jpg HTTP/1.1\" 200 184301\n"
     ]
    },
    {
     "name": "stdout",
     "output_type": "stream",
     "text": [
      "                                                                                  \r"
     ]
    },
    {
     "name": "stderr",
     "output_type": "stream",
     "text": [
      "DEBUG:urllib3.connectionpool:Starting new HTTP connection (1): images.cocodataset.org:80\n"
     ]
    },
    {
     "name": "stdout",
     "output_type": "stream",
     "text": [
      "  17% |██|-----------| 15978/93578 [45.0m elapsed, 4.9h remaining, 1.9 images/s]  "
     ]
    },
    {
     "name": "stderr",
     "output_type": "stream",
     "text": [
      "DEBUG:urllib3.connectionpool:Starting new HTTP connection (1): images.cocodataset.org:80\n"
     ]
    },
    {
     "name": "stdout",
     "output_type": "stream",
     "text": [
      "  17% |██/-----------| 15979/93578 [45.0m elapsed, 4.8h remaining, 2.0 images/s]  "
     ]
    },
    {
     "name": "stderr",
     "output_type": "stream",
     "text": [
      "DEBUG:urllib3.connectionpool:http://images.cocodataset.org:80 \"GET /train2017/000000192501.jpg HTTP/1.1\" 200 130859\n",
      "DEBUG:urllib3.connectionpool:http://images.cocodataset.org:80 \"GET /train2017/000000192502.jpg HTTP/1.1\" 200 176779\n",
      "DEBUG:urllib3.connectionpool:Starting new HTTP connection (1): images.cocodataset.org:80\n"
     ]
    },
    {
     "name": "stdout",
     "output_type": "stream",
     "text": [
      "                                                                                  \r"
     ]
    },
    {
     "name": "stderr",
     "output_type": "stream",
     "text": [
      "DEBUG:urllib3.connectionpool:Starting new HTTP connection (1): images.cocodataset.org:80\n"
     ]
    },
    {
     "name": "stdout",
     "output_type": "stream",
     "text": [
      "  17% |██\\-----------| 15981/93578 [45.0m elapsed, 5.0h remaining, 1.9 images/s]  "
     ]
    },
    {
     "name": "stderr",
     "output_type": "stream",
     "text": [
      "DEBUG:urllib3.connectionpool:http://images.cocodataset.org:80 \"GET /train2017/000000192513.jpg HTTP/1.1\" 200 325107\n",
      "DEBUG:urllib3.connectionpool:http://images.cocodataset.org:80 \"GET /train2017/000000192516.jpg HTTP/1.1\" 200 166903\n",
      "DEBUG:urllib3.connectionpool:Starting new HTTP connection (1): images.cocodataset.org:80\n"
     ]
    },
    {
     "name": "stdout",
     "output_type": "stream",
     "text": [
      "  17% |██|-----------| 15982/93578 [45.0m elapsed, 5.1h remaining, 1.8 images/s]  "
     ]
    },
    {
     "name": "stderr",
     "output_type": "stream",
     "text": [
      "DEBUG:urllib3.connectionpool:http://images.cocodataset.org:80 \"GET /train2017/000000192520.jpg HTTP/1.1\" 200 135453\n",
      "DEBUG:urllib3.connectionpool:Starting new HTTP connection (1): images.cocodataset.org:80\n"
     ]
    },
    {
     "name": "stdout",
     "output_type": "stream",
     "text": [
      "  17% |██/-----------| 15983/93578 [45.0m elapsed, 5.2h remaining, 1.7 images/s]  "
     ]
    },
    {
     "name": "stderr",
     "output_type": "stream",
     "text": [
      "DEBUG:urllib3.connectionpool:http://images.cocodataset.org:80 \"GET /train2017/000000192524.jpg HTTP/1.1\" 200 102498\n",
      "DEBUG:urllib3.connectionpool:Starting new HTTP connection (1): images.cocodataset.org:80\n"
     ]
    },
    {
     "name": "stdout",
     "output_type": "stream",
     "text": [
      "  17% |██------------| 15984/93578 [45.1m elapsed, 5.1h remaining, 1.8 images/s]  "
     ]
    },
    {
     "name": "stderr",
     "output_type": "stream",
     "text": [
      "DEBUG:urllib3.connectionpool:http://images.cocodataset.org:80 \"GET /train2017/000000192529.jpg HTTP/1.1\" 200 141822\n",
      "DEBUG:urllib3.connectionpool:Starting new HTTP connection (1): images.cocodataset.org:80\n"
     ]
    },
    {
     "name": "stdout",
     "output_type": "stream",
     "text": [
      "  17% |██\\-----------| 15985/93578 [45.1m elapsed, 5.3h remaining, 1.6 images/s]  "
     ]
    },
    {
     "name": "stderr",
     "output_type": "stream",
     "text": [
      "DEBUG:urllib3.connectionpool:http://images.cocodataset.org:80 \"GET /train2017/000000192531.jpg HTTP/1.1\" 200 160559\n",
      "DEBUG:urllib3.connectionpool:Starting new HTTP connection (1): images.cocodataset.org:80\n"
     ]
    },
    {
     "name": "stdout",
     "output_type": "stream",
     "text": [
      "  17% |██|-----------| 15986/93578 [45.1m elapsed, 5.1h remaining, 1.8 images/s]  "
     ]
    },
    {
     "name": "stderr",
     "output_type": "stream",
     "text": [
      "DEBUG:urllib3.connectionpool:Starting new HTTP connection (1): images.cocodataset.org:80\n"
     ]
    },
    {
     "name": "stdout",
     "output_type": "stream",
     "text": [
      "  17% |██/-----------| 15987/93578 [45.1m elapsed, 4.9h remaining, 2.0 images/s]  "
     ]
    },
    {
     "name": "stderr",
     "output_type": "stream",
     "text": [
      "DEBUG:urllib3.connectionpool:http://images.cocodataset.org:80 \"GET /train2017/000000192532.jpg HTTP/1.1\" 200 291140\n",
      "DEBUG:urllib3.connectionpool:http://images.cocodataset.org:80 \"GET /train2017/000000192535.jpg HTTP/1.1\" 200 161738\n"
     ]
    },
    {
     "name": "stdout",
     "output_type": "stream",
     "text": [
      "  17% |██------------| 15988/93578 [45.1m elapsed, 5.1h remaining, 1.8 images/s]  "
     ]
    },
    {
     "name": "stderr",
     "output_type": "stream",
     "text": [
      "DEBUG:urllib3.connectionpool:Starting new HTTP connection (1): images.cocodataset.org:80\n"
     ]
    },
    {
     "name": "stdout",
     "output_type": "stream",
     "text": [
      "                                                                                  \r"
     ]
    },
    {
     "name": "stderr",
     "output_type": "stream",
     "text": [
      "DEBUG:urllib3.connectionpool:Starting new HTTP connection (1): images.cocodataset.org:80\n"
     ]
    },
    {
     "name": "stdout",
     "output_type": "stream",
     "text": [
      "  17% |██\\-----------| 15989/93578 [45.1m elapsed, 4.8h remaining, 2.0 images/s]  "
     ]
    },
    {
     "name": "stderr",
     "output_type": "stream",
     "text": [
      "DEBUG:urllib3.connectionpool:http://images.cocodataset.org:80 \"GET /train2017/000000192539.jpg HTTP/1.1\" 200 305897\n",
      "DEBUG:urllib3.connectionpool:http://images.cocodataset.org:80 \"GET /train2017/000000192554.jpg HTTP/1.1\" 200 85459\n",
      "DEBUG:urllib3.connectionpool:Starting new HTTP connection (1): images.cocodataset.org:80\n"
     ]
    },
    {
     "name": "stdout",
     "output_type": "stream",
     "text": [
      "  17% |██|-----------| 15990/93578 [45.1m elapsed, 5.0h remaining, 1.8 images/s]  "
     ]
    },
    {
     "name": "stderr",
     "output_type": "stream",
     "text": [
      "DEBUG:urllib3.connectionpool:Starting new HTTP connection (1): images.cocodataset.org:80\n",
      "DEBUG:urllib3.connectionpool:http://images.cocodataset.org:80 \"GET /train2017/000000192560.jpg HTTP/1.1\" 200 145623\n",
      "DEBUG:urllib3.connectionpool:http://images.cocodataset.org:80 \"GET /train2017/000000192564.jpg HTTP/1.1\" 200 125346\n",
      "DEBUG:urllib3.connectionpool:Starting new HTTP connection (1): images.cocodataset.org:80\n"
     ]
    },
    {
     "name": "stdout",
     "output_type": "stream",
     "text": [
      "                                                                                  \r"
     ]
    },
    {
     "name": "stderr",
     "output_type": "stream",
     "text": [
      "DEBUG:urllib3.connectionpool:Starting new HTTP connection (1): images.cocodataset.org:80\n"
     ]
    },
    {
     "name": "stdout",
     "output_type": "stream",
     "text": [
      "  17% |██------------| 15993/93578 [45.1m elapsed, 4.7h remaining, 2.1 images/s]  "
     ]
    },
    {
     "name": "stderr",
     "output_type": "stream",
     "text": [
      "DEBUG:urllib3.connectionpool:http://images.cocodataset.org:80 \"GET /train2017/000000192566.jpg HTTP/1.1\" 200 85480\n",
      "DEBUG:urllib3.connectionpool:http://images.cocodataset.org:80 \"GET /train2017/000000192574.jpg HTTP/1.1\" 200 160346\n",
      "DEBUG:urllib3.connectionpool:Starting new HTTP connection (1): images.cocodataset.org:80\n"
     ]
    },
    {
     "name": "stdout",
     "output_type": "stream",
     "text": [
      "  17% |██\\-----------| 15994/93578 [45.1m elapsed, 4.6h remaining, 2.3 images/s]  "
     ]
    },
    {
     "name": "stderr",
     "output_type": "stream",
     "text": [
      "DEBUG:urllib3.connectionpool:Starting new HTTP connection (1): images.cocodataset.org:80\n"
     ]
    },
    {
     "name": "stdout",
     "output_type": "stream",
     "text": [
      "  17% |██|-----------| 15995/93578 [45.1m elapsed, 4.6h remaining, 2.4 images/s]  "
     ]
    },
    {
     "name": "stderr",
     "output_type": "stream",
     "text": [
      "DEBUG:urllib3.connectionpool:http://images.cocodataset.org:80 \"GET /train2017/000000192575.jpg HTTP/1.1\" 200 69052\n",
      "DEBUG:urllib3.connectionpool:Starting new HTTP connection (1): images.cocodataset.org:80\n"
     ]
    },
    {
     "name": "stdout",
     "output_type": "stream",
     "text": [
      "                                                                                  \r"
     ]
    },
    {
     "name": "stderr",
     "output_type": "stream",
     "text": [
      "DEBUG:urllib3.connectionpool:http://images.cocodataset.org:80 \"GET /train2017/000000192576.jpg HTTP/1.1\" 200 110731\n"
     ]
    },
    {
     "name": "stdout",
     "output_type": "stream",
     "text": [
      "  17% |██/-----------| 15996/93578 [45.1m elapsed, 4.5h remaining, 2.5 images/s]  "
     ]
    },
    {
     "name": "stderr",
     "output_type": "stream",
     "text": [
      "DEBUG:urllib3.connectionpool:http://images.cocodataset.org:80 \"GET /train2017/000000192577.jpg HTTP/1.1\" 200 134299\n"
     ]
    },
    {
     "name": "stdout",
     "output_type": "stream",
     "text": [
      "                                                                                  \r"
     ]
    },
    {
     "name": "stderr",
     "output_type": "stream",
     "text": [
      "DEBUG:urllib3.connectionpool:Starting new HTTP connection (1): images.cocodataset.org:80\n"
     ]
    },
    {
     "name": "stdout",
     "output_type": "stream",
     "text": [
      "  17% |██------------| 15997/93578 [45.1m elapsed, 4.6h remaining, 2.4 images/s]  "
     ]
    },
    {
     "name": "stderr",
     "output_type": "stream",
     "text": [
      "DEBUG:urllib3.connectionpool:http://images.cocodataset.org:80 \"GET /train2017/000000192579.jpg HTTP/1.1\" 200 101510\n",
      "DEBUG:urllib3.connectionpool:Starting new HTTP connection (1): images.cocodataset.org:80\n"
     ]
    },
    {
     "name": "stdout",
     "output_type": "stream",
     "text": [
      "  17% |██\\-----------| 15998/93578 [45.2m elapsed, 4.5h remaining, 2.5 images/s]  "
     ]
    },
    {
     "name": "stderr",
     "output_type": "stream",
     "text": [
      "DEBUG:urllib3.connectionpool:http://images.cocodataset.org:80 \"GET /train2017/000000192581.jpg HTTP/1.1\" 200 192344\n",
      "DEBUG:urllib3.connectionpool:Starting new HTTP connection (1): images.cocodataset.org:80\n"
     ]
    },
    {
     "name": "stdout",
     "output_type": "stream",
     "text": [
      "  17% |██|-----------| 15999/93578 [45.2m elapsed, 4.7h remaining, 2.2 images/s]  "
     ]
    },
    {
     "name": "stderr",
     "output_type": "stream",
     "text": [
      "DEBUG:urllib3.connectionpool:Starting new HTTP connection (1): images.cocodataset.org:80\n"
     ]
    },
    {
     "name": "stdout",
     "output_type": "stream",
     "text": [
      "  17% |██/-----------| 16000/93578 [45.2m elapsed, 4.5h remaining, 2.5 images/s]  "
     ]
    },
    {
     "name": "stderr",
     "output_type": "stream",
     "text": [
      "DEBUG:urllib3.connectionpool:http://images.cocodataset.org:80 \"GET /train2017/000000192585.jpg HTTP/1.1\" 200 166042\n",
      "DEBUG:urllib3.connectionpool:http://images.cocodataset.org:80 \"GET /train2017/000000192591.jpg HTTP/1.1\" 200 177672\n",
      "DEBUG:urllib3.connectionpool:Starting new HTTP connection (1): images.cocodataset.org:80\n"
     ]
    },
    {
     "name": "stdout",
     "output_type": "stream",
     "text": [
      "  17% |██\\-----------| 16002/93578 [45.2m elapsed, 4.6h remaining, 2.3 images/s]  "
     ]
    },
    {
     "name": "stderr",
     "output_type": "stream",
     "text": [
      "DEBUG:urllib3.connectionpool:Starting new HTTP connection (1): images.cocodataset.org:80\n",
      "DEBUG:urllib3.connectionpool:http://images.cocodataset.org:80 \"GET /train2017/000000192594.jpg HTTP/1.1\" 200 226730\n",
      "DEBUG:urllib3.connectionpool:http://images.cocodataset.org:80 \"GET /train2017/000000192616.jpg HTTP/1.1\" 200 199363\n"
     ]
    },
    {
     "name": "stdout",
     "output_type": "stream",
     "text": [
      "                                                                                  \r"
     ]
    },
    {
     "name": "stderr",
     "output_type": "stream",
     "text": [
      "DEBUG:urllib3.connectionpool:Starting new HTTP connection (1): images.cocodataset.org:80\n"
     ]
    },
    {
     "name": "stdout",
     "output_type": "stream",
     "text": [
      "  17% |██|-----------| 16003/93578 [45.2m elapsed, 4.7h remaining, 2.2 images/s]  "
     ]
    },
    {
     "name": "stderr",
     "output_type": "stream",
     "text": [
      "DEBUG:urllib3.connectionpool:Starting new HTTP connection (1): images.cocodataset.org:80\n"
     ]
    },
    {
     "name": "stdout",
     "output_type": "stream",
     "text": [
      "  17% |██/-----------| 16004/93578 [45.2m elapsed, 4.6h remaining, 2.3 images/s]  "
     ]
    },
    {
     "name": "stderr",
     "output_type": "stream",
     "text": [
      "DEBUG:urllib3.connectionpool:http://images.cocodataset.org:80 \"GET /train2017/000000192620.jpg HTTP/1.1\" 200 125559\n",
      "DEBUG:urllib3.connectionpool:http://images.cocodataset.org:80 \"GET /train2017/000000192627.jpg HTTP/1.1\" 200 212687\n",
      "DEBUG:urllib3.connectionpool:Starting new HTTP connection (1): images.cocodataset.org:80\n"
     ]
    },
    {
     "name": "stdout",
     "output_type": "stream",
     "text": [
      "  17% |██------------| 16005/93578 [45.2m elapsed, 4.8h remaining, 2.1 images/s]  "
     ]
    },
    {
     "name": "stderr",
     "output_type": "stream",
     "text": [
      "DEBUG:urllib3.connectionpool:Starting new HTTP connection (1): images.cocodataset.org:80\n"
     ]
    },
    {
     "name": "stdout",
     "output_type": "stream",
     "text": [
      "  17% |██\\-----------| 16006/93578 [45.2m elapsed, 4.7h remaining, 2.2 images/s]  "
     ]
    },
    {
     "name": "stderr",
     "output_type": "stream",
     "text": [
      "DEBUG:urllib3.connectionpool:http://images.cocodataset.org:80 \"GET /train2017/000000192631.jpg HTTP/1.1\" 200 134693\n",
      "DEBUG:urllib3.connectionpool:http://images.cocodataset.org:80 \"GET /train2017/000000192636.jpg HTTP/1.1\" 200 211049\n",
      "DEBUG:urllib3.connectionpool:Starting new HTTP connection (1): images.cocodataset.org:80\n"
     ]
    },
    {
     "name": "stdout",
     "output_type": "stream",
     "text": [
      "  17% |██|-----------| 16007/93578 [45.2m elapsed, 4.7h remaining, 2.2 images/s]  "
     ]
    },
    {
     "name": "stderr",
     "output_type": "stream",
     "text": [
      "DEBUG:urllib3.connectionpool:http://images.cocodataset.org:80 \"GET /train2017/000000192642.jpg HTTP/1.1\" 200 166389\n",
      "DEBUG:urllib3.connectionpool:Starting new HTTP connection (1): images.cocodataset.org:80\n"
     ]
    },
    {
     "name": "stdout",
     "output_type": "stream",
     "text": [
      "                                                                                  \r"
     ]
    },
    {
     "name": "stderr",
     "output_type": "stream",
     "text": [
      "DEBUG:urllib3.connectionpool:Starting new HTTP connection (1): images.cocodataset.org:80\n"
     ]
    },
    {
     "name": "stdout",
     "output_type": "stream",
     "text": [
      "  17% |██------------| 16009/93578 [45.2m elapsed, 4.8h remaining, 2.1 images/s]  "
     ]
    },
    {
     "name": "stderr",
     "output_type": "stream",
     "text": [
      "DEBUG:urllib3.connectionpool:http://images.cocodataset.org:80 \"GET /train2017/000000192651.jpg HTTP/1.1\" 200 104682\n",
      "DEBUG:urllib3.connectionpool:http://images.cocodataset.org:80 \"GET /train2017/000000192652.jpg HTTP/1.1\" 200 115032\n"
     ]
    },
    {
     "name": "stdout",
     "output_type": "stream",
     "text": [
      "  17% |██\\-----------| 16010/93578 [45.3m elapsed, 4.8h remaining, 2.0 images/s]  "
     ]
    },
    {
     "name": "stderr",
     "output_type": "stream",
     "text": [
      "DEBUG:urllib3.connectionpool:Starting new HTTP connection (1): images.cocodataset.org:80\n",
      "DEBUG:urllib3.connectionpool:Starting new HTTP connection (1): images.cocodataset.org:80\n"
     ]
    },
    {
     "name": "stdout",
     "output_type": "stream",
     "text": [
      "  17% |██|-----------| 16011/93578 [45.3m elapsed, 4.8h remaining, 2.1 images/s]  "
     ]
    },
    {
     "name": "stderr",
     "output_type": "stream",
     "text": [
      "DEBUG:urllib3.connectionpool:http://images.cocodataset.org:80 \"GET /train2017/000000192655.jpg HTTP/1.1\" 200 163740\n",
      "DEBUG:urllib3.connectionpool:http://images.cocodataset.org:80 \"GET /train2017/000000192656.jpg HTTP/1.1\" 200 124552\n"
     ]
    },
    {
     "name": "stdout",
     "output_type": "stream",
     "text": [
      "  17% |██/-----------| 16012/93578 [45.3m elapsed, 4.8h remaining, 2.1 images/s]  "
     ]
    },
    {
     "name": "stderr",
     "output_type": "stream",
     "text": [
      "DEBUG:urllib3.connectionpool:Starting new HTTP connection (1): images.cocodataset.org:80\n",
      "DEBUG:urllib3.connectionpool:http://images.cocodataset.org:80 \"GET /train2017/000000192660.jpg HTTP/1.1\" 200 185494\n",
      "DEBUG:urllib3.connectionpool:Starting new HTTP connection (1): images.cocodataset.org:80\n"
     ]
    },
    {
     "name": "stdout",
     "output_type": "stream",
     "text": [
      "  17% |██------------| 16013/93578 [45.3m elapsed, 5.0h remaining, 1.9 images/s]  "
     ]
    },
    {
     "name": "stderr",
     "output_type": "stream",
     "text": [
      "DEBUG:urllib3.connectionpool:http://images.cocodataset.org:80 \"GET /train2017/000000192669.jpg HTTP/1.1\" 200 146599\n",
      "DEBUG:urllib3.connectionpool:Starting new HTTP connection (1): images.cocodataset.org:80\n"
     ]
    },
    {
     "name": "stdout",
     "output_type": "stream",
     "text": [
      "  17% |██\\-----------| 16014/93578 [45.3m elapsed, 4.9h remaining, 2.0 images/s]  "
     ]
    },
    {
     "name": "stderr",
     "output_type": "stream",
     "text": [
      "DEBUG:urllib3.connectionpool:http://images.cocodataset.org:80 \"GET /train2017/000000192671.jpg HTTP/1.1\" 200 69576\n",
      "DEBUG:urllib3.connectionpool:Starting new HTTP connection (1): images.cocodataset.org:80\n"
     ]
    },
    {
     "name": "stdout",
     "output_type": "stream",
     "text": [
      "  17% |██|-----------| 16015/93578 [45.3m elapsed, 4.9h remaining, 1.9 images/s]  "
     ]
    },
    {
     "name": "stderr",
     "output_type": "stream",
     "text": [
      "DEBUG:urllib3.connectionpool:Starting new HTTP connection (1): images.cocodataset.org:80\n"
     ]
    },
    {
     "name": "stdout",
     "output_type": "stream",
     "text": [
      "  17% |██/-----------| 16016/93578 [45.3m elapsed, 4.8h remaining, 2.1 images/s]  "
     ]
    },
    {
     "name": "stderr",
     "output_type": "stream",
     "text": [
      "DEBUG:urllib3.connectionpool:http://images.cocodataset.org:80 \"GET /train2017/000000192676.jpg HTTP/1.1\" 200 156235\n",
      "DEBUG:urllib3.connectionpool:http://images.cocodataset.org:80 \"GET /train2017/000000192681.jpg HTTP/1.1\" 200 100697\n",
      "DEBUG:urllib3.connectionpool:Starting new HTTP connection (1): images.cocodataset.org:80\n"
     ]
    },
    {
     "name": "stdout",
     "output_type": "stream",
     "text": [
      "  17% |██------------| 16017/93578 [45.3m elapsed, 4.7h remaining, 2.2 images/s]  "
     ]
    },
    {
     "name": "stderr",
     "output_type": "stream",
     "text": [
      "DEBUG:urllib3.connectionpool:Starting new HTTP connection (1): images.cocodataset.org:80\n"
     ]
    },
    {
     "name": "stdout",
     "output_type": "stream",
     "text": [
      "  17% |██\\-----------| 16018/93578 [45.3m elapsed, 4.6h remaining, 2.3 images/s]  "
     ]
    },
    {
     "name": "stderr",
     "output_type": "stream",
     "text": [
      "DEBUG:urllib3.connectionpool:http://images.cocodataset.org:80 \"GET /train2017/000000192685.jpg HTTP/1.1\" 200 210212\n",
      "DEBUG:urllib3.connectionpool:http://images.cocodataset.org:80 \"GET /train2017/000000192692.jpg HTTP/1.1\" 200 154797\n",
      "DEBUG:urllib3.connectionpool:Starting new HTTP connection (1): images.cocodataset.org:80\n"
     ]
    },
    {
     "name": "stdout",
     "output_type": "stream",
     "text": [
      "  17% |██|-----------| 16019/93578 [45.3m elapsed, 4.7h remaining, 2.2 images/s]  "
     ]
    },
    {
     "name": "stderr",
     "output_type": "stream",
     "text": [
      "DEBUG:urllib3.connectionpool:Starting new HTTP connection (1): images.cocodataset.org:80\n",
      "DEBUG:urllib3.connectionpool:http://images.cocodataset.org:80 \"GET /train2017/000000192701.jpg HTTP/1.1\" 200 293812\n",
      "DEBUG:urllib3.connectionpool:http://images.cocodataset.org:80 \"GET /train2017/000000192702.jpg HTTP/1.1\" 200 150141\n"
     ]
    },
    {
     "name": "stdout",
     "output_type": "stream",
     "text": [
      "  17% |██/-----------| 16021/93578 [45.3m elapsed, 4.8h remaining, 2.1 images/s]  "
     ]
    },
    {
     "name": "stderr",
     "output_type": "stream",
     "text": [
      "DEBUG:urllib3.connectionpool:Starting new HTTP connection (1): images.cocodataset.org:80\n",
      "DEBUG:urllib3.connectionpool:Starting new HTTP connection (1): images.cocodataset.org:80\n"
     ]
    },
    {
     "name": "stdout",
     "output_type": "stream",
     "text": [
      "  17% |██------------| 16021/93578 [45.3m elapsed, 4.8h remaining, 2.1 images/s]  \n"
     ]
    },
    {
     "name": "stderr",
     "output_type": "stream",
     "text": [
      "INFO:eta.core.utils:  17% |██------------| 16021/93578 [45.3m elapsed, 4.8h remaining, 2.1 images/s]  \n"
     ]
    },
    {
     "ename": "ConnectionError",
     "evalue": "HTTPConnectionPool(host='images.cocodataset.org', port=80): Max retries exceeded with url: /train2017/000000192707.jpg (Caused by NewConnectionError('<urllib3.connection.HTTPConnection object at 0x0000026BA7CD0EB0>: Failed to establish a new connection: [Errno 11004] getaddrinfo failed'))",
     "output_type": "error",
     "traceback": [
      "\u001b[1;31m---------------------------------------------------------------------------\u001b[0m",
      "\u001b[1;31mgaierror\u001b[0m                                  Traceback (most recent call last)",
      "File \u001b[1;32md:\\dev\\darknet\\.venv\\lib\\site-packages\\urllib3\\connection.py:174\u001b[0m, in \u001b[0;36mHTTPConnection._new_conn\u001b[1;34m(self)\u001b[0m\n\u001b[0;32m    173\u001b[0m \u001b[39mtry\u001b[39;00m:\n\u001b[1;32m--> 174\u001b[0m     conn \u001b[39m=\u001b[39m connection\u001b[39m.\u001b[39mcreate_connection(\n\u001b[0;32m    175\u001b[0m         (\u001b[39mself\u001b[39m\u001b[39m.\u001b[39m_dns_host, \u001b[39mself\u001b[39m\u001b[39m.\u001b[39mport), \u001b[39mself\u001b[39m\u001b[39m.\u001b[39mtimeout, \u001b[39m*\u001b[39m\u001b[39m*\u001b[39mextra_kw\n\u001b[0;32m    176\u001b[0m     )\n\u001b[0;32m    178\u001b[0m \u001b[39mexcept\u001b[39;00m SocketTimeout:\n",
      "File \u001b[1;32md:\\dev\\darknet\\.venv\\lib\\site-packages\\urllib3\\util\\connection.py:72\u001b[0m, in \u001b[0;36mcreate_connection\u001b[1;34m(address, timeout, source_address, socket_options)\u001b[0m\n\u001b[0;32m     68\u001b[0m     \u001b[39mreturn\u001b[39;00m six\u001b[39m.\u001b[39mraise_from(\n\u001b[0;32m     69\u001b[0m         LocationParseError(\u001b[39mu\u001b[39m\u001b[39m\"\u001b[39m\u001b[39m'\u001b[39m\u001b[39m%s\u001b[39;00m\u001b[39m'\u001b[39m\u001b[39m, label empty or too long\u001b[39m\u001b[39m\"\u001b[39m \u001b[39m%\u001b[39m host), \u001b[39mNone\u001b[39;00m\n\u001b[0;32m     70\u001b[0m     )\n\u001b[1;32m---> 72\u001b[0m \u001b[39mfor\u001b[39;00m res \u001b[39min\u001b[39;00m socket\u001b[39m.\u001b[39;49mgetaddrinfo(host, port, family, socket\u001b[39m.\u001b[39;49mSOCK_STREAM):\n\u001b[0;32m     73\u001b[0m     af, socktype, proto, canonname, sa \u001b[39m=\u001b[39m res\n",
      "File \u001b[1;32mD:\\Python39\\lib\\socket.py:953\u001b[0m, in \u001b[0;36mgetaddrinfo\u001b[1;34m(host, port, family, type, proto, flags)\u001b[0m\n\u001b[0;32m    952\u001b[0m addrlist \u001b[39m=\u001b[39m []\n\u001b[1;32m--> 953\u001b[0m \u001b[39mfor\u001b[39;00m res \u001b[39min\u001b[39;00m _socket\u001b[39m.\u001b[39;49mgetaddrinfo(host, port, family, \u001b[39mtype\u001b[39;49m, proto, flags):\n\u001b[0;32m    954\u001b[0m     af, socktype, proto, canonname, sa \u001b[39m=\u001b[39m res\n",
      "\u001b[1;31mgaierror\u001b[0m: [Errno 11004] getaddrinfo failed",
      "\nDuring handling of the above exception, another exception occurred:\n",
      "\u001b[1;31mNewConnectionError\u001b[0m                        Traceback (most recent call last)",
      "File \u001b[1;32md:\\dev\\darknet\\.venv\\lib\\site-packages\\urllib3\\connectionpool.py:703\u001b[0m, in \u001b[0;36mHTTPConnectionPool.urlopen\u001b[1;34m(self, method, url, body, headers, retries, redirect, assert_same_host, timeout, pool_timeout, release_conn, chunked, body_pos, **response_kw)\u001b[0m\n\u001b[0;32m    702\u001b[0m \u001b[39m# Make the request on the httplib connection object.\u001b[39;00m\n\u001b[1;32m--> 703\u001b[0m httplib_response \u001b[39m=\u001b[39m \u001b[39mself\u001b[39;49m\u001b[39m.\u001b[39;49m_make_request(\n\u001b[0;32m    704\u001b[0m     conn,\n\u001b[0;32m    705\u001b[0m     method,\n\u001b[0;32m    706\u001b[0m     url,\n\u001b[0;32m    707\u001b[0m     timeout\u001b[39m=\u001b[39;49mtimeout_obj,\n\u001b[0;32m    708\u001b[0m     body\u001b[39m=\u001b[39;49mbody,\n\u001b[0;32m    709\u001b[0m     headers\u001b[39m=\u001b[39;49mheaders,\n\u001b[0;32m    710\u001b[0m     chunked\u001b[39m=\u001b[39;49mchunked,\n\u001b[0;32m    711\u001b[0m )\n\u001b[0;32m    713\u001b[0m \u001b[39m# If we're going to release the connection in ``finally:``, then\u001b[39;00m\n\u001b[0;32m    714\u001b[0m \u001b[39m# the response doesn't need to know about the connection. Otherwise\u001b[39;00m\n\u001b[0;32m    715\u001b[0m \u001b[39m# it will also try to release it and we'll have a double-release\u001b[39;00m\n\u001b[0;32m    716\u001b[0m \u001b[39m# mess.\u001b[39;00m\n",
      "File \u001b[1;32md:\\dev\\darknet\\.venv\\lib\\site-packages\\urllib3\\connectionpool.py:398\u001b[0m, in \u001b[0;36mHTTPConnectionPool._make_request\u001b[1;34m(self, conn, method, url, timeout, chunked, **httplib_request_kw)\u001b[0m\n\u001b[0;32m    397\u001b[0m     \u001b[39melse\u001b[39;00m:\n\u001b[1;32m--> 398\u001b[0m         conn\u001b[39m.\u001b[39mrequest(method, url, \u001b[39m*\u001b[39m\u001b[39m*\u001b[39mhttplib_request_kw)\n\u001b[0;32m    400\u001b[0m \u001b[39m# We are swallowing BrokenPipeError (errno.EPIPE) since the server is\u001b[39;00m\n\u001b[0;32m    401\u001b[0m \u001b[39m# legitimately able to close the connection after sending a valid response.\u001b[39;00m\n\u001b[0;32m    402\u001b[0m \u001b[39m# With this behaviour, the received response is still readable.\u001b[39;00m\n",
      "File \u001b[1;32md:\\dev\\darknet\\.venv\\lib\\site-packages\\urllib3\\connection.py:244\u001b[0m, in \u001b[0;36mHTTPConnection.request\u001b[1;34m(self, method, url, body, headers)\u001b[0m\n\u001b[0;32m    243\u001b[0m     headers[\u001b[39m\"\u001b[39m\u001b[39mUser-Agent\u001b[39m\u001b[39m\"\u001b[39m] \u001b[39m=\u001b[39m _get_default_user_agent()\n\u001b[1;32m--> 244\u001b[0m \u001b[39msuper\u001b[39;49m(HTTPConnection, \u001b[39mself\u001b[39;49m)\u001b[39m.\u001b[39;49mrequest(method, url, body\u001b[39m=\u001b[39;49mbody, headers\u001b[39m=\u001b[39;49mheaders)\n",
      "File \u001b[1;32mD:\\Python39\\lib\\http\\client.py:1255\u001b[0m, in \u001b[0;36mHTTPConnection.request\u001b[1;34m(self, method, url, body, headers, encode_chunked)\u001b[0m\n\u001b[0;32m   1254\u001b[0m \u001b[39m\u001b[39m\u001b[39m\"\"\"Send a complete request to the server.\"\"\"\u001b[39;00m\n\u001b[1;32m-> 1255\u001b[0m \u001b[39mself\u001b[39;49m\u001b[39m.\u001b[39;49m_send_request(method, url, body, headers, encode_chunked)\n",
      "File \u001b[1;32mD:\\Python39\\lib\\http\\client.py:1301\u001b[0m, in \u001b[0;36mHTTPConnection._send_request\u001b[1;34m(self, method, url, body, headers, encode_chunked)\u001b[0m\n\u001b[0;32m   1300\u001b[0m     body \u001b[39m=\u001b[39m _encode(body, \u001b[39m'\u001b[39m\u001b[39mbody\u001b[39m\u001b[39m'\u001b[39m)\n\u001b[1;32m-> 1301\u001b[0m \u001b[39mself\u001b[39;49m\u001b[39m.\u001b[39;49mendheaders(body, encode_chunked\u001b[39m=\u001b[39;49mencode_chunked)\n",
      "File \u001b[1;32mD:\\Python39\\lib\\http\\client.py:1250\u001b[0m, in \u001b[0;36mHTTPConnection.endheaders\u001b[1;34m(self, message_body, encode_chunked)\u001b[0m\n\u001b[0;32m   1249\u001b[0m     \u001b[39mraise\u001b[39;00m CannotSendHeader()\n\u001b[1;32m-> 1250\u001b[0m \u001b[39mself\u001b[39;49m\u001b[39m.\u001b[39;49m_send_output(message_body, encode_chunked\u001b[39m=\u001b[39;49mencode_chunked)\n",
      "File \u001b[1;32mD:\\Python39\\lib\\http\\client.py:1010\u001b[0m, in \u001b[0;36mHTTPConnection._send_output\u001b[1;34m(self, message_body, encode_chunked)\u001b[0m\n\u001b[0;32m   1009\u001b[0m \u001b[39mdel\u001b[39;00m \u001b[39mself\u001b[39m\u001b[39m.\u001b[39m_buffer[:]\n\u001b[1;32m-> 1010\u001b[0m \u001b[39mself\u001b[39;49m\u001b[39m.\u001b[39;49msend(msg)\n\u001b[0;32m   1012\u001b[0m \u001b[39mif\u001b[39;00m message_body \u001b[39mis\u001b[39;00m \u001b[39mnot\u001b[39;00m \u001b[39mNone\u001b[39;00m:\n\u001b[0;32m   1013\u001b[0m \n\u001b[0;32m   1014\u001b[0m     \u001b[39m# create a consistent interface to message_body\u001b[39;00m\n",
      "File \u001b[1;32mD:\\Python39\\lib\\http\\client.py:950\u001b[0m, in \u001b[0;36mHTTPConnection.send\u001b[1;34m(self, data)\u001b[0m\n\u001b[0;32m    949\u001b[0m \u001b[39mif\u001b[39;00m \u001b[39mself\u001b[39m\u001b[39m.\u001b[39mauto_open:\n\u001b[1;32m--> 950\u001b[0m     \u001b[39mself\u001b[39;49m\u001b[39m.\u001b[39;49mconnect()\n\u001b[0;32m    951\u001b[0m \u001b[39melse\u001b[39;00m:\n",
      "File \u001b[1;32md:\\dev\\darknet\\.venv\\lib\\site-packages\\urllib3\\connection.py:205\u001b[0m, in \u001b[0;36mHTTPConnection.connect\u001b[1;34m(self)\u001b[0m\n\u001b[0;32m    204\u001b[0m \u001b[39mdef\u001b[39;00m \u001b[39mconnect\u001b[39m(\u001b[39mself\u001b[39m):\n\u001b[1;32m--> 205\u001b[0m     conn \u001b[39m=\u001b[39m \u001b[39mself\u001b[39;49m\u001b[39m.\u001b[39;49m_new_conn()\n\u001b[0;32m    206\u001b[0m     \u001b[39mself\u001b[39m\u001b[39m.\u001b[39m_prepare_conn(conn)\n",
      "File \u001b[1;32md:\\dev\\darknet\\.venv\\lib\\site-packages\\urllib3\\connection.py:186\u001b[0m, in \u001b[0;36mHTTPConnection._new_conn\u001b[1;34m(self)\u001b[0m\n\u001b[0;32m    185\u001b[0m \u001b[39mexcept\u001b[39;00m SocketError \u001b[39mas\u001b[39;00m e:\n\u001b[1;32m--> 186\u001b[0m     \u001b[39mraise\u001b[39;00m NewConnectionError(\n\u001b[0;32m    187\u001b[0m         \u001b[39mself\u001b[39m, \u001b[39m\"\u001b[39m\u001b[39mFailed to establish a new connection: \u001b[39m\u001b[39m%s\u001b[39;00m\u001b[39m\"\u001b[39m \u001b[39m%\u001b[39m e\n\u001b[0;32m    188\u001b[0m     )\n\u001b[0;32m    190\u001b[0m \u001b[39mreturn\u001b[39;00m conn\n",
      "\u001b[1;31mNewConnectionError\u001b[0m: <urllib3.connection.HTTPConnection object at 0x0000026BA7CD0EB0>: Failed to establish a new connection: [Errno 11004] getaddrinfo failed",
      "\nDuring handling of the above exception, another exception occurred:\n",
      "\u001b[1;31mMaxRetryError\u001b[0m                             Traceback (most recent call last)",
      "File \u001b[1;32md:\\dev\\darknet\\.venv\\lib\\site-packages\\requests\\adapters.py:489\u001b[0m, in \u001b[0;36mHTTPAdapter.send\u001b[1;34m(self, request, stream, timeout, verify, cert, proxies)\u001b[0m\n\u001b[0;32m    488\u001b[0m \u001b[39mif\u001b[39;00m \u001b[39mnot\u001b[39;00m chunked:\n\u001b[1;32m--> 489\u001b[0m     resp \u001b[39m=\u001b[39m conn\u001b[39m.\u001b[39;49murlopen(\n\u001b[0;32m    490\u001b[0m         method\u001b[39m=\u001b[39;49mrequest\u001b[39m.\u001b[39;49mmethod,\n\u001b[0;32m    491\u001b[0m         url\u001b[39m=\u001b[39;49murl,\n\u001b[0;32m    492\u001b[0m         body\u001b[39m=\u001b[39;49mrequest\u001b[39m.\u001b[39;49mbody,\n\u001b[0;32m    493\u001b[0m         headers\u001b[39m=\u001b[39;49mrequest\u001b[39m.\u001b[39;49mheaders,\n\u001b[0;32m    494\u001b[0m         redirect\u001b[39m=\u001b[39;49m\u001b[39mFalse\u001b[39;49;00m,\n\u001b[0;32m    495\u001b[0m         assert_same_host\u001b[39m=\u001b[39;49m\u001b[39mFalse\u001b[39;49;00m,\n\u001b[0;32m    496\u001b[0m         preload_content\u001b[39m=\u001b[39;49m\u001b[39mFalse\u001b[39;49;00m,\n\u001b[0;32m    497\u001b[0m         decode_content\u001b[39m=\u001b[39;49m\u001b[39mFalse\u001b[39;49;00m,\n\u001b[0;32m    498\u001b[0m         retries\u001b[39m=\u001b[39;49m\u001b[39mself\u001b[39;49m\u001b[39m.\u001b[39;49mmax_retries,\n\u001b[0;32m    499\u001b[0m         timeout\u001b[39m=\u001b[39;49mtimeout,\n\u001b[0;32m    500\u001b[0m     )\n\u001b[0;32m    502\u001b[0m \u001b[39m# Send the request.\u001b[39;00m\n\u001b[0;32m    503\u001b[0m \u001b[39melse\u001b[39;00m:\n",
      "File \u001b[1;32md:\\dev\\darknet\\.venv\\lib\\site-packages\\urllib3\\connectionpool.py:787\u001b[0m, in \u001b[0;36mHTTPConnectionPool.urlopen\u001b[1;34m(self, method, url, body, headers, retries, redirect, assert_same_host, timeout, pool_timeout, release_conn, chunked, body_pos, **response_kw)\u001b[0m\n\u001b[0;32m    785\u001b[0m     e \u001b[39m=\u001b[39m ProtocolError(\u001b[39m\"\u001b[39m\u001b[39mConnection aborted.\u001b[39m\u001b[39m\"\u001b[39m, e)\n\u001b[1;32m--> 787\u001b[0m retries \u001b[39m=\u001b[39m retries\u001b[39m.\u001b[39;49mincrement(\n\u001b[0;32m    788\u001b[0m     method, url, error\u001b[39m=\u001b[39;49me, _pool\u001b[39m=\u001b[39;49m\u001b[39mself\u001b[39;49m, _stacktrace\u001b[39m=\u001b[39;49msys\u001b[39m.\u001b[39;49mexc_info()[\u001b[39m2\u001b[39;49m]\n\u001b[0;32m    789\u001b[0m )\n\u001b[0;32m    790\u001b[0m retries\u001b[39m.\u001b[39msleep()\n",
      "File \u001b[1;32md:\\dev\\darknet\\.venv\\lib\\site-packages\\urllib3\\util\\retry.py:592\u001b[0m, in \u001b[0;36mRetry.increment\u001b[1;34m(self, method, url, response, error, _pool, _stacktrace)\u001b[0m\n\u001b[0;32m    591\u001b[0m \u001b[39mif\u001b[39;00m new_retry\u001b[39m.\u001b[39mis_exhausted():\n\u001b[1;32m--> 592\u001b[0m     \u001b[39mraise\u001b[39;00m MaxRetryError(_pool, url, error \u001b[39mor\u001b[39;00m ResponseError(cause))\n\u001b[0;32m    594\u001b[0m log\u001b[39m.\u001b[39mdebug(\u001b[39m\"\u001b[39m\u001b[39mIncremented Retry for (url=\u001b[39m\u001b[39m'\u001b[39m\u001b[39m%s\u001b[39;00m\u001b[39m'\u001b[39m\u001b[39m): \u001b[39m\u001b[39m%r\u001b[39;00m\u001b[39m\"\u001b[39m, url, new_retry)\n",
      "\u001b[1;31mMaxRetryError\u001b[0m: HTTPConnectionPool(host='images.cocodataset.org', port=80): Max retries exceeded with url: /train2017/000000192707.jpg (Caused by NewConnectionError('<urllib3.connection.HTTPConnection object at 0x0000026BA7CD0EB0>: Failed to establish a new connection: [Errno 11004] getaddrinfo failed'))",
      "\nDuring handling of the above exception, another exception occurred:\n",
      "\u001b[1;31mConnectionError\u001b[0m                           Traceback (most recent call last)",
      "Cell \u001b[1;32mIn[32], line 3\u001b[0m\n\u001b[0;32m      1\u001b[0m \u001b[39mif\u001b[39;00m \u001b[39mnot\u001b[39;00m safety_trigger:\n\u001b[0;32m      2\u001b[0m     \u001b[39m# Выполнение кода грохнет текущий датасет и начнёт долгое скачивание заново!\u001b[39;00m\n\u001b[1;32m----> 3\u001b[0m     dataset \u001b[39m=\u001b[39m foz\u001b[39m.\u001b[39;49mload_zoo_dataset(\n\u001b[0;32m      4\u001b[0m         \u001b[39m\"\u001b[39;49m\u001b[39mcoco-2017\u001b[39;49m\u001b[39m\"\u001b[39;49m,\n\u001b[0;32m      5\u001b[0m         splits\u001b[39m=\u001b[39;49m[\u001b[39m\"\u001b[39;49m\u001b[39mtrain\u001b[39;49m\u001b[39m\"\u001b[39;49m, \u001b[39m\"\u001b[39;49m\u001b[39mvalidation\u001b[39;49m\u001b[39m\"\u001b[39;49m, \u001b[39m\"\u001b[39;49m\u001b[39mtest\u001b[39;49m\u001b[39m\"\u001b[39;49m],\n\u001b[0;32m      6\u001b[0m         dataset_dir\u001b[39m=\u001b[39;49mcoco_dataset_dir,\n\u001b[0;32m      7\u001b[0m         dataset_name\u001b[39m=\u001b[39;49mdataset_name,\n\u001b[0;32m      8\u001b[0m         dataset_type\u001b[39m=\u001b[39;49mfo\u001b[39m.\u001b[39;49mtypes\u001b[39m.\u001b[39;49mCOCODetectionDataset,\n\u001b[0;32m      9\u001b[0m         classes\u001b[39m=\u001b[39;49mCOCO_CLASSES,\n\u001b[0;32m     10\u001b[0m         \u001b[39m# drop_existing_dataset=True,\u001b[39;49;00m\n\u001b[0;32m     11\u001b[0m         \u001b[39m# only_matching=False,\u001b[39;49;00m\n\u001b[0;32m     12\u001b[0m         \u001b[39m# shuffle=True,\u001b[39;49;00m\n\u001b[0;32m     13\u001b[0m         \u001b[39m# max_samples=1000\u001b[39;49;00m\n\u001b[0;32m     14\u001b[0m     )\n\u001b[0;32m     15\u001b[0m     safety_trigger \u001b[39m=\u001b[39m \u001b[39mTrue\u001b[39;00m\n\u001b[0;32m     16\u001b[0m \u001b[39melse\u001b[39;00m:\n",
      "File \u001b[1;32md:\\dev\\darknet\\.venv\\lib\\site-packages\\fiftyone\\zoo\\datasets\\__init__.py:251\u001b[0m, in \u001b[0;36mload_zoo_dataset\u001b[1;34m(name, split, splits, label_field, dataset_name, dataset_dir, download_if_necessary, drop_existing_dataset, overwrite, cleanup, **kwargs)\u001b[0m\n\u001b[0;32m    246\u001b[0m     zoo_dataset_cls \u001b[39m=\u001b[39m _get_zoo_dataset_cls(name)\n\u001b[0;32m    247\u001b[0m     download_kwargs, _ \u001b[39m=\u001b[39m fou\u001b[39m.\u001b[39mextract_kwargs_for_class(\n\u001b[0;32m    248\u001b[0m         zoo_dataset_cls, kwargs\n\u001b[0;32m    249\u001b[0m     )\n\u001b[1;32m--> 251\u001b[0m     info, dataset_dir \u001b[39m=\u001b[39m download_zoo_dataset(\n\u001b[0;32m    252\u001b[0m         name,\n\u001b[0;32m    253\u001b[0m         splits\u001b[39m=\u001b[39msplits,\n\u001b[0;32m    254\u001b[0m         dataset_dir\u001b[39m=\u001b[39mdataset_dir,\n\u001b[0;32m    255\u001b[0m         overwrite\u001b[39m=\u001b[39moverwrite,\n\u001b[0;32m    256\u001b[0m         cleanup\u001b[39m=\u001b[39mcleanup,\n\u001b[0;32m    257\u001b[0m         \u001b[39m*\u001b[39m\u001b[39m*\u001b[39mdownload_kwargs,\n\u001b[0;32m    258\u001b[0m     )\n\u001b[0;32m    259\u001b[0m     zoo_dataset \u001b[39m=\u001b[39m info\u001b[39m.\u001b[39mget_zoo_dataset()\n\u001b[0;32m    260\u001b[0m \u001b[39melse\u001b[39;00m:\n",
      "File \u001b[1;32md:\\dev\\darknet\\.venv\\lib\\site-packages\\fiftyone\\zoo\\datasets\\__init__.py:170\u001b[0m, in \u001b[0;36mdownload_zoo_dataset\u001b[1;34m(name, split, splits, dataset_dir, overwrite, cleanup, **kwargs)\u001b[0m\n\u001b[0;32m    135\u001b[0m \u001b[39m\u001b[39m\u001b[39m\"\"\"Downloads the dataset of the given name from the FiftyOne Dataset Zoo.\u001b[39;00m\n\u001b[0;32m    136\u001b[0m \n\u001b[0;32m    137\u001b[0m \u001b[39mAny dataset splits that already exist in the specified directory are not\u001b[39;00m\n\u001b[1;32m   (...)\u001b[0m\n\u001b[0;32m    165\u001b[0m \u001b[39m    -   dataset_dir: the directory containing the dataset\u001b[39;00m\n\u001b[0;32m    166\u001b[0m \u001b[39m\"\"\"\u001b[39;00m\n\u001b[0;32m    167\u001b[0m zoo_dataset, dataset_dir \u001b[39m=\u001b[39m _parse_dataset_details(\n\u001b[0;32m    168\u001b[0m     name, dataset_dir, \u001b[39m*\u001b[39m\u001b[39m*\u001b[39mkwargs\n\u001b[0;32m    169\u001b[0m )\n\u001b[1;32m--> 170\u001b[0m \u001b[39mreturn\u001b[39;00m zoo_dataset\u001b[39m.\u001b[39;49mdownload_and_prepare(\n\u001b[0;32m    171\u001b[0m     dataset_dir\u001b[39m=\u001b[39;49mdataset_dir,\n\u001b[0;32m    172\u001b[0m     split\u001b[39m=\u001b[39;49msplit,\n\u001b[0;32m    173\u001b[0m     splits\u001b[39m=\u001b[39;49msplits,\n\u001b[0;32m    174\u001b[0m     overwrite\u001b[39m=\u001b[39;49moverwrite,\n\u001b[0;32m    175\u001b[0m     cleanup\u001b[39m=\u001b[39;49mcleanup,\n\u001b[0;32m    176\u001b[0m )\n",
      "File \u001b[1;32md:\\dev\\darknet\\.venv\\lib\\site-packages\\fiftyone\\zoo\\datasets\\__init__.py:1076\u001b[0m, in \u001b[0;36mZooDataset.download_and_prepare\u001b[1;34m(self, dataset_dir, split, splits, overwrite, cleanup)\u001b[0m\n\u001b[0;32m   1064\u001b[0m \u001b[39melse\u001b[39;00m:\n\u001b[0;32m   1065\u001b[0m     logger\u001b[39m.\u001b[39minfo(\n\u001b[0;32m   1066\u001b[0m         \u001b[39m\"\u001b[39m\u001b[39mDownloading split \u001b[39m\u001b[39m'\u001b[39m\u001b[39m%s\u001b[39;00m\u001b[39m'\u001b[39m\u001b[39m to \u001b[39m\u001b[39m'\u001b[39m\u001b[39m%s\u001b[39;00m\u001b[39m'\u001b[39m\u001b[39m%s\u001b[39;00m\u001b[39m\"\u001b[39m,\n\u001b[0;32m   1067\u001b[0m         split,\n\u001b[0;32m   1068\u001b[0m         split_dir,\n\u001b[0;32m   1069\u001b[0m         suffix,\n\u001b[0;32m   1070\u001b[0m     )\n\u001b[0;32m   1072\u001b[0m (\n\u001b[0;32m   1073\u001b[0m     dataset_type,\n\u001b[0;32m   1074\u001b[0m     num_samples,\n\u001b[0;32m   1075\u001b[0m     classes,\n\u001b[1;32m-> 1076\u001b[0m ) \u001b[39m=\u001b[39m \u001b[39mself\u001b[39;49m\u001b[39m.\u001b[39;49m_download_and_prepare(split_dir, scratch_dir, split)\n\u001b[0;32m   1078\u001b[0m \u001b[39m# Add split to ZooDatasetInfo\u001b[39;00m\n\u001b[0;32m   1079\u001b[0m \u001b[39mif\u001b[39;00m info \u001b[39mis\u001b[39;00m \u001b[39mNone\u001b[39;00m:\n",
      "File \u001b[1;32md:\\dev\\darknet\\.venv\\lib\\site-packages\\fiftyone\\zoo\\datasets\\base.py:1147\u001b[0m, in \u001b[0;36mCOCO2017Dataset._download_and_prepare\u001b[1;34m(self, dataset_dir, scratch_dir, split)\u001b[0m\n\u001b[0;32m   1146\u001b[0m \u001b[39mdef\u001b[39;00m \u001b[39m_download_and_prepare\u001b[39m(\u001b[39mself\u001b[39m, dataset_dir, scratch_dir, split):\n\u001b[1;32m-> 1147\u001b[0m     num_samples, classes, downloaded \u001b[39m=\u001b[39m fouc\u001b[39m.\u001b[39;49mdownload_coco_dataset_split(\n\u001b[0;32m   1148\u001b[0m         dataset_dir,\n\u001b[0;32m   1149\u001b[0m         split,\n\u001b[0;32m   1150\u001b[0m         year\u001b[39m=\u001b[39;49m\u001b[39m\"\u001b[39;49m\u001b[39m2017\u001b[39;49m\u001b[39m\"\u001b[39;49m,\n\u001b[0;32m   1151\u001b[0m         label_types\u001b[39m=\u001b[39;49m\u001b[39mself\u001b[39;49m\u001b[39m.\u001b[39;49mlabel_types,\n\u001b[0;32m   1152\u001b[0m         classes\u001b[39m=\u001b[39;49m\u001b[39mself\u001b[39;49m\u001b[39m.\u001b[39;49mclasses,\n\u001b[0;32m   1153\u001b[0m         image_ids\u001b[39m=\u001b[39;49m\u001b[39mself\u001b[39;49m\u001b[39m.\u001b[39;49mimage_ids,\n\u001b[0;32m   1154\u001b[0m         num_workers\u001b[39m=\u001b[39;49m\u001b[39mself\u001b[39;49m\u001b[39m.\u001b[39;49mnum_workers,\n\u001b[0;32m   1155\u001b[0m         shuffle\u001b[39m=\u001b[39;49m\u001b[39mself\u001b[39;49m\u001b[39m.\u001b[39;49mshuffle,\n\u001b[0;32m   1156\u001b[0m         seed\u001b[39m=\u001b[39;49m\u001b[39mself\u001b[39;49m\u001b[39m.\u001b[39;49mseed,\n\u001b[0;32m   1157\u001b[0m         max_samples\u001b[39m=\u001b[39;49m\u001b[39mself\u001b[39;49m\u001b[39m.\u001b[39;49mmax_samples,\n\u001b[0;32m   1158\u001b[0m         raw_dir\u001b[39m=\u001b[39;49m\u001b[39mself\u001b[39;49m\u001b[39m.\u001b[39;49m_get_raw_dir(dataset_dir),\n\u001b[0;32m   1159\u001b[0m         scratch_dir\u001b[39m=\u001b[39;49mscratch_dir,\n\u001b[0;32m   1160\u001b[0m     )\n\u001b[0;32m   1162\u001b[0m     dataset_type \u001b[39m=\u001b[39m fot\u001b[39m.\u001b[39mCOCODetectionDataset()\n\u001b[0;32m   1164\u001b[0m     \u001b[39mif\u001b[39;00m \u001b[39mnot\u001b[39;00m downloaded:\n",
      "File \u001b[1;32md:\\dev\\darknet\\.venv\\lib\\site-packages\\fiftyone\\utils\\coco.py:1695\u001b[0m, in \u001b[0;36mdownload_coco_dataset_split\u001b[1;34m(dataset_dir, split, year, label_types, classes, image_ids, num_workers, shuffle, seed, max_samples, raw_dir, scratch_dir)\u001b[0m\n\u001b[0;32m   1692\u001b[0m         logger\u001b[39m.\u001b[39minfo(\u001b[39m\"\u001b[39m\u001b[39mDownloading \u001b[39m\u001b[39m%d\u001b[39;00m\u001b[39m images\u001b[39m\u001b[39m\"\u001b[39m, num_download)\n\u001b[0;32m   1694\u001b[0m     \u001b[39mif\u001b[39;00m num_download \u001b[39m>\u001b[39m \u001b[39m0\u001b[39m:\n\u001b[1;32m-> 1695\u001b[0m         _download_images(images_dir, download_ids, images, num_workers)\n\u001b[0;32m   1696\u001b[0m         did_download \u001b[39m=\u001b[39m \u001b[39mTrue\u001b[39;00m\n\u001b[0;32m   1698\u001b[0m downloaded_filenames \u001b[39m=\u001b[39m etau\u001b[39m.\u001b[39mlist_files(images_dir)\n",
      "File \u001b[1;32md:\\dev\\darknet\\.venv\\lib\\site-packages\\fiftyone\\utils\\coco.py:1875\u001b[0m, in \u001b[0;36m_download_images\u001b[1;34m(images_dir, image_ids, images, num_workers)\u001b[0m\n\u001b[0;32m   1873\u001b[0m \u001b[39mwith\u001b[39;00m fou\u001b[39m.\u001b[39mProgressBar(total\u001b[39m=\u001b[39m\u001b[39mlen\u001b[39m(tasks), iters_str\u001b[39m=\u001b[39m\u001b[39m\"\u001b[39m\u001b[39mimages\u001b[39m\u001b[39m\"\u001b[39m) \u001b[39mas\u001b[39;00m pb:\n\u001b[0;32m   1874\u001b[0m     \u001b[39mwith\u001b[39;00m multiprocessing\u001b[39m.\u001b[39mdummy\u001b[39m.\u001b[39mPool(num_workers) \u001b[39mas\u001b[39;00m pool:\n\u001b[1;32m-> 1875\u001b[0m         \u001b[39mfor\u001b[39;00m _ \u001b[39min\u001b[39;00m pool\u001b[39m.\u001b[39mimap_unordered(_do_download, tasks):\n\u001b[0;32m   1876\u001b[0m             pb\u001b[39m.\u001b[39mupdate()\n",
      "File \u001b[1;32mD:\\Python39\\lib\\multiprocessing\\pool.py:870\u001b[0m, in \u001b[0;36mIMapIterator.next\u001b[1;34m(self, timeout)\u001b[0m\n\u001b[0;32m    868\u001b[0m \u001b[39mif\u001b[39;00m success:\n\u001b[0;32m    869\u001b[0m     \u001b[39mreturn\u001b[39;00m value\n\u001b[1;32m--> 870\u001b[0m \u001b[39mraise\u001b[39;00m value\n",
      "File \u001b[1;32mD:\\Python39\\lib\\multiprocessing\\pool.py:125\u001b[0m, in \u001b[0;36mworker\u001b[1;34m(inqueue, outqueue, initializer, initargs, maxtasks, wrap_exception)\u001b[0m\n\u001b[0;32m    123\u001b[0m job, i, func, args, kwds \u001b[39m=\u001b[39m task\n\u001b[0;32m    124\u001b[0m \u001b[39mtry\u001b[39;00m:\n\u001b[1;32m--> 125\u001b[0m     result \u001b[39m=\u001b[39m (\u001b[39mTrue\u001b[39;00m, func(\u001b[39m*\u001b[39margs, \u001b[39m*\u001b[39m\u001b[39m*\u001b[39mkwds))\n\u001b[0;32m    126\u001b[0m \u001b[39mexcept\u001b[39;00m \u001b[39mException\u001b[39;00m \u001b[39mas\u001b[39;00m e:\n\u001b[0;32m    127\u001b[0m     \u001b[39mif\u001b[39;00m wrap_exception \u001b[39mand\u001b[39;00m func \u001b[39mis\u001b[39;00m \u001b[39mnot\u001b[39;00m _helper_reraises_exception:\n",
      "File \u001b[1;32md:\\dev\\darknet\\.venv\\lib\\site-packages\\fiftyone\\utils\\coco.py:1881\u001b[0m, in \u001b[0;36m_do_download\u001b[1;34m(args)\u001b[0m\n\u001b[0;32m   1879\u001b[0m \u001b[39mdef\u001b[39;00m \u001b[39m_do_download\u001b[39m(args):\n\u001b[0;32m   1880\u001b[0m     url, path \u001b[39m=\u001b[39m args\n\u001b[1;32m-> 1881\u001b[0m     etaw\u001b[39m.\u001b[39;49mdownload_file(url, path\u001b[39m=\u001b[39;49mpath, quiet\u001b[39m=\u001b[39;49m\u001b[39mTrue\u001b[39;49;00m)\n",
      "File \u001b[1;32md:\\dev\\darknet\\.venv\\lib\\site-packages\\eta\\core\\web.py:67\u001b[0m, in \u001b[0;36mdownload_file\u001b[1;34m(url, path, chunk_size, verify, quiet)\u001b[0m\n\u001b[0;32m     49\u001b[0m \u001b[39m\u001b[39m\u001b[39m\"\"\"Downloads a file from a URL. If a path is specified, the file is written\u001b[39;00m\n\u001b[0;32m     50\u001b[0m \u001b[39mthere. Otherwise, the content is returned as a binary string.\u001b[39;00m\n\u001b[0;32m     51\u001b[0m \n\u001b[1;32m   (...)\u001b[0m\n\u001b[0;32m     64\u001b[0m \u001b[39m    WebSessionError: if the download failed\u001b[39;00m\n\u001b[0;32m     65\u001b[0m \u001b[39m\"\"\"\u001b[39;00m\n\u001b[0;32m     66\u001b[0m sess \u001b[39m=\u001b[39m WebSession(chunk_size\u001b[39m=\u001b[39mchunk_size, verify\u001b[39m=\u001b[39mverify, quiet\u001b[39m=\u001b[39mquiet)\n\u001b[1;32m---> 67\u001b[0m \u001b[39mreturn\u001b[39;00m sess\u001b[39m.\u001b[39;49mwrite(path, url) \u001b[39mif\u001b[39;00m path \u001b[39melse\u001b[39;00m sess\u001b[39m.\u001b[39mget(url)\n",
      "File \u001b[1;32md:\\dev\\darknet\\.venv\\lib\\site-packages\\eta\\core\\web.py:147\u001b[0m, in \u001b[0;36mWebSession.write\u001b[1;34m(self, path, url, params)\u001b[0m\n\u001b[0;32m    133\u001b[0m \u001b[39mdef\u001b[39;00m \u001b[39mwrite\u001b[39m(\u001b[39mself\u001b[39m, path, url, params\u001b[39m=\u001b[39m\u001b[39mNone\u001b[39;00m):\n\u001b[0;32m    134\u001b[0m \u001b[39m    \u001b[39m\u001b[39m\"\"\"Writes the URL content to the given local path.\u001b[39;00m\n\u001b[0;32m    135\u001b[0m \n\u001b[0;32m    136\u001b[0m \u001b[39m    The download is performed in chunks, so arbitrarily large files can\u001b[39;00m\n\u001b[1;32m   (...)\u001b[0m\n\u001b[0;32m    145\u001b[0m \u001b[39m        WebSessionError: if the download failed\u001b[39;00m\n\u001b[0;32m    146\u001b[0m \u001b[39m    \"\"\"\u001b[39;00m\n\u001b[1;32m--> 147\u001b[0m     r \u001b[39m=\u001b[39m \u001b[39mself\u001b[39;49m\u001b[39m.\u001b[39;49m_get_streaming_response(url, params\u001b[39m=\u001b[39;49mparams)\n\u001b[0;32m    148\u001b[0m     etau\u001b[39m.\u001b[39mensure_basedir(path)\n\u001b[0;32m    149\u001b[0m     \u001b[39mwith\u001b[39;00m \u001b[39mopen\u001b[39m(path, \u001b[39m\"\u001b[39m\u001b[39mwb\u001b[39m\u001b[39m\"\u001b[39m) \u001b[39mas\u001b[39;00m f:\n",
      "File \u001b[1;32md:\\dev\\darknet\\.venv\\lib\\site-packages\\eta\\core\\web.py:153\u001b[0m, in \u001b[0;36mWebSession._get_streaming_response\u001b[1;34m(self, url, headers, params)\u001b[0m\n\u001b[0;32m    152\u001b[0m \u001b[39mdef\u001b[39;00m \u001b[39m_get_streaming_response\u001b[39m(\u001b[39mself\u001b[39m, url, headers\u001b[39m=\u001b[39m\u001b[39mNone\u001b[39;00m, params\u001b[39m=\u001b[39m\u001b[39mNone\u001b[39;00m):\n\u001b[1;32m--> 153\u001b[0m     r \u001b[39m=\u001b[39m \u001b[39mself\u001b[39;49m\u001b[39m.\u001b[39;49msess\u001b[39m.\u001b[39;49mget(\n\u001b[0;32m    154\u001b[0m         url,\n\u001b[0;32m    155\u001b[0m         headers\u001b[39m=\u001b[39;49mheaders,\n\u001b[0;32m    156\u001b[0m         params\u001b[39m=\u001b[39;49mparams,\n\u001b[0;32m    157\u001b[0m         stream\u001b[39m=\u001b[39;49m\u001b[39mTrue\u001b[39;49;00m,\n\u001b[0;32m    158\u001b[0m         verify\u001b[39m=\u001b[39;49m\u001b[39mself\u001b[39;49m\u001b[39m.\u001b[39;49mverify,\n\u001b[0;32m    159\u001b[0m     )\n\u001b[0;32m    161\u001b[0m     \u001b[39mif\u001b[39;00m r\u001b[39m.\u001b[39mstatus_code \u001b[39mnot\u001b[39;00m \u001b[39min\u001b[39;00m (\u001b[39m200\u001b[39m, \u001b[39m206\u001b[39m):\n\u001b[0;32m    162\u001b[0m         \u001b[39mraise\u001b[39;00m WebSessionError(\u001b[39m\"\u001b[39m\u001b[39mUnable to get \u001b[39m\u001b[39m'\u001b[39m\u001b[39m%s\u001b[39;00m\u001b[39m'\u001b[39m\u001b[39m\"\u001b[39m \u001b[39m%\u001b[39m url)\n",
      "File \u001b[1;32md:\\dev\\darknet\\.venv\\lib\\site-packages\\requests\\sessions.py:600\u001b[0m, in \u001b[0;36mSession.get\u001b[1;34m(self, url, **kwargs)\u001b[0m\n\u001b[0;32m    592\u001b[0m \u001b[39m\u001b[39m\u001b[39mr\u001b[39m\u001b[39m\"\"\"Sends a GET request. Returns :class:`Response` object.\u001b[39;00m\n\u001b[0;32m    593\u001b[0m \n\u001b[0;32m    594\u001b[0m \u001b[39m:param url: URL for the new :class:`Request` object.\u001b[39;00m\n\u001b[0;32m    595\u001b[0m \u001b[39m:param \\*\\*kwargs: Optional arguments that ``request`` takes.\u001b[39;00m\n\u001b[0;32m    596\u001b[0m \u001b[39m:rtype: requests.Response\u001b[39;00m\n\u001b[0;32m    597\u001b[0m \u001b[39m\"\"\"\u001b[39;00m\n\u001b[0;32m    599\u001b[0m kwargs\u001b[39m.\u001b[39msetdefault(\u001b[39m\"\u001b[39m\u001b[39mallow_redirects\u001b[39m\u001b[39m\"\u001b[39m, \u001b[39mTrue\u001b[39;00m)\n\u001b[1;32m--> 600\u001b[0m \u001b[39mreturn\u001b[39;00m \u001b[39mself\u001b[39m\u001b[39m.\u001b[39mrequest(\u001b[39m\"\u001b[39m\u001b[39mGET\u001b[39m\u001b[39m\"\u001b[39m, url, \u001b[39m*\u001b[39m\u001b[39m*\u001b[39mkwargs)\n",
      "File \u001b[1;32md:\\dev\\darknet\\.venv\\lib\\site-packages\\requests\\sessions.py:587\u001b[0m, in \u001b[0;36mSession.request\u001b[1;34m(self, method, url, params, data, headers, cookies, files, auth, timeout, allow_redirects, proxies, hooks, stream, verify, cert, json)\u001b[0m\n\u001b[0;32m    582\u001b[0m send_kwargs \u001b[39m=\u001b[39m {\n\u001b[0;32m    583\u001b[0m     \u001b[39m\"\u001b[39m\u001b[39mtimeout\u001b[39m\u001b[39m\"\u001b[39m: timeout,\n\u001b[0;32m    584\u001b[0m     \u001b[39m\"\u001b[39m\u001b[39mallow_redirects\u001b[39m\u001b[39m\"\u001b[39m: allow_redirects,\n\u001b[0;32m    585\u001b[0m }\n\u001b[0;32m    586\u001b[0m send_kwargs\u001b[39m.\u001b[39mupdate(settings)\n\u001b[1;32m--> 587\u001b[0m resp \u001b[39m=\u001b[39m \u001b[39mself\u001b[39m\u001b[39m.\u001b[39msend(prep, \u001b[39m*\u001b[39m\u001b[39m*\u001b[39msend_kwargs)\n\u001b[0;32m    589\u001b[0m \u001b[39mreturn\u001b[39;00m resp\n",
      "File \u001b[1;32md:\\dev\\darknet\\.venv\\lib\\site-packages\\requests\\sessions.py:701\u001b[0m, in \u001b[0;36mSession.send\u001b[1;34m(self, request, **kwargs)\u001b[0m\n\u001b[0;32m    698\u001b[0m start \u001b[39m=\u001b[39m preferred_clock()\n\u001b[0;32m    700\u001b[0m \u001b[39m# Send the request\u001b[39;00m\n\u001b[1;32m--> 701\u001b[0m r \u001b[39m=\u001b[39m adapter\u001b[39m.\u001b[39msend(request, \u001b[39m*\u001b[39m\u001b[39m*\u001b[39mkwargs)\n\u001b[0;32m    703\u001b[0m \u001b[39m# Total elapsed time of the request (approximately)\u001b[39;00m\n\u001b[0;32m    704\u001b[0m elapsed \u001b[39m=\u001b[39m preferred_clock() \u001b[39m-\u001b[39m start\n",
      "File \u001b[1;32md:\\dev\\darknet\\.venv\\lib\\site-packages\\requests\\adapters.py:565\u001b[0m, in \u001b[0;36mHTTPAdapter.send\u001b[1;34m(self, request, stream, timeout, verify, cert, proxies)\u001b[0m\n\u001b[0;32m    561\u001b[0m     \u001b[39mif\u001b[39;00m \u001b[39misinstance\u001b[39m(e\u001b[39m.\u001b[39mreason, _SSLError):\n\u001b[0;32m    562\u001b[0m         \u001b[39m# This branch is for urllib3 v1.22 and later.\u001b[39;00m\n\u001b[0;32m    563\u001b[0m         \u001b[39mraise\u001b[39;00m SSLError(e, request\u001b[39m=\u001b[39mrequest)\n\u001b[1;32m--> 565\u001b[0m     \u001b[39mraise\u001b[39;00m \u001b[39mConnectionError\u001b[39;00m(e, request\u001b[39m=\u001b[39mrequest)\n\u001b[0;32m    567\u001b[0m \u001b[39mexcept\u001b[39;00m ClosedPoolError \u001b[39mas\u001b[39;00m e:\n\u001b[0;32m    568\u001b[0m     \u001b[39mraise\u001b[39;00m \u001b[39mConnectionError\u001b[39;00m(e, request\u001b[39m=\u001b[39mrequest)\n",
      "\u001b[1;31mConnectionError\u001b[0m: HTTPConnectionPool(host='images.cocodataset.org', port=80): Max retries exceeded with url: /train2017/000000192707.jpg (Caused by NewConnectionError('<urllib3.connection.HTTPConnection object at 0x0000026BA7CD0EB0>: Failed to establish a new connection: [Errno 11004] getaddrinfo failed'))"
     ]
    }
   ],
   "source": [
    "if not safety_trigger:\n",
    "    # Выполнение кода грохнет текущий датасет и начнёт долгое скачивание заново!\n",
    "    dataset = foz.load_zoo_dataset(\n",
    "        \"coco-2017\",\n",
    "        splits=[\"train\", \"validation\", \"test\"],\n",
    "        dataset_dir=coco_dataset_dir,\n",
    "        dataset_name=dataset_name,\n",
    "        dataset_type=fo.types.COCODetectionDataset,\n",
    "        classes=COCO_CLASSES,\n",
    "        # drop_existing_dataset=True,\n",
    "        # only_matching=False,\n",
    "        # shuffle=True,\n",
    "        # max_samples=1000\n",
    "    )\n",
    "    safety_trigger = True\n",
    "else:\n",
    "    print('Check safety trigger!')"
   ]
  },
  {
   "cell_type": "markdown",
   "metadata": {
    "collapsed": false
   },
   "source": [
    "## ПООЧЕРЁДНО ЗАГРУЖАЕМ КАЖДЫЙ СПЛИТ И ЭКСПОРТИРУЕМ В СООТВЕТСТВУЮЩУЮ ПАПКУ"
   ]
  },
  {
   "cell_type": "code",
   "execution_count": 46,
   "metadata": {
    "collapsed": false
   },
   "outputs": [],
   "source": [
    "dataset = fo.load_dataset(dataset_name)"
   ]
  },
  {
   "cell_type": "code",
   "execution_count": null,
   "metadata": {
    "collapsed": false
   },
   "outputs": [],
   "source": [
    "import shutil\n",
    "from tqdm.notebook import tqdm\n",
    "from pathlib import Path\n",
    "from time import sleep\n",
    "\n",
    "splits = ['train', 'validation', 'test'] # Splits for export\n",
    "paths = {}\n",
    "\n",
    "for split in splits:\n",
    "    split_view = dataset.match_tags(split)\n",
    "    if split == 'validation':\n",
    "        split = 'valid'  # For Yolo compatibility\n",
    "    export_dir = Path(os.path.join(yolov4_export_dir, split))\n",
    "    logging.info(f'{export_dir=}')\n",
    "    split_view.export(\n",
    "        export_dir=str(export_dir),\n",
    "        dataset_type=fo.types.YOLOv4Dataset,\n",
    "        label_field=label_field,\n",
    "        classes=TARGET_CLASSES,\n",
    "    )\n",
    "\n",
    "    yolov4_export_dir = Path(yolov4_export_dir)\n",
    "    split_path = Path(os.path.join(yolov4_export_dir, split))\n",
    "    data_path = Path(os.path.join(yolov4_export_dir, split,'data'))  # Abs path\n",
    "    logging.debug(f'{split_path=}')\n",
    "    logging.debug(f'{data_path=}')\n",
    "\n",
    "    for file_path in split_path.glob('*'):\n",
    "        if file_path.is_dir():\n",
    "            continue\n",
    "        file_path.unlink()\n",
    "        logging.info(f'{file_path} is deleted')\n",
    "\n",
    "    # Читаем все .jpg файлы в /data\n",
    "    logging.info(f'Reading all files in data_path to file_list')\n",
    "    file_list = []\n",
    "    for file_path in tqdm(list(data_path.glob('*.jpg'))):\n",
    "        file_list.append(str(file_path.resolve()))\n",
    "\n",
    "\n",
    "\n",
    "    # Записываем список файлов в {split}.txt\n",
    "    logging.info(f'Writing file_list to annotations file')\n",
    "    annotations_file = yolov4_export_dir / f'{split}.txt'\n",
    "    with open(annotations_file, 'w') as f:\n",
    "        for file_path in tqdm(file_list):\n",
    "            # print(f'{file_path=}')\n",
    "            f.write(file_path+'\\n')\n",
    "\n",
    "    # Добавляем пути к сплитам в словарь\n",
    "    paths[split] = str(annotations_file)\n",
    "\n",
    "\n",
    "\n",
    "\n",
    "num_classes = len(TARGET_CLASSES)\n",
    "classes_file_name = yolov4_export_dir / 'obj.names'\n",
    "data_file_name = yolov4_export_dir / 'obj.data'\n",
    "backup_dir_name = yolov4_export_dir / 'backup'\n",
    "\n",
    "# Создать папку backup\n",
    "backup_dir_name.mkdir(parents=True, exist_ok=True)\n",
    "paths['backup'] = str(backup_dir_name)\n",
    "\n",
    "# Сформировать obj.names и obj.data\n",
    "\n",
    "with open(classes_file_name, \"w\") as f:\n",
    "    for name in TARGET_CLASSES:\n",
    "        f.write(name)\n",
    "\n",
    "with open(data_file_name, \"w\") as f:\n",
    "    # Добавить в obj.data кол-во классов, пути на аннотации и бэкап\n",
    "    f.write(f'classes = {num_classes}\\n')\n",
    "    for key, value in paths.items():\n",
    "        f.write(f'{key} = {value}\\n')\n",
    "    f.write(f'names = {classes_file_name}\\n')\n",
    "\n",
    "\n"
   ]
  },
  {
   "cell_type": "code",
   "execution_count": null,
   "metadata": {
    "collapsed": false
   },
   "outputs": [],
   "source": []
  },
  {
   "cell_type": "markdown",
   "metadata": {
    "collapsed": false
   },
   "source": [
    "## СКРИПТ ДЛЯ РАСПРЕДЕЛЕНИЯ ДАТАСЕТА\n",
    "\n",
    "- dataset   - valid - .jpg / .txt\n",
    "            - train - .jpg / .txt\n",
    "            - test  - .jpg\n",
    "\n",
    "    - Для каждой папки перебрать .jpg и составить список train/valid/test.txt\n",
    "    - Файлы со списками сохранить в dataset\n",
    "    - В dataset папку backup\n",
    "    - В dataset создать файл obj.data:\n",
    "        classes =   {кол-во_классов}\n",
    "        train =     {абсолютный пусть до train.txt}\n",
    "        valid =     ...\n",
    "        names =     {абсолютный пусть до obj.names}\n",
    "        backup =    {абсолютный пусть до папки backup}"
   ]
  },
  {
   "cell_type": "code",
   "execution_count": null,
   "metadata": {
    "collapsed": false
   },
   "outputs": [],
   "source": []
  },
  {
   "cell_type": "markdown",
   "metadata": {
    "collapsed": false
   },
   "source": [
    "# БЭКАПИЛКА"
   ]
  },
  {
   "cell_type": "code",
   "execution_count": null,
   "metadata": {
    "collapsed": false
   },
   "outputs": [],
   "source": [
    "import os\n",
    "import time\n",
    "import tarfile\n",
    "\n",
    "def make_archive(dir_path):\n",
    "    now = time.strftime('%Y_%m_%d_%H%M%S')\n",
    "    archive_name = f'{dir_path}_{now}.tar'\n",
    "    i = 0\n",
    "    while os.path.exists(archive_name):\n",
    "        i += 1\n",
    "        archive_name = f'{dir_path}_{now}_{i}.tar'\n",
    "    with tarfile.open(archive_name, 'w') as archive:\n",
    "        archive.add(dir_path, arcname=os.path.basename(dir_path), mode='a')"
   ]
  }
 ],
 "metadata": {
  "kernelspec": {
   "display_name": "Python 3",
   "language": "python",
   "name": "python3"
  },
  "language_info": {
   "codemirror_mode": {
    "name": "ipython",
    "version": 3
   },
   "file_extension": ".py",
   "mimetype": "text/x-python",
   "name": "python",
   "nbconvert_exporter": "python",
   "pygments_lexer": "ipython3",
   "version": "3.9.0"
  }
 },
 "nbformat": 4,
 "nbformat_minor": 0
}
