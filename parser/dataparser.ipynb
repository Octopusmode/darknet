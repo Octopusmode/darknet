{
 "cells": [
  {
   "cell_type": "code",
   "execution_count": 38,
   "metadata": {
    "collapsed": true
   },
   "outputs": [],
   "source": [
    "import fiftyone as fo\n",
    "import fiftyone.zoo as foz\n",
    "import os\n",
    "import logging\n",
    "\n",
    "logging.basicConfig(level=logging.DEBUG)\n",
    "\n",
    "COCO_CLASSES = ['person', 'bicycle', 'car', 'motorcycle', 'airplane', 'bus', 'train', 'truck', 'boat', 'traffic light',\n",
    "        'fire hydrant', 'stop sign', 'parking meter', 'bench', 'bird', 'cat', 'dog', 'horse', 'sheep', 'cow',\n",
    "        'elephant', 'bear', 'zebra', 'giraffe', 'backpack', 'umbrella', 'handbag', 'tie', 'suitcase', 'frisbee',\n",
    "        'skis', 'snowboard', 'sports ball', 'kite', 'baseball bat', 'baseball glove', 'skateboard', 'surfboard',\n",
    "        'tennis racket', 'bottle', 'wine glass', 'cup', 'fork', 'knife', 'spoon', 'bowl', 'banana', 'apple',\n",
    "        'sandwich', 'orange', 'broccoli', 'carrot', 'hot dog', 'pizza', 'donut', 'cake', 'chair', 'couch',\n",
    "        'potted plant', 'bed', 'dining table', 'toilet', 'tv', 'laptop', 'mouse', 'remote', 'keyboard', 'cell phone',\n",
    "        'microwave', 'oven', 'toaster', 'sink', 'refrigerator', 'book', 'clock', 'vase', 'scissors', 'teddy bear',\n",
    "        'hair drier', 'toothbrush']"
   ]
  },
  {
   "cell_type": "code",
   "execution_count": 43,
   "outputs": [],
   "source": [
    "safety_trigger = False"
   ],
   "metadata": {
    "collapsed": false
   }
  },
  {
   "cell_type": "code",
   "execution_count": 44,
   "outputs": [],
   "source": [
    "PROJECT_NAME = 'person'\n",
    "ROOT_DIR = '/home/mosminin/datasets/COCO2017'\n",
    "\n",
    "\n",
    "\n",
    "coco_dataset_dir = os.path.join(ROOT_DIR, 'coco2017_all_classes')\n",
    "dataset_name = f'coco_{PROJECT_NAME}'\n",
    "\n",
    "# Настройки экспорта\n",
    "TARGET_CLASSES = ['person'] # Список нужных классов\n",
    "yolov4_export_dir = os.path.join(ROOT_DIR, f'coco2017_yolov4_{PROJECT_NAME}') # Целевая папка\n",
    "label_field = \"ground_truth\""
   ],
   "metadata": {
    "collapsed": false
   }
  },
  {
   "cell_type": "markdown",
   "source": [
    "# ПАРСИНГ ДАТАСЕТА COCO-2017 ДЛЯ YOLOV4"
   ],
   "metadata": {
    "collapsed": false
   }
  },
  {
   "cell_type": "markdown",
   "source": [
    "## СКАЧИВАЕМ ПОЛНЫЙ ДАТАСЕТ COCO-2017"
   ],
   "metadata": {
    "collapsed": false
   }
  },
  {
   "cell_type": "code",
   "execution_count": 45,
   "outputs": [
    {
     "name": "stdout",
     "output_type": "stream",
     "text": [
      "Downloading split 'train' to '/home/mosminin/datasets/COCO2017/coco2017_all_classes/train' if necessary\n"
     ]
    },
    {
     "name": "stderr",
     "output_type": "stream",
     "text": [
      "INFO:fiftyone.zoo.datasets:Downloading split 'train' to '/home/mosminin/datasets/COCO2017/coco2017_all_classes/train' if necessary\n"
     ]
    },
    {
     "name": "stdout",
     "output_type": "stream",
     "text": [
      "Found annotations at '/home/mosminin/datasets/COCO2017/coco2017_all_classes/raw/instances_train2017.json'\n"
     ]
    },
    {
     "name": "stderr",
     "output_type": "stream",
     "text": [
      "INFO:fiftyone.utils.coco:Found annotations at '/home/mosminin/datasets/COCO2017/coco2017_all_classes/raw/instances_train2017.json'\n"
     ]
    },
    {
     "name": "stdout",
     "output_type": "stream",
     "text": [
      "Sufficient images already downloaded\n"
     ]
    },
    {
     "name": "stderr",
     "output_type": "stream",
     "text": [
      "INFO:fiftyone.utils.coco:Sufficient images already downloaded\n"
     ]
    },
    {
     "name": "stdout",
     "output_type": "stream",
     "text": [
      "Existing download of split 'train' is sufficient\n"
     ]
    },
    {
     "name": "stderr",
     "output_type": "stream",
     "text": [
      "INFO:fiftyone.zoo.datasets:Existing download of split 'train' is sufficient\n"
     ]
    },
    {
     "name": "stdout",
     "output_type": "stream",
     "text": [
      "Downloading split 'validation' to '/home/mosminin/datasets/COCO2017/coco2017_all_classes/validation' if necessary\n"
     ]
    },
    {
     "name": "stderr",
     "output_type": "stream",
     "text": [
      "INFO:fiftyone.zoo.datasets:Downloading split 'validation' to '/home/mosminin/datasets/COCO2017/coco2017_all_classes/validation' if necessary\n"
     ]
    },
    {
     "name": "stdout",
     "output_type": "stream",
     "text": [
      "Found annotations at '/home/mosminin/datasets/COCO2017/coco2017_all_classes/raw/instances_val2017.json'\n"
     ]
    },
    {
     "name": "stderr",
     "output_type": "stream",
     "text": [
      "INFO:fiftyone.utils.coco:Found annotations at '/home/mosminin/datasets/COCO2017/coco2017_all_classes/raw/instances_val2017.json'\n"
     ]
    },
    {
     "name": "stdout",
     "output_type": "stream",
     "text": [
      "Sufficient images already downloaded\n"
     ]
    },
    {
     "name": "stderr",
     "output_type": "stream",
     "text": [
      "INFO:fiftyone.utils.coco:Sufficient images already downloaded\n"
     ]
    },
    {
     "name": "stdout",
     "output_type": "stream",
     "text": [
      "Existing download of split 'validation' is sufficient\n"
     ]
    },
    {
     "name": "stderr",
     "output_type": "stream",
     "text": [
      "INFO:fiftyone.zoo.datasets:Existing download of split 'validation' is sufficient\n"
     ]
    },
    {
     "name": "stdout",
     "output_type": "stream",
     "text": [
      "Downloading split 'test' to '/home/mosminin/datasets/COCO2017/coco2017_all_classes/test' if necessary\n"
     ]
    },
    {
     "name": "stderr",
     "output_type": "stream",
     "text": [
      "INFO:fiftyone.zoo.datasets:Downloading split 'test' to '/home/mosminin/datasets/COCO2017/coco2017_all_classes/test' if necessary\n"
     ]
    },
    {
     "name": "stdout",
     "output_type": "stream",
     "text": [
      "Test split is unlabeled; ignoring classes requirement\n"
     ]
    },
    {
     "name": "stderr",
     "output_type": "stream",
     "text": [
      "WARNING:fiftyone.utils.coco:Test split is unlabeled; ignoring classes requirement\n"
     ]
    },
    {
     "name": "stdout",
     "output_type": "stream",
     "text": [
      "Found test info at '/home/mosminin/datasets/COCO2017/coco2017_all_classes/raw/image_info_test2017.json'\n"
     ]
    },
    {
     "name": "stderr",
     "output_type": "stream",
     "text": [
      "INFO:fiftyone.utils.coco:Found test info at '/home/mosminin/datasets/COCO2017/coco2017_all_classes/raw/image_info_test2017.json'\n"
     ]
    },
    {
     "name": "stdout",
     "output_type": "stream",
     "text": [
      "Images already downloaded\n"
     ]
    },
    {
     "name": "stderr",
     "output_type": "stream",
     "text": [
      "INFO:fiftyone.utils.coco:Images already downloaded\n"
     ]
    },
    {
     "name": "stdout",
     "output_type": "stream",
     "text": [
      "Existing download of split 'test' is sufficient\n"
     ]
    },
    {
     "name": "stderr",
     "output_type": "stream",
     "text": [
      "INFO:fiftyone.zoo.datasets:Existing download of split 'test' is sufficient\n"
     ]
    },
    {
     "name": "stdout",
     "output_type": "stream",
     "text": [
      "Ignoring unsupported parameter 'dataset_type' for importer type <class 'fiftyone.utils.coco.COCODetectionDatasetImporter'>\n"
     ]
    },
    {
     "name": "stderr",
     "output_type": "stream",
     "text": [
      "WARNING:fiftyone.zoo.datasets:Ignoring unsupported parameter 'dataset_type' for importer type <class 'fiftyone.utils.coco.COCODetectionDatasetImporter'>\n"
     ]
    },
    {
     "name": "stdout",
     "output_type": "stream",
     "text": [
      "Deleting existing dataset 'coco_person'\n"
     ]
    },
    {
     "name": "stderr",
     "output_type": "stream",
     "text": [
      "INFO:fiftyone.zoo.datasets:Deleting existing dataset 'coco_person'\n"
     ]
    },
    {
     "name": "stdout",
     "output_type": "stream",
     "text": [
      "Loading 'coco-2017' split 'train'\n"
     ]
    },
    {
     "name": "stderr",
     "output_type": "stream",
     "text": [
      "INFO:fiftyone.zoo.datasets:Loading 'coco-2017' split 'train'\n"
     ]
    },
    {
     "name": "stdout",
     "output_type": "stream",
     "text": [
      " 100% |███████████| 117266/117266 [5.7m elapsed, 0s remaining, 417.1 samples/s]      \n"
     ]
    },
    {
     "name": "stderr",
     "output_type": "stream",
     "text": [
      "INFO:eta.core.utils: 100% |███████████| 117266/117266 [5.7m elapsed, 0s remaining, 417.1 samples/s]      \n"
     ]
    },
    {
     "name": "stdout",
     "output_type": "stream",
     "text": [
      "Loading 'coco-2017' split 'validation'\n"
     ]
    },
    {
     "name": "stderr",
     "output_type": "stream",
     "text": [
      "INFO:fiftyone.zoo.datasets:Loading 'coco-2017' split 'validation'\n"
     ]
    },
    {
     "name": "stdout",
     "output_type": "stream",
     "text": [
      " 100% |███████████████| 4952/4952 [12.6s elapsed, 0s remaining, 372.6 samples/s]      \n"
     ]
    },
    {
     "name": "stderr",
     "output_type": "stream",
     "text": [
      "INFO:eta.core.utils: 100% |███████████████| 4952/4952 [12.6s elapsed, 0s remaining, 372.6 samples/s]      \n"
     ]
    },
    {
     "name": "stdout",
     "output_type": "stream",
     "text": [
      "Loading 'coco-2017' split 'test'\n"
     ]
    },
    {
     "name": "stderr",
     "output_type": "stream",
     "text": [
      "INFO:fiftyone.zoo.datasets:Loading 'coco-2017' split 'test'\n"
     ]
    },
    {
     "name": "stdout",
     "output_type": "stream",
     "text": [
      "Dataset is unlabeled; ignoring classes requirement\n"
     ]
    },
    {
     "name": "stderr",
     "output_type": "stream",
     "text": [
      "WARNING:fiftyone.utils.coco:Dataset is unlabeled; ignoring classes requirement\n"
     ]
    },
    {
     "name": "stdout",
     "output_type": "stream",
     "text": [
      " 100% |█████████████| 40670/40670 [6.3s elapsed, 0s remaining, 6.7K samples/s]       \n"
     ]
    },
    {
     "name": "stderr",
     "output_type": "stream",
     "text": [
      "INFO:eta.core.utils: 100% |█████████████| 40670/40670 [6.3s elapsed, 0s remaining, 6.7K samples/s]       \n"
     ]
    },
    {
     "name": "stdout",
     "output_type": "stream",
     "text": [
      "Dataset 'coco_person' created\n"
     ]
    },
    {
     "name": "stderr",
     "output_type": "stream",
     "text": [
      "INFO:fiftyone.zoo.datasets:Dataset 'coco_person' created\n"
     ]
    }
   ],
   "source": [
    "if not safety_trigger:\n",
    "    # Выполнение кода грохнет текущий датасет и начнёт долгое скачивание заново!\n",
    "    dataset = foz.load_zoo_dataset(\n",
    "        \"coco-2017\",\n",
    "        splits=[\"train\", \"validation\", \"test\"],\n",
    "        dataset_dir=coco_dataset_dir,\n",
    "        dataset_name=dataset_name,\n",
    "        dataset_type=fo.types.COCODetectionDataset,\n",
    "        classes=COCO_CLASSES,\n",
    "        drop_existing_dataset=True,\n",
    "        # only_matching=False,\n",
    "        shuffle=True,\n",
    "        # max_samples=1000\n",
    "    )\n",
    "    safety_trigger = True\n",
    "else:\n",
    "    print('Check safety trigger!')"
   ],
   "metadata": {
    "collapsed": false
   }
  },
  {
   "cell_type": "markdown",
   "source": [
    "## ПООЧЕРЁДНО ЗАГРУЖАЕМ КАЖДЫЙ СПЛИТ И ЭКСПОРТИРУЕМ В СООТВЕТСТВУЮЩУЮ ПАПКУ"
   ],
   "metadata": {
    "collapsed": false
   }
  },
  {
   "cell_type": "code",
   "execution_count": 46,
   "outputs": [],
   "source": [
    "dataset = fo.load_dataset(dataset_name)"
   ],
   "metadata": {
    "collapsed": false
   }
  },
  {
   "cell_type": "code",
   "execution_count": 47,
   "outputs": [
    {
     "name": "stderr",
     "output_type": "stream",
     "text": [
      "INFO:root:export_dir=PosixPath('/home/mosminin/datasets/COCO2017/coco2017_yolov4_person/train')\n"
     ]
    },
    {
     "name": "stdout",
     "output_type": "stream",
     "text": [
      " 100% |███████████| 117266/117266 [3.5m elapsed, 0s remaining, 605.1 samples/s]       \n"
     ]
    },
    {
     "name": "stderr",
     "output_type": "stream",
     "text": [
      "INFO:eta.core.utils: 100% |███████████| 117266/117266 [3.5m elapsed, 0s remaining, 605.1 samples/s]       \n",
      "DEBUG:root:split_path=PosixPath('/home/mosminin/datasets/COCO2017/coco2017_yolov4_person/train')\n",
      "DEBUG:root:data_path=PosixPath('/home/mosminin/datasets/COCO2017/coco2017_yolov4_person/train/data')\n",
      "INFO:root:/home/mosminin/datasets/COCO2017/coco2017_yolov4_person/train/obj.names is deleted\n",
      "INFO:root:/home/mosminin/datasets/COCO2017/coco2017_yolov4_person/train/images.txt is deleted\n",
      "INFO:root:Reading all files in data_path to file_list\n"
     ]
    },
    {
     "data": {
      "text/plain": "  0%|          | 0/117266 [00:00<?, ?it/s]",
      "application/vnd.jupyter.widget-view+json": {
       "version_major": 2,
       "version_minor": 0,
       "model_id": "dd5b48cb49ae443e80c69e15784ed426"
      }
     },
     "metadata": {},
     "output_type": "display_data"
    },
    {
     "name": "stderr",
     "output_type": "stream",
     "text": [
      "INFO:root:Writing file_list to annotations file\n"
     ]
    },
    {
     "data": {
      "text/plain": "  0%|          | 0/117266 [00:00<?, ?it/s]",
      "application/vnd.jupyter.widget-view+json": {
       "version_major": 2,
       "version_minor": 0,
       "model_id": "ed3af0e07c424e969466fc19f35bd9c6"
      }
     },
     "metadata": {},
     "output_type": "display_data"
    },
    {
     "name": "stderr",
     "output_type": "stream",
     "text": [
      "INFO:root:export_dir=PosixPath('/home/mosminin/datasets/COCO2017/coco2017_yolov4_person/valid')\n"
     ]
    },
    {
     "name": "stdout",
     "output_type": "stream",
     "text": [
      " 100% |███████████████| 4952/4952 [9.1s elapsed, 0s remaining, 622.7 samples/s]      \n"
     ]
    },
    {
     "name": "stderr",
     "output_type": "stream",
     "text": [
      "INFO:eta.core.utils: 100% |███████████████| 4952/4952 [9.1s elapsed, 0s remaining, 622.7 samples/s]      \n",
      "DEBUG:root:split_path=PosixPath('/home/mosminin/datasets/COCO2017/coco2017_yolov4_person/valid')\n",
      "DEBUG:root:data_path=PosixPath('/home/mosminin/datasets/COCO2017/coco2017_yolov4_person/valid/data')\n",
      "INFO:root:/home/mosminin/datasets/COCO2017/coco2017_yolov4_person/valid/obj.names is deleted\n",
      "INFO:root:/home/mosminin/datasets/COCO2017/coco2017_yolov4_person/valid/images.txt is deleted\n",
      "INFO:root:Reading all files in data_path to file_list\n"
     ]
    },
    {
     "data": {
      "text/plain": "  0%|          | 0/4952 [00:00<?, ?it/s]",
      "application/vnd.jupyter.widget-view+json": {
       "version_major": 2,
       "version_minor": 0,
       "model_id": "491f15c431094edcb6ddcb87cabbea99"
      }
     },
     "metadata": {},
     "output_type": "display_data"
    },
    {
     "name": "stderr",
     "output_type": "stream",
     "text": [
      "INFO:root:Writing file_list to annotations file\n"
     ]
    },
    {
     "data": {
      "text/plain": "  0%|          | 0/4952 [00:00<?, ?it/s]",
      "application/vnd.jupyter.widget-view+json": {
       "version_major": 2,
       "version_minor": 0,
       "model_id": "ad2c3d6a65bd465683b925b43f04644d"
      }
     },
     "metadata": {},
     "output_type": "display_data"
    },
    {
     "name": "stderr",
     "output_type": "stream",
     "text": [
      "INFO:root:export_dir=PosixPath('/home/mosminin/datasets/COCO2017/coco2017_yolov4_person/test')\n"
     ]
    },
    {
     "name": "stdout",
     "output_type": "stream",
     "text": [
      " 100% |█████████████| 40670/40670 [33.9s elapsed, 0s remaining, 1.8K samples/s]       \n"
     ]
    },
    {
     "name": "stderr",
     "output_type": "stream",
     "text": [
      "INFO:eta.core.utils: 100% |█████████████| 40670/40670 [33.9s elapsed, 0s remaining, 1.8K samples/s]       \n",
      "DEBUG:root:split_path=PosixPath('/home/mosminin/datasets/COCO2017/coco2017_yolov4_person/test')\n",
      "DEBUG:root:data_path=PosixPath('/home/mosminin/datasets/COCO2017/coco2017_yolov4_person/test/data')\n",
      "INFO:root:/home/mosminin/datasets/COCO2017/coco2017_yolov4_person/test/obj.names is deleted\n",
      "INFO:root:/home/mosminin/datasets/COCO2017/coco2017_yolov4_person/test/images.txt is deleted\n",
      "INFO:root:Reading all files in data_path to file_list\n"
     ]
    },
    {
     "data": {
      "text/plain": "  0%|          | 0/40670 [00:00<?, ?it/s]",
      "application/vnd.jupyter.widget-view+json": {
       "version_major": 2,
       "version_minor": 0,
       "model_id": "ccc18bebd16442f68917e39714d92922"
      }
     },
     "metadata": {},
     "output_type": "display_data"
    },
    {
     "name": "stderr",
     "output_type": "stream",
     "text": [
      "INFO:root:Writing file_list to annotations file\n"
     ]
    },
    {
     "data": {
      "text/plain": "  0%|          | 0/40670 [00:00<?, ?it/s]",
      "application/vnd.jupyter.widget-view+json": {
       "version_major": 2,
       "version_minor": 0,
       "model_id": "6fdc1f5675a7498cba58714923b198dc"
      }
     },
     "metadata": {},
     "output_type": "display_data"
    }
   ],
   "source": [
    "import shutil\n",
    "from tqdm.notebook import tqdm\n",
    "from pathlib import Path\n",
    "from time import sleep\n",
    "\n",
    "splits = ['train', 'validation', 'test'] # Splits for export\n",
    "paths = {}\n",
    "\n",
    "for split in splits:\n",
    "    split_view = dataset.match_tags(split)\n",
    "    if split == 'validation':\n",
    "        split = 'valid'  # For Yolo compatibility\n",
    "    export_dir = Path(os.path.join(yolov4_export_dir, split))\n",
    "    logging.info(f'{export_dir=}')\n",
    "    split_view.export(\n",
    "        export_dir=str(export_dir),\n",
    "        dataset_type=fo.types.YOLOv4Dataset,\n",
    "        label_field=label_field,\n",
    "        classes=TARGET_CLASSES,\n",
    "    )\n",
    "\n",
    "    yolov4_export_dir = Path(yolov4_export_dir)\n",
    "    split_path = Path(os.path.join(yolov4_export_dir, split))\n",
    "    data_path = Path(os.path.join(yolov4_export_dir, split,'data'))  # Abs path\n",
    "    logging.debug(f'{split_path=}')\n",
    "    logging.debug(f'{data_path=}')\n",
    "\n",
    "    for file_path in split_path.glob('*'):\n",
    "        if file_path.is_dir():\n",
    "            continue\n",
    "        file_path.unlink()\n",
    "        logging.info(f'{file_path} is deleted')\n",
    "\n",
    "    # Читаем все .jpg файлы в /data\n",
    "    logging.info(f'Reading all files in data_path to file_list')\n",
    "    file_list = []\n",
    "    for file_path in tqdm(list(data_path.glob('*.jpg'))):\n",
    "        file_list.append(str(file_path.resolve()))\n",
    "\n",
    "\n",
    "\n",
    "    # Записываем список файлов в {split}.txt\n",
    "    logging.info(f'Writing file_list to annotations file')\n",
    "    annotations_file = yolov4_export_dir / f'{split}.txt'\n",
    "    with open(annotations_file, 'w') as f:\n",
    "        for file_path in tqdm(file_list):\n",
    "            # print(f'{file_path=}')\n",
    "            f.write(file_path+'\\n')\n",
    "\n",
    "    # Добавляем пути к сплитам в словарь\n",
    "    paths[split] = str(annotations_file)\n",
    "\n",
    "\n",
    "\n",
    "\n",
    "num_classes = len(TARGET_CLASSES)\n",
    "classes_file_name = yolov4_export_dir / 'obj.names'\n",
    "data_file_name = yolov4_export_dir / 'obj.data'\n",
    "backup_dir_name = yolov4_export_dir / 'backup'\n",
    "\n",
    "# Создать папку backup\n",
    "backup_dir_name.mkdir(parents=True, exist_ok=True)\n",
    "paths['backup'] = str(backup_dir_name)\n",
    "\n",
    "# Сформировать obj.names и obj.data\n",
    "\n",
    "with open(classes_file_name, \"w\") as f:\n",
    "    for name in TARGET_CLASSES:\n",
    "        f.write(name)\n",
    "\n",
    "with open(data_file_name, \"w\") as f:\n",
    "    # Добавить в obj.data кол-во классов, пути на аннотации и бэкап\n",
    "    f.write(f'classes = {num_classes}\\n')\n",
    "    for key, value in paths.items():\n",
    "        f.write(f'{key} = {value}\\n')\n",
    "    f.write(f'names = {classes_file_name}\\n')\n",
    "\n",
    "\n"
   ],
   "metadata": {
    "collapsed": false
   }
  },
  {
   "cell_type": "code",
   "execution_count": null,
   "outputs": [],
   "source": [],
   "metadata": {
    "collapsed": false
   }
  },
  {
   "cell_type": "markdown",
   "source": [
    "## СКРИПТ ДЛЯ РАСПРЕДЕЛЕНИЯ ДАТАСЕТА\n",
    "\n",
    "- dataset   - valid - .jpg / .txt\n",
    "            - train - .jpg / .txt\n",
    "            - test  - .jpg\n",
    "\n",
    "    - Для каждой папки перебрать .jpg и составить список train/valid/test.txt\n",
    "    - Файлы со списками сохранить в dataset\n",
    "    - В dataset папку backup\n",
    "    - В dataset создать файл obj.data:\n",
    "        classes =   {кол-во_классов}\n",
    "        train =     {абсолютный пусть до train.txt}\n",
    "        valid =     ...\n",
    "        names =     {абсолютный пусть до obj.names}\n",
    "        backup =    {абсолютный пусть до папки backup}"
   ],
   "metadata": {
    "collapsed": false
   }
  },
  {
   "cell_type": "code",
   "execution_count": null,
   "outputs": [],
   "source": [],
   "metadata": {
    "collapsed": false
   }
  },
  {
   "cell_type": "markdown",
   "source": [
    "# БЭКАПИЛКА"
   ],
   "metadata": {
    "collapsed": false
   }
  },
  {
   "cell_type": "code",
   "execution_count": null,
   "outputs": [],
   "source": [
    "import os\n",
    "import time\n",
    "import tarfile\n",
    "\n",
    "def make_archive(dir_path):\n",
    "    now = time.strftime('%Y_%m_%d_%H%M%S')\n",
    "    archive_name = f'{dir_path}_{now}.tar'\n",
    "    i = 0\n",
    "    while os.path.exists(archive_name):\n",
    "        i += 1\n",
    "        archive_name = f'{dir_path}_{now}_{i}.tar'\n",
    "    with tarfile.open(archive_name, 'w') as archive:\n",
    "        archive.add(dir_path, arcname=os.path.basename(dir_path), mode='a')"
   ],
   "metadata": {
    "collapsed": false
   }
  }
 ],
 "metadata": {
  "kernelspec": {
   "display_name": "Python 3",
   "language": "python",
   "name": "python3"
  },
  "language_info": {
   "codemirror_mode": {
    "name": "ipython",
    "version": 2
   },
   "file_extension": ".py",
   "mimetype": "text/x-python",
   "name": "python",
   "nbconvert_exporter": "python",
   "pygments_lexer": "ipython2",
   "version": "2.7.6"
  }
 },
 "nbformat": 4,
 "nbformat_minor": 0
}
